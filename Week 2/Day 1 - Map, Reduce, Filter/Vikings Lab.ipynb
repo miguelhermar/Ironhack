{
 "cells": [
  {
   "cell_type": "code",
   "execution_count": 1,
   "id": "cd051f32",
   "metadata": {},
   "outputs": [],
   "source": [
    "from Players import Soldier, Viking, Saxon, War"
   ]
  },
  {
   "cell_type": "code",
   "execution_count": 2,
   "id": "ebaf815d",
   "metadata": {},
   "outputs": [],
   "source": [
    "soldier = Soldier(4, 6)"
   ]
  },
  {
   "cell_type": "code",
   "execution_count": 3,
   "id": "6ea51d64",
   "metadata": {},
   "outputs": [
    {
     "data": {
      "text/plain": [
       "6"
      ]
     },
     "execution_count": 3,
     "metadata": {},
     "output_type": "execute_result"
    }
   ],
   "source": [
    "soldier.attack()"
   ]
  },
  {
   "cell_type": "code",
   "execution_count": 4,
   "id": "031b0b1d",
   "metadata": {},
   "outputs": [
    {
     "name": "stdout",
     "output_type": "stream",
     "text": [
      "6\n"
     ]
    }
   ],
   "source": [
    "print(soldier.strength)"
   ]
  },
  {
   "cell_type": "code",
   "execution_count": 5,
   "id": "d4401b5a",
   "metadata": {},
   "outputs": [],
   "source": [
    "soldier.receive_damage(4)"
   ]
  },
  {
   "cell_type": "code",
   "execution_count": 6,
   "id": "a564a259",
   "metadata": {},
   "outputs": [],
   "source": [
    "# Viking\n",
    "\n",
    "vk1 = Viking(\"Bob\", 5, 7)"
   ]
  },
  {
   "cell_type": "code",
   "execution_count": 7,
   "id": "c11e73cc",
   "metadata": {},
   "outputs": [
    {
     "data": {
      "text/plain": [
       "'Bob'"
      ]
     },
     "execution_count": 7,
     "metadata": {},
     "output_type": "execute_result"
    }
   ],
   "source": [
    "vk1.name"
   ]
  },
  {
   "cell_type": "code",
   "execution_count": 8,
   "id": "46ddb86d",
   "metadata": {},
   "outputs": [
    {
     "name": "stdout",
     "output_type": "stream",
     "text": [
      "5\n"
     ]
    }
   ],
   "source": [
    "print(vk1.health)"
   ]
  },
  {
   "cell_type": "code",
   "execution_count": 9,
   "id": "1b0172d7",
   "metadata": {},
   "outputs": [
    {
     "data": {
      "text/plain": [
       "'Odin Owns You All!'"
      ]
     },
     "execution_count": 9,
     "metadata": {},
     "output_type": "execute_result"
    }
   ],
   "source": [
    "vk1.battle_cries()"
   ]
  },
  {
   "cell_type": "code",
   "execution_count": 10,
   "id": "29c9cd22",
   "metadata": {},
   "outputs": [
    {
     "data": {
      "text/plain": [
       "'Bob has received 4 points of damage.'"
      ]
     },
     "execution_count": 10,
     "metadata": {},
     "output_type": "execute_result"
    }
   ],
   "source": [
    "vk1.receive_damage(4)"
   ]
  },
  {
   "cell_type": "code",
   "execution_count": 11,
   "id": "75ff7a71",
   "metadata": {},
   "outputs": [
    {
     "data": {
      "text/plain": [
       "'Bob has died in act of combat.'"
      ]
     },
     "execution_count": 11,
     "metadata": {},
     "output_type": "execute_result"
    }
   ],
   "source": [
    "vk1.receive_damage(2)"
   ]
  },
  {
   "cell_type": "code",
   "execution_count": 12,
   "id": "59b46a9a",
   "metadata": {},
   "outputs": [],
   "source": [
    "# Saxon\n",
    "\n",
    "sax = Saxon(8, 1)"
   ]
  },
  {
   "cell_type": "code",
   "execution_count": 13,
   "id": "b093f5ca",
   "metadata": {},
   "outputs": [
    {
     "data": {
      "text/plain": [
       "1"
      ]
     },
     "execution_count": 13,
     "metadata": {},
     "output_type": "execute_result"
    }
   ],
   "source": [
    "sax.strength"
   ]
  },
  {
   "cell_type": "code",
   "execution_count": 14,
   "id": "918cd5a4",
   "metadata": {},
   "outputs": [
    {
     "data": {
      "text/plain": [
       "'A Saxon has received 4 points of damage.'"
      ]
     },
     "execution_count": 14,
     "metadata": {},
     "output_type": "execute_result"
    }
   ],
   "source": [
    "sax.receive_damage(4)"
   ]
  },
  {
   "cell_type": "code",
   "execution_count": 15,
   "id": "7239f354",
   "metadata": {},
   "outputs": [
    {
     "data": {
      "text/plain": [
       "'A Saxon has died in combat.'"
      ]
     },
     "execution_count": 15,
     "metadata": {},
     "output_type": "execute_result"
    }
   ],
   "source": [
    "sax.receive_damage(5)"
   ]
  },
  {
   "cell_type": "code",
   "execution_count": 16,
   "id": "60da4311",
   "metadata": {},
   "outputs": [],
   "source": [
    "# War\n",
    "\n",
    "war = War()"
   ]
  },
  {
   "cell_type": "code",
   "execution_count": 17,
   "id": "c3b9e710",
   "metadata": {},
   "outputs": [],
   "source": [
    "Barny = war.add_viking(Viking(\"Barny\", 3, 4))\n",
    "Barny2 = war.add_viking(Viking(\"Barny2\", 4, 5))\n",
    "Barny3 = war.add_viking(Viking(\"Barny3\", 5, 7))"
   ]
  },
  {
   "cell_type": "code",
   "execution_count": 18,
   "id": "b38c49ae",
   "metadata": {},
   "outputs": [],
   "source": [
    "sax2 = war.add_saxon(Saxon(8, 1))\n",
    "sax3 = war.add_saxon(Saxon(7, 3))\n",
    "Pepe = war.add_saxon(Saxon(6, 7))"
   ]
  },
  {
   "cell_type": "code",
   "execution_count": 19,
   "id": "b13beb0d",
   "metadata": {},
   "outputs": [
    {
     "name": "stdout",
     "output_type": "stream",
     "text": [
      "Vikings have won the war of the century!\n"
     ]
    }
   ],
   "source": [
    "while True:\n",
    "    \n",
    "    if not war.viking_army:\n",
    "        print(war.show_status())\n",
    "        break\n",
    "    \n",
    "    war.viking_attack()\n",
    "    \n",
    "    if not war.saxon_army:\n",
    "        print(war.show_status())\n",
    "        break \n",
    "         \n",
    "    war.saxon_attack()"
   ]
  }
 ],
 "metadata": {
  "kernelspec": {
   "display_name": "Python 3 (ipykernel)",
   "language": "python",
   "name": "python3"
  },
  "language_info": {
   "codemirror_mode": {
    "name": "ipython",
    "version": 3
   },
   "file_extension": ".py",
   "mimetype": "text/x-python",
   "name": "python",
   "nbconvert_exporter": "python",
   "pygments_lexer": "ipython3",
   "version": "3.9.12"
  }
 },
 "nbformat": 4,
 "nbformat_minor": 5
}
