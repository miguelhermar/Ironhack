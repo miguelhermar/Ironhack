{
 "cells": [
  {
   "cell_type": "markdown",
   "id": "8dbfccd9",
   "metadata": {},
   "source": [
    "1. Import the NUMPY package under the name np."
   ]
  },
  {
   "cell_type": "code",
   "execution_count": 265,
   "id": "f3fd5c16",
   "metadata": {},
   "outputs": [],
   "source": [
    "import numpy as np"
   ]
  },
  {
   "cell_type": "markdown",
   "id": "a505139c",
   "metadata": {},
   "source": [
    "2. Print the NUMPY version and the configuration.\n"
   ]
  },
  {
   "cell_type": "code",
   "execution_count": 266,
   "id": "61181ac8",
   "metadata": {},
   "outputs": [
    {
     "name": "stdout",
     "output_type": "stream",
     "text": [
      "1.21.5\n",
      "\n",
      "\n",
      "blas_mkl_info:\n",
      "    libraries = ['mkl_rt', 'pthread']\n",
      "    library_dirs = ['/opt/anaconda3/lib']\n",
      "    define_macros = [('SCIPY_MKL_H', None), ('HAVE_CBLAS', None)]\n",
      "    include_dirs = ['/opt/anaconda3/include']\n",
      "blas_opt_info:\n",
      "    libraries = ['mkl_rt', 'pthread']\n",
      "    library_dirs = ['/opt/anaconda3/lib']\n",
      "    define_macros = [('SCIPY_MKL_H', None), ('HAVE_CBLAS', None)]\n",
      "    include_dirs = ['/opt/anaconda3/include']\n",
      "lapack_mkl_info:\n",
      "    libraries = ['mkl_rt', 'pthread']\n",
      "    library_dirs = ['/opt/anaconda3/lib']\n",
      "    define_macros = [('SCIPY_MKL_H', None), ('HAVE_CBLAS', None)]\n",
      "    include_dirs = ['/opt/anaconda3/include']\n",
      "lapack_opt_info:\n",
      "    libraries = ['mkl_rt', 'pthread']\n",
      "    library_dirs = ['/opt/anaconda3/lib']\n",
      "    define_macros = [('SCIPY_MKL_H', None), ('HAVE_CBLAS', None)]\n",
      "    include_dirs = ['/opt/anaconda3/include']\n",
      "Supported SIMD extensions in this NumPy install:\n",
      "    baseline = SSE,SSE2,SSE3\n",
      "    found = SSSE3,SSE41,POPCNT,SSE42,AVX,F16C\n",
      "    not found = FMA3,AVX2,AVX512F,AVX512CD,AVX512_KNL,AVX512_SKX,AVX512_CLX,AVX512_CNL,AVX512_ICL\n",
      "None\n"
     ]
    }
   ],
   "source": [
    "print(np.__version__)\n",
    "print('\\n')\n",
    "print(np.show_config())"
   ]
  },
  {
   "cell_type": "markdown",
   "id": "26eed280",
   "metadata": {},
   "source": [
    "3. Generate a 2x3x5 3-dimensional array with random values. Assign the array to variable \"a\"\n",
    "\n",
    "Challenge: there are at least three easy ways that use numpy to generate random arrays. How many ways can you find?\n",
    "\n",
    "Print \"a\""
   ]
  },
  {
   "cell_type": "code",
   "execution_count": 267,
   "id": "4ba36047",
   "metadata": {},
   "outputs": [
    {
     "data": {
      "text/plain": [
       "array([[[0.99665841, 0.552931  , 0.52070901, 0.78768825, 0.67412132],\n",
       "        [0.32966582, 0.57417981, 0.52747982, 0.90371323, 0.15955118],\n",
       "        [0.60705447, 0.38409249, 0.67032439, 0.91742513, 0.33659867]],\n",
       "\n",
       "       [[0.61324459, 0.90408711, 0.55483498, 0.39226963, 0.37320384],\n",
       "        [0.07950703, 0.63165332, 0.55555772, 0.55285246, 0.16555962],\n",
       "        [0.50018442, 0.42438761, 0.35723476, 0.84606598, 0.08612657]]])"
      ]
     },
     "execution_count": 267,
     "metadata": {},
     "output_type": "execute_result"
    }
   ],
   "source": [
    "# random: numbers from 0 to 1\n",
    "\n",
    "a = np.random.random((2, 3, 5))\n",
    "a"
   ]
  },
  {
   "cell_type": "code",
   "execution_count": 268,
   "id": "b1d235e2",
   "metadata": {},
   "outputs": [
    {
     "data": {
      "text/plain": [
       "array([[[0.83424894, 0.9272398 , 0.10878075, 0.08448082, 0.49681675],\n",
       "        [0.30142718, 0.80063634, 0.37881555, 0.82319205, 0.5073814 ],\n",
       "        [0.13294129, 0.15662101, 0.32795335, 0.42556653, 0.11073411]],\n",
       "\n",
       "       [[0.37813405, 0.97093494, 0.93247813, 0.81667572, 0.96406213],\n",
       "        [0.19544464, 0.08704708, 0.51558505, 0.145718  , 0.41404777],\n",
       "        [0.74020229, 0.44676258, 0.93609888, 0.24083954, 0.22128828]]])"
      ]
     },
     "execution_count": 268,
     "metadata": {},
     "output_type": "execute_result"
    }
   ],
   "source": [
    "# rand: returns a random float between 0 and 1\n",
    "\n",
    "a = np.random.rand(2,3,5)\n",
    "a"
   ]
  },
  {
   "cell_type": "code",
   "execution_count": 269,
   "id": "1b4eb8f5",
   "metadata": {},
   "outputs": [
    {
     "data": {
      "text/plain": [
       "array([[[-0.59628927,  1.53847235, -0.3564266 , -1.5476149 ,\n",
       "         -1.42940402],\n",
       "        [-0.69444811,  0.49081733, -0.66683114,  0.0091239 ,\n",
       "         -2.9066596 ],\n",
       "        [ 1.25022255,  0.63564529, -0.20988564,  1.49652553,\n",
       "         -0.08077758]],\n",
       "\n",
       "       [[-0.27790183,  0.4137088 , -0.40535751,  0.30201753,\n",
       "          1.87269816],\n",
       "        [-0.28076194, -0.14153888,  0.30856731,  0.05766454,\n",
       "         -1.44658679],\n",
       "        [ 0.30044132, -0.5977828 ,  1.49022093,  0.84060214,\n",
       "          2.22762517]]])"
      ]
     },
     "execution_count": 269,
     "metadata": {},
     "output_type": "execute_result"
    }
   ],
   "source": [
    "## randn 3-dimensional array of random values\n",
    "\n",
    "a = np.random.randn(2,3,5)\n",
    "a"
   ]
  },
  {
   "cell_type": "markdown",
   "id": "795268c9",
   "metadata": {},
   "source": [
    "5. Create a 5x2x3 3-dimensional array with all values equaling 1.\n",
    "\n",
    "Assign the array to variable \"b\"\n",
    "\n",
    "Print \"b\""
   ]
  },
  {
   "cell_type": "code",
   "execution_count": 270,
   "id": "ae851490",
   "metadata": {},
   "outputs": [
    {
     "data": {
      "text/plain": [
       "array([[[1., 1., 1.],\n",
       "        [1., 1., 1.]],\n",
       "\n",
       "       [[1., 1., 1.],\n",
       "        [1., 1., 1.]],\n",
       "\n",
       "       [[1., 1., 1.],\n",
       "        [1., 1., 1.]],\n",
       "\n",
       "       [[1., 1., 1.],\n",
       "        [1., 1., 1.]],\n",
       "\n",
       "       [[1., 1., 1.],\n",
       "        [1., 1., 1.]]])"
      ]
     },
     "execution_count": 270,
     "metadata": {},
     "output_type": "execute_result"
    }
   ],
   "source": [
    "b = np.ones((5,2,3))\n",
    "b"
   ]
  },
  {
   "cell_type": "markdown",
   "id": "8b2c7273",
   "metadata": {},
   "source": [
    "7. Do a and b have the same size? How do you prove that in Python code?"
   ]
  },
  {
   "cell_type": "code",
   "execution_count": 271,
   "id": "e0d2bea9",
   "metadata": {},
   "outputs": [
    {
     "data": {
      "text/plain": [
       "True"
      ]
     },
     "execution_count": 271,
     "metadata": {},
     "output_type": "execute_result"
    }
   ],
   "source": [
    "a.size == b.size"
   ]
  },
  {
   "cell_type": "markdown",
   "id": "9aaaa6ea",
   "metadata": {},
   "source": [
    "8. Are you able to add a and b? Why or why not?"
   ]
  },
  {
   "cell_type": "code",
   "execution_count": 272,
   "id": "431bc3c6",
   "metadata": {},
   "outputs": [
    {
     "ename": "ValueError",
     "evalue": "operands could not be broadcast together with shapes (2,3,5) (5,2,3) ",
     "output_type": "error",
     "traceback": [
      "\u001b[0;31m---------------------------------------------------------------------------\u001b[0m",
      "\u001b[0;31mValueError\u001b[0m                                Traceback (most recent call last)",
      "Input \u001b[0;32mIn [272]\u001b[0m, in \u001b[0;36m<cell line: 1>\u001b[0;34m()\u001b[0m\n\u001b[0;32m----> 1\u001b[0m \u001b[43mnp\u001b[49m\u001b[38;5;241;43m.\u001b[39;49m\u001b[43madd\u001b[49m\u001b[43m(\u001b[49m\u001b[43ma\u001b[49m\u001b[43m,\u001b[49m\u001b[43mb\u001b[49m\u001b[43m)\u001b[49m\n",
      "\u001b[0;31mValueError\u001b[0m: operands could not be broadcast together with shapes (2,3,5) (5,2,3) "
     ]
    }
   ],
   "source": [
    "np.add(a,b)"
   ]
  },
  {
   "cell_type": "code",
   "execution_count": 273,
   "id": "39fabc38",
   "metadata": {},
   "outputs": [
    {
     "data": {
      "text/plain": [
       "array([[[ 0.40371073,  2.53847235,  0.6435734 , -0.5476149 ,\n",
       "         -0.42940402],\n",
       "        [ 0.30555189,  1.49081733,  0.33316886,  1.0091239 ,\n",
       "         -1.9066596 ],\n",
       "        [ 2.25022255,  1.63564529,  0.79011436,  2.49652553,\n",
       "          0.91922242]],\n",
       "\n",
       "       [[ 0.72209817,  1.4137088 ,  0.59464249,  1.30201753,\n",
       "          2.87269816],\n",
       "        [ 0.71923806,  0.85846112,  1.30856731,  1.05766454,\n",
       "         -0.44658679],\n",
       "        [ 1.30044132,  0.4022172 ,  2.49022093,  1.84060214,\n",
       "          3.22762517]]])"
      ]
     },
     "execution_count": 273,
     "metadata": {},
     "output_type": "execute_result"
    }
   ],
   "source": [
    "## We get an Error when trying to add arrays with different shapes:\n",
    "## \"ValueError: operands could not be broadcast together with shapes (2,3,5) (5,2,3)\"\n",
    "\n",
    "## In order for the operation to work we could reshape one of the arrays\n",
    "np.add(a,b.reshape(2,3,5))"
   ]
  },
  {
   "cell_type": "markdown",
   "id": "05796d2e",
   "metadata": {},
   "source": [
    "Transpose b so that it has the same structure of a (i.e. become a 2x3x5 array). Assign the transposed array to variable \"c\""
   ]
  },
  {
   "cell_type": "code",
   "execution_count": 274,
   "id": "3caea00d",
   "metadata": {},
   "outputs": [
    {
     "data": {
      "text/plain": [
       "array([[[1., 1., 1., 1., 1.],\n",
       "        [1., 1., 1., 1., 1.],\n",
       "        [1., 1., 1., 1., 1.]],\n",
       "\n",
       "       [[1., 1., 1., 1., 1.],\n",
       "        [1., 1., 1., 1., 1.],\n",
       "        [1., 1., 1., 1., 1.]]])"
      ]
     },
     "execution_count": 274,
     "metadata": {},
     "output_type": "execute_result"
    }
   ],
   "source": [
    "c = np.transpose(b, (1,2,0))\n",
    "c"
   ]
  },
  {
   "cell_type": "code",
   "execution_count": 275,
   "id": "085fc0ae",
   "metadata": {},
   "outputs": [
    {
     "data": {
      "text/plain": [
       "(2, 3, 5)"
      ]
     },
     "execution_count": 275,
     "metadata": {},
     "output_type": "execute_result"
    }
   ],
   "source": [
    "c.shape"
   ]
  },
  {
   "cell_type": "markdown",
   "id": "503579b4",
   "metadata": {},
   "source": [
    "10. Try to add a and c. Now it should work. Assign the sum to variable \"d\". But why does it work now?"
   ]
  },
  {
   "cell_type": "code",
   "execution_count": 276,
   "id": "5dcce855",
   "metadata": {},
   "outputs": [
    {
     "data": {
      "text/plain": [
       "array([[[ 0.40371073,  2.53847235,  0.6435734 , -0.5476149 ,\n",
       "         -0.42940402],\n",
       "        [ 0.30555189,  1.49081733,  0.33316886,  1.0091239 ,\n",
       "         -1.9066596 ],\n",
       "        [ 2.25022255,  1.63564529,  0.79011436,  2.49652553,\n",
       "          0.91922242]],\n",
       "\n",
       "       [[ 0.72209817,  1.4137088 ,  0.59464249,  1.30201753,\n",
       "          2.87269816],\n",
       "        [ 0.71923806,  0.85846112,  1.30856731,  1.05766454,\n",
       "         -0.44658679],\n",
       "        [ 1.30044132,  0.4022172 ,  2.49022093,  1.84060214,\n",
       "          3.22762517]]])"
      ]
     },
     "execution_count": 276,
     "metadata": {},
     "output_type": "execute_result"
    }
   ],
   "source": [
    "## \"a\" and \"c\" have now the same shape (2,3,5)\n",
    "\n",
    "d = np.add(a,c)\n",
    "d"
   ]
  },
  {
   "cell_type": "markdown",
   "id": "e8ad4822",
   "metadata": {},
   "source": [
    "Print a and d. Notice the difference and relation of the two array in terms of the values? Explain."
   ]
  },
  {
   "cell_type": "code",
   "execution_count": null,
   "id": "cfb48afb",
   "metadata": {},
   "outputs": [],
   "source": [
    "## Since we add the ones array to the \"c\" array (now \"d\"), this new array has now 1.(...) in its values\n",
    "## different from array \"b\" where all values are below 1"
   ]
  },
  {
   "cell_type": "code",
   "execution_count": 277,
   "id": "9e939ee0",
   "metadata": {},
   "outputs": [
    {
     "data": {
      "text/plain": [
       "array([[[-0.59628927,  1.53847235, -0.3564266 , -1.5476149 ,\n",
       "         -1.42940402],\n",
       "        [-0.69444811,  0.49081733, -0.66683114,  0.0091239 ,\n",
       "         -2.9066596 ],\n",
       "        [ 1.25022255,  0.63564529, -0.20988564,  1.49652553,\n",
       "         -0.08077758]],\n",
       "\n",
       "       [[-0.27790183,  0.4137088 , -0.40535751,  0.30201753,\n",
       "          1.87269816],\n",
       "        [-0.28076194, -0.14153888,  0.30856731,  0.05766454,\n",
       "         -1.44658679],\n",
       "        [ 0.30044132, -0.5977828 ,  1.49022093,  0.84060214,\n",
       "          2.22762517]]])"
      ]
     },
     "execution_count": 277,
     "metadata": {},
     "output_type": "execute_result"
    }
   ],
   "source": [
    "a"
   ]
  },
  {
   "cell_type": "code",
   "execution_count": 278,
   "id": "7610dc77",
   "metadata": {},
   "outputs": [
    {
     "data": {
      "text/plain": [
       "array([[[ 0.40371073,  2.53847235,  0.6435734 , -0.5476149 ,\n",
       "         -0.42940402],\n",
       "        [ 0.30555189,  1.49081733,  0.33316886,  1.0091239 ,\n",
       "         -1.9066596 ],\n",
       "        [ 2.25022255,  1.63564529,  0.79011436,  2.49652553,\n",
       "          0.91922242]],\n",
       "\n",
       "       [[ 0.72209817,  1.4137088 ,  0.59464249,  1.30201753,\n",
       "          2.87269816],\n",
       "        [ 0.71923806,  0.85846112,  1.30856731,  1.05766454,\n",
       "         -0.44658679],\n",
       "        [ 1.30044132,  0.4022172 ,  2.49022093,  1.84060214,\n",
       "          3.22762517]]])"
      ]
     },
     "execution_count": 278,
     "metadata": {},
     "output_type": "execute_result"
    }
   ],
   "source": [
    "d"
   ]
  },
  {
   "cell_type": "markdown",
   "id": "f82230fa",
   "metadata": {},
   "source": [
    "Multiply a and c. Assign the result to e."
   ]
  },
  {
   "cell_type": "code",
   "execution_count": 280,
   "id": "ab813dae",
   "metadata": {},
   "outputs": [
    {
     "data": {
      "text/plain": [
       "array([[[-0.59628927,  1.53847235, -0.3564266 , -1.5476149 ,\n",
       "         -1.42940402],\n",
       "        [-0.69444811,  0.49081733, -0.66683114,  0.0091239 ,\n",
       "         -2.9066596 ],\n",
       "        [ 1.25022255,  0.63564529, -0.20988564,  1.49652553,\n",
       "         -0.08077758]],\n",
       "\n",
       "       [[-0.27790183,  0.4137088 , -0.40535751,  0.30201753,\n",
       "          1.87269816],\n",
       "        [-0.28076194, -0.14153888,  0.30856731,  0.05766454,\n",
       "         -1.44658679],\n",
       "        [ 0.30044132, -0.5977828 ,  1.49022093,  0.84060214,\n",
       "          2.22762517]]])"
      ]
     },
     "execution_count": 280,
     "metadata": {},
     "output_type": "execute_result"
    }
   ],
   "source": [
    "e = np.multiply(a,c)\n",
    "e"
   ]
  },
  {
   "cell_type": "markdown",
   "id": "ab7a4fbb",
   "metadata": {},
   "source": [
    "Does e equal to a? Why or why not?"
   ]
  },
  {
   "cell_type": "code",
   "execution_count": null,
   "id": "10f368f4",
   "metadata": {},
   "outputs": [],
   "source": [
    "## Yes, because we multiply the \"e\" array times the values in the \"c\" array which has all ones.\n",
    "## Hence the result remains the same"
   ]
  },
  {
   "cell_type": "markdown",
   "id": "d59d917a",
   "metadata": {},
   "source": [
    "Identify the max, min, and mean values in d. Assign those values to variables \"d_max\", \"d_min\", and \"d_mean\""
   ]
  },
  {
   "cell_type": "code",
   "execution_count": 281,
   "id": "adc13b4b",
   "metadata": {},
   "outputs": [
    {
     "name": "stdout",
     "output_type": "stream",
     "text": [
      "3.2276251723849847\n",
      "-1.9066595991567254\n",
      "1.0532028748615565\n"
     ]
    }
   ],
   "source": [
    "d_max = np.max(d)\n",
    "d_min = np.min(d)\n",
    "d_mean = np.mean(d)\n",
    "print(d_max)\n",
    "print(d_min)\n",
    "print(d_mean)"
   ]
  },
  {
   "cell_type": "markdown",
   "id": "bcbb050e",
   "metadata": {},
   "source": [
    "Now we want to label the values in d. First create an empty array \"f\" with the same shape (i.e. 2x3x5) as d using `np.empty`."
   ]
  },
  {
   "cell_type": "code",
   "execution_count": 282,
   "id": "82f23ec0",
   "metadata": {},
   "outputs": [],
   "source": [
    "f = np.empty((2,3,5))"
   ]
  },
  {
   "cell_type": "markdown",
   "id": "84be8dce",
   "metadata": {},
   "source": [
    "16. Populate the values in f. For each value in d, if it's larger than d_min but smaller than d_mean, assign 25 to the corresponding value in f.\n",
    "If a value in d is larger than d_mean but smaller than d_max, assign 75 to the corresponding value in f.\n",
    "If a value equals to d_mean, assign 50 to the corresponding value in f.\n",
    "\n",
    "Assign 0 to the corresponding value(s) in f for d_min in d.\n",
    "Assign 100 to the corresponding value(s) in f for d_max in d.\n",
    "In the end, f should have only the following values: 0, 25, 50, 75, and 100.\n",
    "\n",
    "Note: you don't have to use Numpy in this question."
   ]
  },
  {
   "cell_type": "code",
   "execution_count": 283,
   "id": "d988f7e8",
   "metadata": {},
   "outputs": [
    {
     "name": "stdout",
     "output_type": "stream",
     "text": [
      "[[[ 25.  75.  25.  25.  25.]\n",
      "  [ 25.  75.  25.  25.   0.]\n",
      "  [ 75.  75.  25.  75.  25.]]\n",
      "\n",
      " [[ 25.  75.  25.  75.  75.]\n",
      "  [ 25.  25.  75.  75.  25.]\n",
      "  [ 75.  25.  75.  75. 100.]]]\n"
     ]
    }
   ],
   "source": [
    "for i in range(2):\n",
    "    for j in range(3):\n",
    "        for k in range(5):\n",
    "            if (d_mean>d[i][j][k]>d_min):\n",
    "                f[i][j][k]=float(25)\n",
    "            elif (d_max>d[i][j][k]>d_mean):\n",
    "                f[i][j][k]=float(75)\n",
    "            elif (d[i][j][k]==d_mean):\n",
    "                f[i][j][k]=float(50)\n",
    "            elif (d[i][j][k]==d_max):\n",
    "                f[i][j][k]=float(100)\n",
    "            else:\n",
    "                f[i][j][k]=float(0)\n",
    "        \n",
    "print(f)"
   ]
  },
  {
   "cell_type": "markdown",
   "id": "f2578299",
   "metadata": {},
   "source": [
    "Bonus question: instead of using numbers (i.e. 0, 25, 50, 75, and 100), how to use string values \n",
    "(\"A\", \"B\", \"C\", \"D\", and \"E\") to label the array elements? You are expecting the result to be:"
   ]
  },
  {
   "cell_type": "code",
   "execution_count": 289,
   "id": "f43ef67d",
   "metadata": {},
   "outputs": [
    {
     "name": "stdout",
     "output_type": "stream",
     "text": [
      "[[['B' 'D' 'B' 'B' 'B']\n",
      "  ['B' 'D' 'B' 'B' 'A']\n",
      "  ['D' 'D' 'B' 'D' 'B']]\n",
      "\n",
      " [['B' 'D' 'B' 'D' 'D']\n",
      "  ['B' 'B' 'D' 'D' 'B']\n",
      "  ['D' 'B' 'D' 'D' 'E']]]\n"
     ]
    }
   ],
   "source": [
    "f = np.empty((2,3,5),dtype='object')\n",
    "\n",
    "for i in range(2):\n",
    "    for j in range(3):\n",
    "        for k in range(5):\n",
    "            if (d_mean>d[i][j][k]>d_min):\n",
    "                f[i][j][k] =  \"B\"\n",
    "            elif (d_max>d[i][j][k]>d_mean):\n",
    "                f[i][j][k] = \"D\"\n",
    "            elif (d[i][j][k]==d_mean):\n",
    "                f[i][j][k] = \"C\"\n",
    "            elif (d[i][j][k]==d_max):\n",
    "                f[i][j][k] = \"E\"\n",
    "            else:\n",
    "                f[i][j][k] = \"A\" \n",
    "        \n",
    "print(f)"
   ]
  }
 ],
 "metadata": {
  "kernelspec": {
   "display_name": "Python 3 (ipykernel)",
   "language": "python",
   "name": "python3"
  },
  "language_info": {
   "codemirror_mode": {
    "name": "ipython",
    "version": 3
   },
   "file_extension": ".py",
   "mimetype": "text/x-python",
   "name": "python",
   "nbconvert_exporter": "python",
   "pygments_lexer": "ipython3",
   "version": "3.9.12"
  }
 },
 "nbformat": 4,
 "nbformat_minor": 5
}
