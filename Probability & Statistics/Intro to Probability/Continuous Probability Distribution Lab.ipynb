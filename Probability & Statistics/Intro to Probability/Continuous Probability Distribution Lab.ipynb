{
 "cells": [
  {
   "cell_type": "markdown",
   "id": "63cc736a",
   "metadata": {},
   "source": [
    "In this exercise, we will generate random numbers from the continuous disributions we learned in the lesson. There are two ways to generate random numbers:\n",
    "\n",
    "Using the numpy library <br/>\n",
    "using the Scipy library <br/>\n",
    "Use either or both of the libraries in this exercise."
   ]
  },
  {
   "cell_type": "code",
   "execution_count": 440,
   "id": "8429dea8",
   "metadata": {},
   "outputs": [],
   "source": [
    "import numpy as np\n",
    "import scipy\n",
    "import matplotlib.pyplot as plt\n",
    "import pandas as pd\n",
    "from numpy import random"
   ]
  },
  {
   "cell_type": "code",
   "execution_count": 441,
   "id": "7c3d82e7",
   "metadata": {},
   "outputs": [],
   "source": [
    "import math\n",
    "from scipy.stats import norm"
   ]
  },
  {
   "cell_type": "markdown",
   "id": "ab626a14",
   "metadata": {},
   "source": [
    "### Uniform Distribution"
   ]
  },
  {
   "cell_type": "markdown",
   "id": "4e41a1df",
   "metadata": {},
   "source": [
    " To generate uniform random numbers between any two given values using scipy, we can either use the following code or the code that we have discussed in class:\n",
    "\n"
   ]
  },
  {
   "cell_type": "code",
   "execution_count": 442,
   "id": "6b01650c",
   "metadata": {},
   "outputs": [
    {
     "name": "stdout",
     "output_type": "stream",
     "text": [
      "[2.26361003 2.95948797 2.99058011 2.83707014 2.38572929 2.3259456\n",
      " 2.58048661 2.33931343 2.74247525 2.6346531 ]\n"
     ]
    }
   ],
   "source": [
    "from scipy.stats import uniform\n",
    "x = uniform.rvs(size=10)\n",
    "a = 2\n",
    "b = 3\n",
    "randoms  = a + (b-a)*x\n",
    "print(randoms)"
   ]
  },
  {
   "cell_type": "markdown",
   "id": "43cbd1c0",
   "metadata": {},
   "source": [
    "**Your task**:\n",
    "\n",
    "Based on the code above, write a function that generates uniformly distributed random numbers. There are several requirements for your function:\n",
    "\n",
    "It should accept 3 parameters: <br/>\n",
    "bottom - the lower boundary of the generated numbers <br/>\n",
    "ceiling - the upper boundary of the generated numbers <br/>\n",
    "count - how many numbers to generate <br/>\n",
    "It should return an array of uniformly distributed random numbers <br/>\n",
    "\n",
    "Call your function with 2 sets of params below:\n",
    "\n",
    "bottom=10, ceiling=15, count=100 <br/>\n",
    "bottom=10, ceiling=60, count=1,000 <br/>\n",
    "Plot the uniform distributions generated above using histograms, where x axis is the value and y axis is the count. Let the histogram's number of bins be 10."
   ]
  },
  {
   "cell_type": "code",
   "execution_count": 443,
   "id": "409a591e",
   "metadata": {},
   "outputs": [],
   "source": [
    "def rand_numb(a, b, count):\n",
    "    x = uniform.rvs(size=count)\n",
    "    randoms  = a + (b-a)*x\n",
    "    return randoms"
   ]
  },
  {
   "cell_type": "code",
   "execution_count": 447,
   "id": "1336a3fa",
   "metadata": {},
   "outputs": [
    {
     "data": {
      "image/png": "[encoded data removed]",
      "text/plain": [
       "<Figure size 576x360 with 2 Axes>"
      ]
     },
     "metadata": {
      "needs_background": "light"
     },
     "output_type": "display_data"
    }
   ],
   "source": [
    "fig = plt.figure(figsize=(8,5))\n",
    "\n",
    "plt.subplot(1, 2, 1).set(ylim=(0,120))\n",
    "plt.hist(rand_numb(10, 15, 100), color='b', bins=10)\n",
    "\n",
    "plt.subplot(1, 2, 2).set(ylim=(0,120))\n",
    "plt.hist(rand_numb(10, 60, 1000), bins=10)\n",
    "\n",
    "plt.show()"
   ]
  },
  {
   "cell_type": "markdown",
   "id": "21689a74",
   "metadata": {},
   "source": [
    "How are the two distributions different?"
   ]
  },
  {
   "cell_type": "code",
   "execution_count": 448,
   "id": "3a225c38",
   "metadata": {},
   "outputs": [],
   "source": [
    "## Both graphs differ in the x axis since the first one has values from 10 to 15\n",
    "## and the second one has values from 10 to 60, hence we need a wider x-axis scales.\n",
    "## Also, while the first graph only has a total of 100 values, the second one has 1000 values, \n",
    "## causing this last graph to be visually fuller of data."
   ]
  },
  {
   "cell_type": "markdown",
   "id": "31af125b",
   "metadata": {},
   "source": [
    "### Normal Distribution"
   ]
  },
  {
   "cell_type": "markdown",
   "id": "c02f17fa",
   "metadata": {},
   "source": [
    "In the same way in the Uniform Distribution challenge, write a function that generates normally distributed random numbers.\n",
    "1. Generate 1,000 normally distributed numbers with the average of 10 and standard deviation of 1\n",
    "2. Generate 1,000 normally distributed numbers with the average of 10 and standard deviation of 50\n",
    "3. Plot the distributions of the data generated."
   ]
  },
  {
   "cell_type": "code",
   "execution_count": 449,
   "id": "51d98df8",
   "metadata": {},
   "outputs": [],
   "source": [
    "def rand_norm(mean, std, count):\n",
    "    normal = norm(mean,std) \n",
    "    x = normal.rvs(count) \n",
    "    return x"
   ]
  },
  {
   "cell_type": "code",
   "execution_count": 453,
   "id": "0c1e6bf5",
   "metadata": {},
   "outputs": [
    {
     "data": {
      "image/png": "[encoded data removed]",
      "text/plain": [
       "<Figure size 576x360 with 2 Axes>"
      ]
     },
     "metadata": {
      "needs_background": "light"
     },
     "output_type": "display_data"
    }
   ],
   "source": [
    "fig = plt.figure(figsize=(8,5))\n",
    "\n",
    "ax = plt.subplot(1, 2, 1)\n",
    "plt.hist(rand_norm(10, 1, 1000), bins=50)\n",
    "\n",
    "ax1 = plt.subplot(1, 2, 2)\n",
    "plt.hist(rand_norm(10, 50, 1000), bins=50)\n",
    "\n",
    "plt.show()"
   ]
  },
  {
   "cell_type": "markdown",
   "id": "97d10752",
   "metadata": {},
   "source": [
    "How are the two distributions different?\n"
   ]
  },
  {
   "cell_type": "code",
   "execution_count": 459,
   "id": "ea350409",
   "metadata": {},
   "outputs": [],
   "source": [
    "## Even though both graphs have the same amount of data and the same mean (10), \n",
    "## they differ in the standard deviation, which means the one in the left with a std of 1\n",
    "## has each point closer to each other, and thus the graph seems tighter. \n",
    "## However the one in the right has a std of 50, and that's why it looks its data are more spread out."
   ]
  },
  {
   "cell_type": "markdown",
   "id": "82050b9e",
   "metadata": {},
   "source": [
    "### Normal Distribution of Real Data"
   ]
  },
  {
   "cell_type": "markdown",
   "id": "80b84472",
   "metadata": {},
   "source": [
    "In this challenge we are going to take a look the real data. We will use vehicles.csv file for this exercise\n",
    "\n",
    "First import vehicles.csv. Then plot the histograms for the following variables:"
   ]
  },
  {
   "cell_type": "code",
   "execution_count": 460,
   "id": "5e4f9e8e",
   "metadata": {},
   "outputs": [
    {
     "data": {
      "text/html": [
       "<div>\n",
       "<style scoped>\n",
       "    .dataframe tbody tr th:only-of-type {\n",
       "        vertical-align: middle;\n",
       "    }\n",
       "\n",
       "    .dataframe tbody tr th {\n",
       "        vertical-align: top;\n",
       "    }\n",
       "\n",
       "    .dataframe thead th {\n",
       "        text-align: right;\n",
       "    }\n",
       "</style>\n",
       "<table border=\"1\" class=\"dataframe\">\n",
       "  <thead>\n",
       "    <tr style=\"text-align: right;\">\n",
       "      <th></th>\n",
       "      <th>Make</th>\n",
       "      <th>Model</th>\n",
       "      <th>Year</th>\n",
       "      <th>Engine Displacement</th>\n",
       "      <th>Cylinders</th>\n",
       "      <th>Transmission</th>\n",
       "      <th>Drivetrain</th>\n",
       "      <th>Vehicle Class</th>\n",
       "      <th>Fuel Type</th>\n",
       "      <th>Fuel Barrels/Year</th>\n",
       "      <th>City MPG</th>\n",
       "      <th>Highway MPG</th>\n",
       "      <th>Combined MPG</th>\n",
       "      <th>CO2 Emission Grams/Mile</th>\n",
       "      <th>Fuel Cost/Year</th>\n",
       "    </tr>\n",
       "  </thead>\n",
       "  <tbody>\n",
       "    <tr>\n",
       "      <th>0</th>\n",
       "      <td>AM General</td>\n",
       "      <td>DJ Po Vehicle 2WD</td>\n",
       "      <td>1984</td>\n",
       "      <td>2.5</td>\n",
       "      <td>4.0</td>\n",
       "      <td>Automatic 3-spd</td>\n",
       "      <td>2-Wheel Drive</td>\n",
       "      <td>Special Purpose Vehicle 2WD</td>\n",
       "      <td>Regular</td>\n",
       "      <td>19.388824</td>\n",
       "      <td>18</td>\n",
       "      <td>17</td>\n",
       "      <td>17</td>\n",
       "      <td>522.764706</td>\n",
       "      <td>1950</td>\n",
       "    </tr>\n",
       "    <tr>\n",
       "      <th>1</th>\n",
       "      <td>AM General</td>\n",
       "      <td>FJ8c Post Office</td>\n",
       "      <td>1984</td>\n",
       "      <td>4.2</td>\n",
       "      <td>6.0</td>\n",
       "      <td>Automatic 3-spd</td>\n",
       "      <td>2-Wheel Drive</td>\n",
       "      <td>Special Purpose Vehicle 2WD</td>\n",
       "      <td>Regular</td>\n",
       "      <td>25.354615</td>\n",
       "      <td>13</td>\n",
       "      <td>13</td>\n",
       "      <td>13</td>\n",
       "      <td>683.615385</td>\n",
       "      <td>2550</td>\n",
       "    </tr>\n",
       "    <tr>\n",
       "      <th>2</th>\n",
       "      <td>AM General</td>\n",
       "      <td>Post Office DJ5 2WD</td>\n",
       "      <td>1985</td>\n",
       "      <td>2.5</td>\n",
       "      <td>4.0</td>\n",
       "      <td>Automatic 3-spd</td>\n",
       "      <td>Rear-Wheel Drive</td>\n",
       "      <td>Special Purpose Vehicle 2WD</td>\n",
       "      <td>Regular</td>\n",
       "      <td>20.600625</td>\n",
       "      <td>16</td>\n",
       "      <td>17</td>\n",
       "      <td>16</td>\n",
       "      <td>555.437500</td>\n",
       "      <td>2100</td>\n",
       "    </tr>\n",
       "    <tr>\n",
       "      <th>3</th>\n",
       "      <td>AM General</td>\n",
       "      <td>Post Office DJ8 2WD</td>\n",
       "      <td>1985</td>\n",
       "      <td>4.2</td>\n",
       "      <td>6.0</td>\n",
       "      <td>Automatic 3-spd</td>\n",
       "      <td>Rear-Wheel Drive</td>\n",
       "      <td>Special Purpose Vehicle 2WD</td>\n",
       "      <td>Regular</td>\n",
       "      <td>25.354615</td>\n",
       "      <td>13</td>\n",
       "      <td>13</td>\n",
       "      <td>13</td>\n",
       "      <td>683.615385</td>\n",
       "      <td>2550</td>\n",
       "    </tr>\n",
       "    <tr>\n",
       "      <th>4</th>\n",
       "      <td>ASC Incorporated</td>\n",
       "      <td>GNX</td>\n",
       "      <td>1987</td>\n",
       "      <td>3.8</td>\n",
       "      <td>6.0</td>\n",
       "      <td>Automatic 4-spd</td>\n",
       "      <td>Rear-Wheel Drive</td>\n",
       "      <td>Midsize Cars</td>\n",
       "      <td>Premium</td>\n",
       "      <td>20.600625</td>\n",
       "      <td>14</td>\n",
       "      <td>21</td>\n",
       "      <td>16</td>\n",
       "      <td>555.437500</td>\n",
       "      <td>2550</td>\n",
       "    </tr>\n",
       "  </tbody>\n",
       "</table>\n",
       "</div>"
      ],
      "text/plain": [
       "               Make                Model  Year  Engine Displacement  \\\n",
       "0        AM General    DJ Po Vehicle 2WD  1984                  2.5   \n",
       "1        AM General     FJ8c Post Office  1984                  4.2   \n",
       "2        AM General  Post Office DJ5 2WD  1985                  2.5   \n",
       "3        AM General  Post Office DJ8 2WD  1985                  4.2   \n",
       "4  ASC Incorporated                  GNX  1987                  3.8   \n",
       "\n",
       "   Cylinders     Transmission        Drivetrain                Vehicle Class  \\\n",
       "0        4.0  Automatic 3-spd     2-Wheel Drive  Special Purpose Vehicle 2WD   \n",
       "1        6.0  Automatic 3-spd     2-Wheel Drive  Special Purpose Vehicle 2WD   \n",
       "2        4.0  Automatic 3-spd  Rear-Wheel Drive  Special Purpose Vehicle 2WD   \n",
       "3        6.0  Automatic 3-spd  Rear-Wheel Drive  Special Purpose Vehicle 2WD   \n",
       "4        6.0  Automatic 4-spd  Rear-Wheel Drive                 Midsize Cars   \n",
       "\n",
       "  Fuel Type  Fuel Barrels/Year  City MPG  Highway MPG  Combined MPG  \\\n",
       "0   Regular          19.388824        18           17            17   \n",
       "1   Regular          25.354615        13           13            13   \n",
       "2   Regular          20.600625        16           17            16   \n",
       "3   Regular          25.354615        13           13            13   \n",
       "4   Premium          20.600625        14           21            16   \n",
       "\n",
       "   CO2 Emission Grams/Mile  Fuel Cost/Year  \n",
       "0               522.764706            1950  \n",
       "1               683.615385            2550  \n",
       "2               555.437500            2100  \n",
       "3               683.615385            2550  \n",
       "4               555.437500            2550  "
      ]
     },
     "execution_count": 460,
     "metadata": {},
     "output_type": "execute_result"
    }
   ],
   "source": [
    "vehicles = pd.read_csv('./vehicles.csv')\n",
    "vehicles.head()"
   ]
  },
  {
   "cell_type": "markdown",
   "id": "3dbaf0fb",
   "metadata": {},
   "source": [
    "1. Fuel Barrels/Year"
   ]
  },
  {
   "cell_type": "code",
   "execution_count": 461,
   "id": "628a7acf",
   "metadata": {},
   "outputs": [
    {
     "data": {
      "image/png": "[encoded data removed]",
      "text/plain": [
       "<Figure size 432x288 with 1 Axes>"
      ]
     },
     "metadata": {
      "needs_background": "light"
     },
     "output_type": "display_data"
    }
   ],
   "source": [
    "plt.hist(vehicles['Fuel Barrels/Year'], bins=50)\n",
    "plt.show()"
   ]
  },
  {
   "cell_type": "markdown",
   "id": "ade39925",
   "metadata": {},
   "source": [
    "1. CO2 Emission Grams/Mile"
   ]
  },
  {
   "cell_type": "code",
   "execution_count": 462,
   "id": "a7eff3cd",
   "metadata": {},
   "outputs": [
    {
     "data": {
      "image/png": "[encoded data removed]",
      "text/plain": [
       "<Figure size 432x288 with 1 Axes>"
      ]
     },
     "metadata": {
      "needs_background": "light"
     },
     "output_type": "display_data"
    }
   ],
   "source": [
    "plt.hist(vehicles['CO2 Emission Grams/Mile'], bins=50)\n",
    "plt.show()"
   ]
  },
  {
   "cell_type": "markdown",
   "id": "dbbab5f4",
   "metadata": {},
   "source": [
    "1. Combined MPG"
   ]
  },
  {
   "cell_type": "code",
   "execution_count": 463,
   "id": "c8241380",
   "metadata": {},
   "outputs": [
    {
     "data": {
      "image/png": "[encoded data removed]",
      "text/plain": [
       "<Figure size 432x288 with 1 Axes>"
      ]
     },
     "metadata": {
      "needs_background": "light"
     },
     "output_type": "display_data"
    }
   ],
   "source": [
    "plt.hist(vehicles['Combined MPG'], bins=50)\n",
    "plt.show()"
   ]
  },
  {
   "cell_type": "markdown",
   "id": "97be3473",
   "metadata": {},
   "source": [
    "Which one(s) of the variables are nearly normally distributed? How do you know?"
   ]
  },
  {
   "cell_type": "code",
   "execution_count": 464,
   "id": "379cea0b",
   "metadata": {},
   "outputs": [
    {
     "data": {
      "text/html": [
       "<div>\n",
       "<style scoped>\n",
       "    .dataframe tbody tr th:only-of-type {\n",
       "        vertical-align: middle;\n",
       "    }\n",
       "\n",
       "    .dataframe tbody tr th {\n",
       "        vertical-align: top;\n",
       "    }\n",
       "\n",
       "    .dataframe thead th {\n",
       "        text-align: right;\n",
       "    }\n",
       "</style>\n",
       "<table border=\"1\" class=\"dataframe\">\n",
       "  <thead>\n",
       "    <tr style=\"text-align: right;\">\n",
       "      <th></th>\n",
       "      <th>mean</th>\n",
       "      <th>25%</th>\n",
       "      <th>50%</th>\n",
       "      <th>75%</th>\n",
       "    </tr>\n",
       "  </thead>\n",
       "  <tbody>\n",
       "    <tr>\n",
       "      <th>Fuel Barrels/Year</th>\n",
       "      <td>17.609056</td>\n",
       "      <td>14.699423</td>\n",
       "      <td>17.347895</td>\n",
       "      <td>20.600625</td>\n",
       "    </tr>\n",
       "    <tr>\n",
       "      <th>CO2 Emission Grams/Mile</th>\n",
       "      <td>475.316339</td>\n",
       "      <td>395.000000</td>\n",
       "      <td>467.736842</td>\n",
       "      <td>555.437500</td>\n",
       "    </tr>\n",
       "    <tr>\n",
       "      <th>Combined MPG</th>\n",
       "      <td>19.929322</td>\n",
       "      <td>16.000000</td>\n",
       "      <td>19.000000</td>\n",
       "      <td>23.000000</td>\n",
       "    </tr>\n",
       "  </tbody>\n",
       "</table>\n",
       "</div>"
      ],
      "text/plain": [
       "                               mean         25%         50%         75%\n",
       "Fuel Barrels/Year         17.609056   14.699423   17.347895   20.600625\n",
       "CO2 Emission Grams/Mile  475.316339  395.000000  467.736842  555.437500\n",
       "Combined MPG              19.929322   16.000000   19.000000   23.000000"
      ]
     },
     "execution_count": 464,
     "metadata": {},
     "output_type": "execute_result"
    }
   ],
   "source": [
    "vehicles[['Fuel Barrels/Year', 'CO2 Emission Grams/Mile', 'Combined MPG']].describe()\\\n",
    "                                                .transpose()[['mean', '25%', '50%', '75%']]"
   ]
  },
  {
   "cell_type": "code",
   "execution_count": 465,
   "id": "31964a44",
   "metadata": {},
   "outputs": [],
   "source": [
    "## Fuel Barrels/Year and Combined MPG. We can know this by taking a look at how even \n",
    "## does the distance from 25% is to the 50% (median) and doing the same with the 50% and 75%\n",
    "## In other words, if the distance from the 25% to the 50% of the data is nearly the same as the distance\n",
    "## from the 50% to the 75%, we can confidently say that the data is normally distributed.\n",
    "## Another parameter to make sure this is accurate is to compare how similar are the mean and the median\n",
    "## to each other. The closer they are, the more normally distributed the data is."
   ]
  },
  {
   "cell_type": "markdown",
   "id": "0083ce5a",
   "metadata": {},
   "source": [
    "### Exponential Distribution"
   ]
  },
  {
   "cell_type": "markdown",
   "id": "4360eab3",
   "metadata": {},
   "source": [
    "1. Using numpy.random.exponential, create a function that returns a list of numbers exponentially distributed with the mean of 10.\n",
    "\n",
    "2. Use the function to generate two number sequences with the size of 700 and 1000.\n",
    "\n",
    "3. Plot the distributions as histograms with the number of bins as 100."
   ]
  },
  {
   "cell_type": "code",
   "execution_count": 475,
   "id": "3e0419ee",
   "metadata": {},
   "outputs": [],
   "source": [
    "def expon_dist(mean, size):\n",
    "    nums = random.exponential(mean, size)\n",
    "    return nums"
   ]
  },
  {
   "cell_type": "code",
   "execution_count": 467,
   "id": "8b6b0b99",
   "metadata": {},
   "outputs": [
    {
     "data": {
      "image/png": "[encoded data removed]",
      "text/plain": [
       "<Figure size 576x360 with 2 Axes>"
      ]
     },
     "metadata": {
      "needs_background": "light"
     },
     "output_type": "display_data"
    }
   ],
   "source": [
    "fig = plt.figure(figsize=(8,5))\n",
    "\n",
    "ax = plt.subplot(1, 2, 1)\n",
    "plt.hist(expon_dist(10, 700), bins=100)\n",
    "\n",
    "ax1 = plt.subplot(1, 2, 2)\n",
    "plt.hist(expon_dist(10, 1000), bins=100)\n",
    "\n",
    "plt.show()"
   ]
  },
  {
   "cell_type": "markdown",
   "id": "1b717857",
   "metadata": {},
   "source": [
    "How are the two distributions different?"
   ]
  },
  {
   "cell_type": "code",
   "execution_count": 476,
   "id": "3fe86211",
   "metadata": {},
   "outputs": [],
   "source": [
    "## It seems that the first graph has fewer data, but the mean of both graphs is actually the same.\n",
    "## This indicates that both graphs start to change their behavior around the values that are 10, \n",
    "## where the drop of the data begins to be slower."
   ]
  },
  {
   "cell_type": "markdown",
   "id": "1ca3e820",
   "metadata": {},
   "source": [
    "### Exponential Distribution of Real Data\n"
   ]
  },
  {
   "cell_type": "markdown",
   "id": "2d68663e",
   "metadata": {},
   "source": [
    "Suppose that the amount of time one spends in a bank is exponentially distributed with mean as 10 minutes (i.e. λ = 1/10). What is the probability that a customer will spend less than fifteen minutes in the bank?\n",
    "\n",
    "Write a code in python to solve this problem\n"
   ]
  },
  {
   "cell_type": "code",
   "execution_count": 481,
   "id": "9b948473",
   "metadata": {},
   "outputs": [
    {
     "data": {
      "image/png": "[encoded data removed]",
      "text/plain": [
       "<Figure size 432x288 with 1 Axes>"
      ]
     },
     "metadata": {
      "needs_background": "light"
     },
     "output_type": "display_data"
    }
   ],
   "source": [
    "plt.hist(random.exponential(10, 100), bins=100)\n",
    "plt.show()"
   ]
  },
  {
   "cell_type": "code",
   "execution_count": 437,
   "id": "3a43cc44",
   "metadata": {},
   "outputs": [
    {
     "data": {
      "text/plain": [
       "0.7768698398515702"
      ]
     },
     "execution_count": 437,
     "metadata": {},
     "output_type": "execute_result"
    }
   ],
   "source": [
    "## expon.cdf : (x=condition, scale=mean) --> cumulative distribution function\n",
    "\n",
    "expon.cdf(x=15, scale=10)"
   ]
  },
  {
   "cell_type": "markdown",
   "id": "7c8a7cc3",
   "metadata": {},
   "source": [
    "What is the probability that the customer will spend more than 15 minutes"
   ]
  },
  {
   "cell_type": "code",
   "execution_count": 482,
   "id": "d49b488f",
   "metadata": {},
   "outputs": [
    {
     "data": {
      "text/plain": [
       "0.2231301601484298"
      ]
     },
     "execution_count": 482,
     "metadata": {},
     "output_type": "execute_result"
    }
   ],
   "source": [
    "1 - expon.cdf(x=15, scale=10)"
   ]
  }
 ],
 "metadata": {
  "kernelspec": {
   "display_name": "Python 3 (ipykernel)",
   "language": "python",
   "name": "python3"
  },
  "language_info": {
   "codemirror_mode": {
    "name": "ipython",
    "version": 3
   },
   "file_extension": ".py",
   "mimetype": "text/x-python",
   "name": "python",
   "nbconvert_exporter": "python",
   "pygments_lexer": "ipython3",
   "version": "3.9.12"
  }
 },
 "nbformat": 4,
 "nbformat_minor": 5
}
