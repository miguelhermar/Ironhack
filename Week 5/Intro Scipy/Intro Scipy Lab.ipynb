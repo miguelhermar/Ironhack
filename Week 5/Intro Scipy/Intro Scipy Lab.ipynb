{
 "cells": [
  {
   "cell_type": "code",
   "execution_count": 1,
   "id": "04b9357f",
   "metadata": {},
   "outputs": [],
   "source": [
    "import numpy as np\n",
    "import pandas as pd"
   ]
  },
  {
   "cell_type": "markdown",
   "id": "33ce9404",
   "metadata": {},
   "source": [
    "### Challenge 1 - The stats Submodule"
   ]
  },
  {
   "cell_type": "markdown",
   "id": "ce127135",
   "metadata": {},
   "source": [
    "This submodule contains statistical functions for conducting hypothesis tests, producing various distributions and other useful tools. Let's examine this submodule using the KickStarter dataset. We will load the dataset below.\n"
   ]
  },
  {
   "cell_type": "code",
   "execution_count": 2,
   "id": "468e5541",
   "metadata": {},
   "outputs": [],
   "source": [
    "# Run this code:\n",
    "\n",
    "kickstarter = pd.read_csv('./ks-projects-201801.csv')"
   ]
  },
  {
   "cell_type": "markdown",
   "id": "10e13bf6",
   "metadata": {},
   "source": [
    "Now print the head function to examine the dataset.\n"
   ]
  },
  {
   "cell_type": "code",
   "execution_count": 3,
   "id": "651bb6f5",
   "metadata": {},
   "outputs": [
    {
     "data": {
      "text/html": [
       "<div>\n",
       "<style scoped>\n",
       "    .dataframe tbody tr th:only-of-type {\n",
       "        vertical-align: middle;\n",
       "    }\n",
       "\n",
       "    .dataframe tbody tr th {\n",
       "        vertical-align: top;\n",
       "    }\n",
       "\n",
       "    .dataframe thead th {\n",
       "        text-align: right;\n",
       "    }\n",
       "</style>\n",
       "<table border=\"1\" class=\"dataframe\">\n",
       "  <thead>\n",
       "    <tr style=\"text-align: right;\">\n",
       "      <th></th>\n",
       "      <th>ID</th>\n",
       "      <th>name</th>\n",
       "      <th>category</th>\n",
       "      <th>main_category</th>\n",
       "      <th>currency</th>\n",
       "      <th>deadline</th>\n",
       "      <th>goal</th>\n",
       "      <th>launched</th>\n",
       "      <th>pledged</th>\n",
       "      <th>state</th>\n",
       "      <th>backers</th>\n",
       "      <th>country</th>\n",
       "      <th>usd pledged</th>\n",
       "      <th>usd_pledged_real</th>\n",
       "      <th>usd_goal_real</th>\n",
       "    </tr>\n",
       "  </thead>\n",
       "  <tbody>\n",
       "    <tr>\n",
       "      <th>0</th>\n",
       "      <td>1000002330</td>\n",
       "      <td>The Songs of Adelaide &amp; Abullah</td>\n",
       "      <td>Poetry</td>\n",
       "      <td>Publishing</td>\n",
       "      <td>GBP</td>\n",
       "      <td>2015-10-09</td>\n",
       "      <td>1000.0</td>\n",
       "      <td>2015-08-11 12:12:28</td>\n",
       "      <td>0.0</td>\n",
       "      <td>failed</td>\n",
       "      <td>0</td>\n",
       "      <td>GB</td>\n",
       "      <td>0.0</td>\n",
       "      <td>0.0</td>\n",
       "      <td>1533.95</td>\n",
       "    </tr>\n",
       "    <tr>\n",
       "      <th>1</th>\n",
       "      <td>1000003930</td>\n",
       "      <td>Greeting From Earth: ZGAC Arts Capsule For ET</td>\n",
       "      <td>Narrative Film</td>\n",
       "      <td>Film &amp; Video</td>\n",
       "      <td>USD</td>\n",
       "      <td>2017-11-01</td>\n",
       "      <td>30000.0</td>\n",
       "      <td>2017-09-02 04:43:57</td>\n",
       "      <td>2421.0</td>\n",
       "      <td>failed</td>\n",
       "      <td>15</td>\n",
       "      <td>US</td>\n",
       "      <td>100.0</td>\n",
       "      <td>2421.0</td>\n",
       "      <td>30000.00</td>\n",
       "    </tr>\n",
       "    <tr>\n",
       "      <th>2</th>\n",
       "      <td>1000004038</td>\n",
       "      <td>Where is Hank?</td>\n",
       "      <td>Narrative Film</td>\n",
       "      <td>Film &amp; Video</td>\n",
       "      <td>USD</td>\n",
       "      <td>2013-02-26</td>\n",
       "      <td>45000.0</td>\n",
       "      <td>2013-01-12 00:20:50</td>\n",
       "      <td>220.0</td>\n",
       "      <td>failed</td>\n",
       "      <td>3</td>\n",
       "      <td>US</td>\n",
       "      <td>220.0</td>\n",
       "      <td>220.0</td>\n",
       "      <td>45000.00</td>\n",
       "    </tr>\n",
       "    <tr>\n",
       "      <th>3</th>\n",
       "      <td>1000007540</td>\n",
       "      <td>ToshiCapital Rekordz Needs Help to Complete Album</td>\n",
       "      <td>Music</td>\n",
       "      <td>Music</td>\n",
       "      <td>USD</td>\n",
       "      <td>2012-04-16</td>\n",
       "      <td>5000.0</td>\n",
       "      <td>2012-03-17 03:24:11</td>\n",
       "      <td>1.0</td>\n",
       "      <td>failed</td>\n",
       "      <td>1</td>\n",
       "      <td>US</td>\n",
       "      <td>1.0</td>\n",
       "      <td>1.0</td>\n",
       "      <td>5000.00</td>\n",
       "    </tr>\n",
       "    <tr>\n",
       "      <th>4</th>\n",
       "      <td>1000011046</td>\n",
       "      <td>Community Film Project: The Art of Neighborhoo...</td>\n",
       "      <td>Film &amp; Video</td>\n",
       "      <td>Film &amp; Video</td>\n",
       "      <td>USD</td>\n",
       "      <td>2015-08-29</td>\n",
       "      <td>19500.0</td>\n",
       "      <td>2015-07-04 08:35:03</td>\n",
       "      <td>1283.0</td>\n",
       "      <td>canceled</td>\n",
       "      <td>14</td>\n",
       "      <td>US</td>\n",
       "      <td>1283.0</td>\n",
       "      <td>1283.0</td>\n",
       "      <td>19500.00</td>\n",
       "    </tr>\n",
       "  </tbody>\n",
       "</table>\n",
       "</div>"
      ],
      "text/plain": [
       "           ID                                               name  \\\n",
       "0  1000002330                    The Songs of Adelaide & Abullah   \n",
       "1  1000003930      Greeting From Earth: ZGAC Arts Capsule For ET   \n",
       "2  1000004038                                     Where is Hank?   \n",
       "3  1000007540  ToshiCapital Rekordz Needs Help to Complete Album   \n",
       "4  1000011046  Community Film Project: The Art of Neighborhoo...   \n",
       "\n",
       "         category main_category currency    deadline     goal  \\\n",
       "0          Poetry    Publishing      GBP  2015-10-09   1000.0   \n",
       "1  Narrative Film  Film & Video      USD  2017-11-01  30000.0   \n",
       "2  Narrative Film  Film & Video      USD  2013-02-26  45000.0   \n",
       "3           Music         Music      USD  2012-04-16   5000.0   \n",
       "4    Film & Video  Film & Video      USD  2015-08-29  19500.0   \n",
       "\n",
       "              launched  pledged     state  backers country  usd pledged  \\\n",
       "0  2015-08-11 12:12:28      0.0    failed        0      GB          0.0   \n",
       "1  2017-09-02 04:43:57   2421.0    failed       15      US        100.0   \n",
       "2  2013-01-12 00:20:50    220.0    failed        3      US        220.0   \n",
       "3  2012-03-17 03:24:11      1.0    failed        1      US          1.0   \n",
       "4  2015-07-04 08:35:03   1283.0  canceled       14      US       1283.0   \n",
       "\n",
       "   usd_pledged_real  usd_goal_real  \n",
       "0               0.0        1533.95  \n",
       "1            2421.0       30000.00  \n",
       "2             220.0       45000.00  \n",
       "3               1.0        5000.00  \n",
       "4            1283.0       19500.00  "
      ]
     },
     "execution_count": 3,
     "metadata": {},
     "output_type": "execute_result"
    }
   ],
   "source": [
    "kickstarter.head()"
   ]
  },
  {
   "cell_type": "markdown",
   "id": "d50bd65a",
   "metadata": {},
   "source": [
    "Import the mode function from scipy.stats and find the mode of the country and currency column.\n",
    "\n"
   ]
  },
  {
   "cell_type": "code",
   "execution_count": 4,
   "id": "1ebc4335",
   "metadata": {},
   "outputs": [
    {
     "name": "stdout",
     "output_type": "stream",
     "text": [
      "ModeResult(mode=array(['US'], dtype=object), count=array([292627]))\n",
      "ModeResult(mode=array(['USD'], dtype=object), count=array([295365]))\n"
     ]
    }
   ],
   "source": [
    "import scipy.stats\n",
    "\n",
    "print(scipy.stats.mode(kickstarter['country']))\n",
    "print(scipy.stats.mode(kickstarter['currency']))"
   ]
  },
  {
   "cell_type": "markdown",
   "id": "d946136b",
   "metadata": {},
   "source": [
    "The trimmed mean is a function that computes the mean of the data with observations removed. The most common way to compute a trimmed mean is by specifying a percentage and then removing elements from both ends. However, we can also specify a threshold on both ends. The goal of this function is to create a more robust method of computing the mean that is less influenced by outliers. SciPy contains a function called tmean for computing the trimmed mean.\n",
    "\n",
    "In the cell below, import the tmean function and then find the 75th percentile of the goal column. Compute the trimmed mean between 0 and the 75th percentile of the column. Read more about the tmean function here."
   ]
  },
  {
   "cell_type": "code",
   "execution_count": 14,
   "id": "6f93ab40",
   "metadata": {},
   "outputs": [
    {
     "data": {
      "text/plain": [
       "4874.150287106898"
      ]
     },
     "execution_count": 14,
     "metadata": {},
     "output_type": "execute_result"
    }
   ],
   "source": [
    "#x = np.arange(20)\n",
    "\n",
    "scipy.stats.tmean(kickstarter['goal'], limits=(kickstarter['goal'].quantile(0.0),\n",
    "                                               kickstarter['goal'].quantile(0.75)))"
   ]
  },
  {
   "cell_type": "markdown",
   "id": "9387cae4",
   "metadata": {},
   "source": [
    "**SciPy contains various statistical tests. One of the tests is Fisher's exact test. This test is used for contingency tables.**\n",
    "\n",
    "The test originates from the \"Lady Tasting Tea\" experiment. In 1935, Fisher published the results of the experiment in his book. The experiment was based on a claim by Muriel Bristol that she can taste whether tea or milk was first poured into the cup. Fisher devised this test to disprove her claim. The null hypothesis is that the treatments do not affect outcomes, while the alternative hypothesis is that the treatment does affect outcome. To read more about Fisher's exact test, click here.\n",
    "\n",
    "Let's perform Fisher's exact test on our KickStarter data. We intend to test the hypothesis that the choice of currency has an impact on meeting the pledge goal. We'll start by creating two derived columns in our dataframe. The first will contain 1 if the amount of money in usd_pledged_real is greater than the amount of money in usd_goal_real. We can compute this by using the np.where function. If the amount in one column is greater than the other, enter a value of 1, otherwise enter a value of zero. Add this column to the dataframe and name it goal_met."
   ]
  },
  {
   "cell_type": "code",
   "execution_count": 18,
   "id": "e983efe0",
   "metadata": {},
   "outputs": [
    {
     "data": {
      "text/html": [
       "<div>\n",
       "<style scoped>\n",
       "    .dataframe tbody tr th:only-of-type {\n",
       "        vertical-align: middle;\n",
       "    }\n",
       "\n",
       "    .dataframe tbody tr th {\n",
       "        vertical-align: top;\n",
       "    }\n",
       "\n",
       "    .dataframe thead th {\n",
       "        text-align: right;\n",
       "    }\n",
       "</style>\n",
       "<table border=\"1\" class=\"dataframe\">\n",
       "  <thead>\n",
       "    <tr style=\"text-align: right;\">\n",
       "      <th></th>\n",
       "      <th>ID</th>\n",
       "      <th>name</th>\n",
       "      <th>category</th>\n",
       "      <th>main_category</th>\n",
       "      <th>currency</th>\n",
       "      <th>deadline</th>\n",
       "      <th>goal</th>\n",
       "      <th>launched</th>\n",
       "      <th>pledged</th>\n",
       "      <th>state</th>\n",
       "      <th>backers</th>\n",
       "      <th>country</th>\n",
       "      <th>usd pledged</th>\n",
       "      <th>usd_pledged_real</th>\n",
       "      <th>usd_goal_real</th>\n",
       "      <th>goal_met</th>\n",
       "    </tr>\n",
       "  </thead>\n",
       "  <tbody>\n",
       "    <tr>\n",
       "      <th>0</th>\n",
       "      <td>1000002330</td>\n",
       "      <td>The Songs of Adelaide &amp; Abullah</td>\n",
       "      <td>Poetry</td>\n",
       "      <td>Publishing</td>\n",
       "      <td>GBP</td>\n",
       "      <td>2015-10-09</td>\n",
       "      <td>1000.0</td>\n",
       "      <td>2015-08-11 12:12:28</td>\n",
       "      <td>0.0</td>\n",
       "      <td>failed</td>\n",
       "      <td>0</td>\n",
       "      <td>GB</td>\n",
       "      <td>0.0</td>\n",
       "      <td>0.0</td>\n",
       "      <td>1533.95</td>\n",
       "      <td>0</td>\n",
       "    </tr>\n",
       "    <tr>\n",
       "      <th>1</th>\n",
       "      <td>1000003930</td>\n",
       "      <td>Greeting From Earth: ZGAC Arts Capsule For ET</td>\n",
       "      <td>Narrative Film</td>\n",
       "      <td>Film &amp; Video</td>\n",
       "      <td>USD</td>\n",
       "      <td>2017-11-01</td>\n",
       "      <td>30000.0</td>\n",
       "      <td>2017-09-02 04:43:57</td>\n",
       "      <td>2421.0</td>\n",
       "      <td>failed</td>\n",
       "      <td>15</td>\n",
       "      <td>US</td>\n",
       "      <td>100.0</td>\n",
       "      <td>2421.0</td>\n",
       "      <td>30000.00</td>\n",
       "      <td>0</td>\n",
       "    </tr>\n",
       "    <tr>\n",
       "      <th>2</th>\n",
       "      <td>1000004038</td>\n",
       "      <td>Where is Hank?</td>\n",
       "      <td>Narrative Film</td>\n",
       "      <td>Film &amp; Video</td>\n",
       "      <td>USD</td>\n",
       "      <td>2013-02-26</td>\n",
       "      <td>45000.0</td>\n",
       "      <td>2013-01-12 00:20:50</td>\n",
       "      <td>220.0</td>\n",
       "      <td>failed</td>\n",
       "      <td>3</td>\n",
       "      <td>US</td>\n",
       "      <td>220.0</td>\n",
       "      <td>220.0</td>\n",
       "      <td>45000.00</td>\n",
       "      <td>0</td>\n",
       "    </tr>\n",
       "    <tr>\n",
       "      <th>3</th>\n",
       "      <td>1000007540</td>\n",
       "      <td>ToshiCapital Rekordz Needs Help to Complete Album</td>\n",
       "      <td>Music</td>\n",
       "      <td>Music</td>\n",
       "      <td>USD</td>\n",
       "      <td>2012-04-16</td>\n",
       "      <td>5000.0</td>\n",
       "      <td>2012-03-17 03:24:11</td>\n",
       "      <td>1.0</td>\n",
       "      <td>failed</td>\n",
       "      <td>1</td>\n",
       "      <td>US</td>\n",
       "      <td>1.0</td>\n",
       "      <td>1.0</td>\n",
       "      <td>5000.00</td>\n",
       "      <td>0</td>\n",
       "    </tr>\n",
       "    <tr>\n",
       "      <th>4</th>\n",
       "      <td>1000011046</td>\n",
       "      <td>Community Film Project: The Art of Neighborhoo...</td>\n",
       "      <td>Film &amp; Video</td>\n",
       "      <td>Film &amp; Video</td>\n",
       "      <td>USD</td>\n",
       "      <td>2015-08-29</td>\n",
       "      <td>19500.0</td>\n",
       "      <td>2015-07-04 08:35:03</td>\n",
       "      <td>1283.0</td>\n",
       "      <td>canceled</td>\n",
       "      <td>14</td>\n",
       "      <td>US</td>\n",
       "      <td>1283.0</td>\n",
       "      <td>1283.0</td>\n",
       "      <td>19500.00</td>\n",
       "      <td>0</td>\n",
       "    </tr>\n",
       "  </tbody>\n",
       "</table>\n",
       "</div>"
      ],
      "text/plain": [
       "           ID                                               name  \\\n",
       "0  1000002330                    The Songs of Adelaide & Abullah   \n",
       "1  1000003930      Greeting From Earth: ZGAC Arts Capsule For ET   \n",
       "2  1000004038                                     Where is Hank?   \n",
       "3  1000007540  ToshiCapital Rekordz Needs Help to Complete Album   \n",
       "4  1000011046  Community Film Project: The Art of Neighborhoo...   \n",
       "\n",
       "         category main_category currency    deadline     goal  \\\n",
       "0          Poetry    Publishing      GBP  2015-10-09   1000.0   \n",
       "1  Narrative Film  Film & Video      USD  2017-11-01  30000.0   \n",
       "2  Narrative Film  Film & Video      USD  2013-02-26  45000.0   \n",
       "3           Music         Music      USD  2012-04-16   5000.0   \n",
       "4    Film & Video  Film & Video      USD  2015-08-29  19500.0   \n",
       "\n",
       "              launched  pledged     state  backers country  usd pledged  \\\n",
       "0  2015-08-11 12:12:28      0.0    failed        0      GB          0.0   \n",
       "1  2017-09-02 04:43:57   2421.0    failed       15      US        100.0   \n",
       "2  2013-01-12 00:20:50    220.0    failed        3      US        220.0   \n",
       "3  2012-03-17 03:24:11      1.0    failed        1      US          1.0   \n",
       "4  2015-07-04 08:35:03   1283.0  canceled       14      US       1283.0   \n",
       "\n",
       "   usd_pledged_real  usd_goal_real  goal_met  \n",
       "0               0.0        1533.95         0  \n",
       "1            2421.0       30000.00         0  \n",
       "2             220.0       45000.00         0  \n",
       "3               1.0        5000.00         0  \n",
       "4            1283.0       19500.00         0  "
      ]
     },
     "execution_count": 18,
     "metadata": {},
     "output_type": "execute_result"
    }
   ],
   "source": [
    "kickstarter['goal_met'] = np.where(kickstarter['usd_pledged_real'] > kickstarter['usd_goal_real'], 1, 0)\n",
    "kickstarter.head()"
   ]
  },
  {
   "cell_type": "markdown",
   "id": "c2c11a99",
   "metadata": {},
   "source": [
    "Next, create a column that checks whether the currency of the project is in US Dollars. Create a column called usd using the np.where function where if the currency is US Dollars, assign a value of 1 to the row and 0 otherwise."
   ]
  },
  {
   "cell_type": "code",
   "execution_count": 19,
   "id": "c8a05d0e",
   "metadata": {},
   "outputs": [
    {
     "data": {
      "text/html": [
       "<div>\n",
       "<style scoped>\n",
       "    .dataframe tbody tr th:only-of-type {\n",
       "        vertical-align: middle;\n",
       "    }\n",
       "\n",
       "    .dataframe tbody tr th {\n",
       "        vertical-align: top;\n",
       "    }\n",
       "\n",
       "    .dataframe thead th {\n",
       "        text-align: right;\n",
       "    }\n",
       "</style>\n",
       "<table border=\"1\" class=\"dataframe\">\n",
       "  <thead>\n",
       "    <tr style=\"text-align: right;\">\n",
       "      <th></th>\n",
       "      <th>ID</th>\n",
       "      <th>name</th>\n",
       "      <th>category</th>\n",
       "      <th>main_category</th>\n",
       "      <th>currency</th>\n",
       "      <th>deadline</th>\n",
       "      <th>goal</th>\n",
       "      <th>launched</th>\n",
       "      <th>pledged</th>\n",
       "      <th>state</th>\n",
       "      <th>backers</th>\n",
       "      <th>country</th>\n",
       "      <th>usd pledged</th>\n",
       "      <th>usd_pledged_real</th>\n",
       "      <th>usd_goal_real</th>\n",
       "      <th>goal_met</th>\n",
       "      <th>usd</th>\n",
       "    </tr>\n",
       "  </thead>\n",
       "  <tbody>\n",
       "    <tr>\n",
       "      <th>0</th>\n",
       "      <td>1000002330</td>\n",
       "      <td>The Songs of Adelaide &amp; Abullah</td>\n",
       "      <td>Poetry</td>\n",
       "      <td>Publishing</td>\n",
       "      <td>GBP</td>\n",
       "      <td>2015-10-09</td>\n",
       "      <td>1000.0</td>\n",
       "      <td>2015-08-11 12:12:28</td>\n",
       "      <td>0.0</td>\n",
       "      <td>failed</td>\n",
       "      <td>0</td>\n",
       "      <td>GB</td>\n",
       "      <td>0.0</td>\n",
       "      <td>0.0</td>\n",
       "      <td>1533.95</td>\n",
       "      <td>0</td>\n",
       "      <td>0</td>\n",
       "    </tr>\n",
       "    <tr>\n",
       "      <th>1</th>\n",
       "      <td>1000003930</td>\n",
       "      <td>Greeting From Earth: ZGAC Arts Capsule For ET</td>\n",
       "      <td>Narrative Film</td>\n",
       "      <td>Film &amp; Video</td>\n",
       "      <td>USD</td>\n",
       "      <td>2017-11-01</td>\n",
       "      <td>30000.0</td>\n",
       "      <td>2017-09-02 04:43:57</td>\n",
       "      <td>2421.0</td>\n",
       "      <td>failed</td>\n",
       "      <td>15</td>\n",
       "      <td>US</td>\n",
       "      <td>100.0</td>\n",
       "      <td>2421.0</td>\n",
       "      <td>30000.00</td>\n",
       "      <td>0</td>\n",
       "      <td>1</td>\n",
       "    </tr>\n",
       "    <tr>\n",
       "      <th>2</th>\n",
       "      <td>1000004038</td>\n",
       "      <td>Where is Hank?</td>\n",
       "      <td>Narrative Film</td>\n",
       "      <td>Film &amp; Video</td>\n",
       "      <td>USD</td>\n",
       "      <td>2013-02-26</td>\n",
       "      <td>45000.0</td>\n",
       "      <td>2013-01-12 00:20:50</td>\n",
       "      <td>220.0</td>\n",
       "      <td>failed</td>\n",
       "      <td>3</td>\n",
       "      <td>US</td>\n",
       "      <td>220.0</td>\n",
       "      <td>220.0</td>\n",
       "      <td>45000.00</td>\n",
       "      <td>0</td>\n",
       "      <td>1</td>\n",
       "    </tr>\n",
       "  </tbody>\n",
       "</table>\n",
       "</div>"
      ],
      "text/plain": [
       "           ID                                           name        category  \\\n",
       "0  1000002330                The Songs of Adelaide & Abullah          Poetry   \n",
       "1  1000003930  Greeting From Earth: ZGAC Arts Capsule For ET  Narrative Film   \n",
       "2  1000004038                                 Where is Hank?  Narrative Film   \n",
       "\n",
       "  main_category currency    deadline     goal             launched  pledged  \\\n",
       "0    Publishing      GBP  2015-10-09   1000.0  2015-08-11 12:12:28      0.0   \n",
       "1  Film & Video      USD  2017-11-01  30000.0  2017-09-02 04:43:57   2421.0   \n",
       "2  Film & Video      USD  2013-02-26  45000.0  2013-01-12 00:20:50    220.0   \n",
       "\n",
       "    state  backers country  usd pledged  usd_pledged_real  usd_goal_real  \\\n",
       "0  failed        0      GB          0.0               0.0        1533.95   \n",
       "1  failed       15      US        100.0            2421.0       30000.00   \n",
       "2  failed        3      US        220.0             220.0       45000.00   \n",
       "\n",
       "   goal_met  usd  \n",
       "0         0    0  \n",
       "1         0    1  \n",
       "2         0    1  "
      ]
     },
     "execution_count": 19,
     "metadata": {},
     "output_type": "execute_result"
    }
   ],
   "source": [
    "kickstarter['usd'] = np.where(kickstarter['currency'] == 'USD', 1, 0)\n",
    "kickstarter.head(3)"
   ]
  },
  {
   "cell_type": "markdown",
   "id": "7d784e98",
   "metadata": {},
   "source": [
    "Now create a contingency table using the pd.crosstab function in the cell below to compare the goal_met and usd columns.\n",
    "\n",
    "Import the fisher_exact function from scipy.stats and conduct the hypothesis test on the contingency table that you have generated above. You can read more about the fisher_exact function here. The output of the function should be the odds ratio and the p-value. The p-value will provide you with the outcome of the test.\n",
    "\n"
   ]
  },
  {
   "cell_type": "code",
   "execution_count": 24,
   "id": "e7623ead",
   "metadata": {},
   "outputs": [],
   "source": [
    "from scipy.stats import fisher_exact\n",
    "\n",
    "cont_table = pd.crosstab(index=kickstarter['goal_met'], columns=kickstarter['usd'])\n",
    "\n",
    "odd_ratio, p_value = scipy.stats.fisher_exact(cont_table)"
   ]
  },
  {
   "cell_type": "code",
   "execution_count": 27,
   "id": "e5461931",
   "metadata": {},
   "outputs": [
    {
     "data": {
      "text/html": [
       "<div>\n",
       "<style scoped>\n",
       "    .dataframe tbody tr th:only-of-type {\n",
       "        vertical-align: middle;\n",
       "    }\n",
       "\n",
       "    .dataframe tbody tr th {\n",
       "        vertical-align: top;\n",
       "    }\n",
       "\n",
       "    .dataframe thead th {\n",
       "        text-align: right;\n",
       "    }\n",
       "</style>\n",
       "<table border=\"1\" class=\"dataframe\">\n",
       "  <thead>\n",
       "    <tr style=\"text-align: right;\">\n",
       "      <th>usd</th>\n",
       "      <th>0</th>\n",
       "      <th>1</th>\n",
       "    </tr>\n",
       "    <tr>\n",
       "      <th>goal_met</th>\n",
       "      <th></th>\n",
       "      <th></th>\n",
       "    </tr>\n",
       "  </thead>\n",
       "  <tbody>\n",
       "    <tr>\n",
       "      <th>0</th>\n",
       "      <td>58685</td>\n",
       "      <td>187130</td>\n",
       "    </tr>\n",
       "    <tr>\n",
       "      <th>1</th>\n",
       "      <td>24611</td>\n",
       "      <td>108235</td>\n",
       "    </tr>\n",
       "  </tbody>\n",
       "</table>\n",
       "</div>"
      ],
      "text/plain": [
       "usd           0       1\n",
       "goal_met               \n",
       "0         58685  187130\n",
       "1         24611  108235"
      ]
     },
     "execution_count": 27,
     "metadata": {},
     "output_type": "execute_result"
    }
   ],
   "source": [
    "cont_table"
   ]
  },
  {
   "cell_type": "code",
   "execution_count": 25,
   "id": "96d8fff4",
   "metadata": {},
   "outputs": [
    {
     "data": {
      "text/plain": [
       "1.3791838163150314"
      ]
     },
     "execution_count": 25,
     "metadata": {},
     "output_type": "execute_result"
    }
   ],
   "source": [
    "odd_ratio"
   ]
  },
  {
   "cell_type": "code",
   "execution_count": 26,
   "id": "eea84662",
   "metadata": {},
   "outputs": [
    {
     "data": {
      "text/plain": [
       "9.78e-321"
      ]
     },
     "execution_count": 26,
     "metadata": {},
     "output_type": "execute_result"
    }
   ],
   "source": [
    "p_value"
   ]
  },
  {
   "cell_type": "markdown",
   "id": "babadc4e",
   "metadata": {},
   "source": [
    "### Challenge 2 - The linalg submodule"
   ]
  },
  {
   "cell_type": "markdown",
   "id": "4c56f587",
   "metadata": {},
   "source": [
    "This submodule allows us to perform various linear algebra calculations.\n",
    "\n",
    "Using the solve function, find the solution of the equation system 5x + 2y = 3 and 3x + y = 2 in the cell below."
   ]
  },
  {
   "cell_type": "code",
   "execution_count": 28,
   "id": "87af7969",
   "metadata": {},
   "outputs": [
    {
     "data": {
      "text/plain": [
       "array([ 1., -1.])"
      ]
     },
     "execution_count": 28,
     "metadata": {},
     "output_type": "execute_result"
    }
   ],
   "source": [
    "from scipy import linalg\n",
    "\n",
    "eq = [[5, 2], [3, 1]]\n",
    "res = [3, 2]\n",
    "\n",
    "linalg.solve(eq, res)"
   ]
  },
  {
   "cell_type": "markdown",
   "id": "eb46cc0c",
   "metadata": {},
   "source": [
    "### Challenge 3 - The interpolate submodule"
   ]
  },
  {
   "cell_type": "markdown",
   "id": "62d17d16",
   "metadata": {},
   "source": [
    "This submodule allows us to interpolate between two points and create a continuous distribution based on the observed data.\n",
    "\n",
    "In the cell below, import the interp1d function and first take a sample of 10 rows from kickstarter."
   ]
  },
  {
   "cell_type": "code",
   "execution_count": 224,
   "id": "cf1664a9",
   "metadata": {
    "scrolled": true
   },
   "outputs": [
    {
     "data": {
      "text/html": [
       "<div>\n",
       "<style scoped>\n",
       "    .dataframe tbody tr th:only-of-type {\n",
       "        vertical-align: middle;\n",
       "    }\n",
       "\n",
       "    .dataframe tbody tr th {\n",
       "        vertical-align: top;\n",
       "    }\n",
       "\n",
       "    .dataframe thead th {\n",
       "        text-align: right;\n",
       "    }\n",
       "</style>\n",
       "<table border=\"1\" class=\"dataframe\">\n",
       "  <thead>\n",
       "    <tr style=\"text-align: right;\">\n",
       "      <th></th>\n",
       "      <th>index</th>\n",
       "      <th>ID</th>\n",
       "      <th>name</th>\n",
       "      <th>category</th>\n",
       "      <th>main_category</th>\n",
       "      <th>currency</th>\n",
       "      <th>deadline</th>\n",
       "      <th>goal</th>\n",
       "      <th>launched</th>\n",
       "      <th>pledged</th>\n",
       "      <th>state</th>\n",
       "      <th>backers</th>\n",
       "      <th>country</th>\n",
       "      <th>usd pledged</th>\n",
       "      <th>usd_pledged_real</th>\n",
       "      <th>usd_goal_real</th>\n",
       "      <th>goal_met</th>\n",
       "      <th>usd</th>\n",
       "    </tr>\n",
       "  </thead>\n",
       "  <tbody>\n",
       "    <tr>\n",
       "      <th>0</th>\n",
       "      <td>158530</td>\n",
       "      <td>1806423450</td>\n",
       "      <td>Send Downtown Replay to the Asheville Fringe F...</td>\n",
       "      <td>Performances</td>\n",
       "      <td>Dance</td>\n",
       "      <td>USD</td>\n",
       "      <td>2017-02-06</td>\n",
       "      <td>500.0</td>\n",
       "      <td>2017-01-27 18:08:57</td>\n",
       "      <td>500.0</td>\n",
       "      <td>successful</td>\n",
       "      <td>7</td>\n",
       "      <td>US</td>\n",
       "      <td>50.00</td>\n",
       "      <td>500.00</td>\n",
       "      <td>500.00</td>\n",
       "      <td>0</td>\n",
       "      <td>1</td>\n",
       "    </tr>\n",
       "    <tr>\n",
       "      <th>1</th>\n",
       "      <td>245095</td>\n",
       "      <td>316562453</td>\n",
       "      <td>Buy the domain name loves.space</td>\n",
       "      <td>Web</td>\n",
       "      <td>Technology</td>\n",
       "      <td>USD</td>\n",
       "      <td>2015-02-03</td>\n",
       "      <td>160.0</td>\n",
       "      <td>2015-01-29 17:07:40</td>\n",
       "      <td>283.0</td>\n",
       "      <td>successful</td>\n",
       "      <td>25</td>\n",
       "      <td>US</td>\n",
       "      <td>283.00</td>\n",
       "      <td>283.00</td>\n",
       "      <td>160.00</td>\n",
       "      <td>1</td>\n",
       "      <td>1</td>\n",
       "    </tr>\n",
       "    <tr>\n",
       "      <th>2</th>\n",
       "      <td>377008</td>\n",
       "      <td>991614273</td>\n",
       "      <td>Airborne Gaming Group (Network)</td>\n",
       "      <td>Video Games</td>\n",
       "      <td>Games</td>\n",
       "      <td>USD</td>\n",
       "      <td>2017-02-01</td>\n",
       "      <td>1500.0</td>\n",
       "      <td>2016-12-14 07:53:35</td>\n",
       "      <td>0.0</td>\n",
       "      <td>failed</td>\n",
       "      <td>0</td>\n",
       "      <td>US</td>\n",
       "      <td>0.00</td>\n",
       "      <td>0.00</td>\n",
       "      <td>1500.00</td>\n",
       "      <td>0</td>\n",
       "      <td>1</td>\n",
       "    </tr>\n",
       "    <tr>\n",
       "      <th>3</th>\n",
       "      <td>33612</td>\n",
       "      <td>1170582950</td>\n",
       "      <td>Rally Around the Catskills Irish Arts Week in ...</td>\n",
       "      <td>World Music</td>\n",
       "      <td>Music</td>\n",
       "      <td>USD</td>\n",
       "      <td>2012-07-16</td>\n",
       "      <td>10000.0</td>\n",
       "      <td>2012-06-23 22:11:09</td>\n",
       "      <td>22580.0</td>\n",
       "      <td>successful</td>\n",
       "      <td>272</td>\n",
       "      <td>US</td>\n",
       "      <td>22580.00</td>\n",
       "      <td>22580.00</td>\n",
       "      <td>10000.00</td>\n",
       "      <td>1</td>\n",
       "      <td>1</td>\n",
       "    </tr>\n",
       "    <tr>\n",
       "      <th>4</th>\n",
       "      <td>356990</td>\n",
       "      <td>888606305</td>\n",
       "      <td>Ettitude | Fresh Bedding Reimagined with Coffee</td>\n",
       "      <td>Product Design</td>\n",
       "      <td>Design</td>\n",
       "      <td>AUD</td>\n",
       "      <td>2017-07-15</td>\n",
       "      <td>30000.0</td>\n",
       "      <td>2017-06-14 00:05:20</td>\n",
       "      <td>33558.0</td>\n",
       "      <td>successful</td>\n",
       "      <td>140</td>\n",
       "      <td>AU</td>\n",
       "      <td>4158.29</td>\n",
       "      <td>26578.49</td>\n",
       "      <td>23760.49</td>\n",
       "      <td>1</td>\n",
       "      <td>0</td>\n",
       "    </tr>\n",
       "    <tr>\n",
       "      <th>5</th>\n",
       "      <td>320457</td>\n",
       "      <td>701898875</td>\n",
       "      <td>Follow the Yellow Brick Road</td>\n",
       "      <td>Musical</td>\n",
       "      <td>Theater</td>\n",
       "      <td>USD</td>\n",
       "      <td>2015-10-08</td>\n",
       "      <td>5500.0</td>\n",
       "      <td>2015-09-08 17:00:31</td>\n",
       "      <td>6195.0</td>\n",
       "      <td>successful</td>\n",
       "      <td>49</td>\n",
       "      <td>US</td>\n",
       "      <td>6195.00</td>\n",
       "      <td>6195.00</td>\n",
       "      <td>5500.00</td>\n",
       "      <td>1</td>\n",
       "      <td>1</td>\n",
       "    </tr>\n",
       "    <tr>\n",
       "      <th>6</th>\n",
       "      <td>39780</td>\n",
       "      <td>120228951</td>\n",
       "      <td>THE TRAVELER DICE TOWER - Custom Options + Sto...</td>\n",
       "      <td>Tabletop Games</td>\n",
       "      <td>Games</td>\n",
       "      <td>USD</td>\n",
       "      <td>2017-12-06</td>\n",
       "      <td>1000.0</td>\n",
       "      <td>2017-11-08 16:13:38</td>\n",
       "      <td>84356.0</td>\n",
       "      <td>successful</td>\n",
       "      <td>892</td>\n",
       "      <td>US</td>\n",
       "      <td>13084.00</td>\n",
       "      <td>84356.00</td>\n",
       "      <td>1000.00</td>\n",
       "      <td>1</td>\n",
       "      <td>1</td>\n",
       "    </tr>\n",
       "    <tr>\n",
       "      <th>7</th>\n",
       "      <td>95085</td>\n",
       "      <td>148324269</td>\n",
       "      <td>The Best New Orleans Hair Control Product to R...</td>\n",
       "      <td>Product Design</td>\n",
       "      <td>Design</td>\n",
       "      <td>USD</td>\n",
       "      <td>2015-03-07</td>\n",
       "      <td>28000.0</td>\n",
       "      <td>2015-01-18 04:48:41</td>\n",
       "      <td>0.0</td>\n",
       "      <td>failed</td>\n",
       "      <td>0</td>\n",
       "      <td>US</td>\n",
       "      <td>0.00</td>\n",
       "      <td>0.00</td>\n",
       "      <td>28000.00</td>\n",
       "      <td>0</td>\n",
       "      <td>1</td>\n",
       "    </tr>\n",
       "    <tr>\n",
       "      <th>8</th>\n",
       "      <td>101845</td>\n",
       "      <td>1517587030</td>\n",
       "      <td>Josh Nightingale Debut EP</td>\n",
       "      <td>Music</td>\n",
       "      <td>Music</td>\n",
       "      <td>GBP</td>\n",
       "      <td>2017-02-04</td>\n",
       "      <td>3000.0</td>\n",
       "      <td>2017-01-05 19:47:56</td>\n",
       "      <td>3112.0</td>\n",
       "      <td>successful</td>\n",
       "      <td>122</td>\n",
       "      <td>GB</td>\n",
       "      <td>52.64</td>\n",
       "      <td>3878.22</td>\n",
       "      <td>3738.64</td>\n",
       "      <td>1</td>\n",
       "      <td>0</td>\n",
       "    </tr>\n",
       "    <tr>\n",
       "      <th>9</th>\n",
       "      <td>368897</td>\n",
       "      <td>949473829</td>\n",
       "      <td>Wonderful Mama Magazine</td>\n",
       "      <td>Apps</td>\n",
       "      <td>Technology</td>\n",
       "      <td>AUD</td>\n",
       "      <td>2015-11-15</td>\n",
       "      <td>50000.0</td>\n",
       "      <td>2015-10-16 07:02:31</td>\n",
       "      <td>1400.0</td>\n",
       "      <td>failed</td>\n",
       "      <td>12</td>\n",
       "      <td>AU</td>\n",
       "      <td>1027.42</td>\n",
       "      <td>1009.30</td>\n",
       "      <td>36046.43</td>\n",
       "      <td>0</td>\n",
       "      <td>0</td>\n",
       "    </tr>\n",
       "  </tbody>\n",
       "</table>\n",
       "</div>"
      ],
      "text/plain": [
       "    index          ID                                               name  \\\n",
       "0  158530  1806423450  Send Downtown Replay to the Asheville Fringe F...   \n",
       "1  245095   316562453                    Buy the domain name loves.space   \n",
       "2  377008   991614273                    Airborne Gaming Group (Network)   \n",
       "3   33612  1170582950  Rally Around the Catskills Irish Arts Week in ...   \n",
       "4  356990   888606305    Ettitude | Fresh Bedding Reimagined with Coffee   \n",
       "5  320457   701898875                       Follow the Yellow Brick Road   \n",
       "6   39780   120228951  THE TRAVELER DICE TOWER - Custom Options + Sto...   \n",
       "7   95085   148324269  The Best New Orleans Hair Control Product to R...   \n",
       "8  101845  1517587030                          Josh Nightingale Debut EP   \n",
       "9  368897   949473829                            Wonderful Mama Magazine   \n",
       "\n",
       "         category main_category currency    deadline     goal  \\\n",
       "0    Performances         Dance      USD  2017-02-06    500.0   \n",
       "1             Web    Technology      USD  2015-02-03    160.0   \n",
       "2     Video Games         Games      USD  2017-02-01   1500.0   \n",
       "3     World Music         Music      USD  2012-07-16  10000.0   \n",
       "4  Product Design        Design      AUD  2017-07-15  30000.0   \n",
       "5         Musical       Theater      USD  2015-10-08   5500.0   \n",
       "6  Tabletop Games         Games      USD  2017-12-06   1000.0   \n",
       "7  Product Design        Design      USD  2015-03-07  28000.0   \n",
       "8           Music         Music      GBP  2017-02-04   3000.0   \n",
       "9            Apps    Technology      AUD  2015-11-15  50000.0   \n",
       "\n",
       "              launched  pledged       state  backers country  usd pledged  \\\n",
       "0  2017-01-27 18:08:57    500.0  successful        7      US        50.00   \n",
       "1  2015-01-29 17:07:40    283.0  successful       25      US       283.00   \n",
       "2  2016-12-14 07:53:35      0.0      failed        0      US         0.00   \n",
       "3  2012-06-23 22:11:09  22580.0  successful      272      US     22580.00   \n",
       "4  2017-06-14 00:05:20  33558.0  successful      140      AU      4158.29   \n",
       "5  2015-09-08 17:00:31   6195.0  successful       49      US      6195.00   \n",
       "6  2017-11-08 16:13:38  84356.0  successful      892      US     13084.00   \n",
       "7  2015-01-18 04:48:41      0.0      failed        0      US         0.00   \n",
       "8  2017-01-05 19:47:56   3112.0  successful      122      GB        52.64   \n",
       "9  2015-10-16 07:02:31   1400.0      failed       12      AU      1027.42   \n",
       "\n",
       "   usd_pledged_real  usd_goal_real  goal_met  usd  \n",
       "0            500.00         500.00         0    1  \n",
       "1            283.00         160.00         1    1  \n",
       "2              0.00        1500.00         0    1  \n",
       "3          22580.00       10000.00         1    1  \n",
       "4          26578.49       23760.49         1    0  \n",
       "5           6195.00        5500.00         1    1  \n",
       "6          84356.00        1000.00         1    1  \n",
       "7              0.00       28000.00         0    1  \n",
       "8           3878.22        3738.64         1    0  \n",
       "9           1009.30       36046.43         0    0  "
      ]
     },
     "execution_count": 224,
     "metadata": {},
     "output_type": "execute_result"
    }
   ],
   "source": [
    "from scipy.interpolate import interp1d\n",
    "\n",
    "sample_k = kickstarter.sample(n = 10).reset_index()\n",
    "sample_k"
   ]
  },
  {
   "cell_type": "markdown",
   "id": "5a99ef81",
   "metadata": {},
   "source": [
    "Next, create a linear interpolation of the backers as a function of usd_pledged_real. Create a function f that generates a linear interpolation of backers as predicted by the amount of real pledged dollars.\n"
   ]
  },
  {
   "cell_type": "code",
   "execution_count": 235,
   "id": "d4e1b889",
   "metadata": {},
   "outputs": [
    {
     "data": {
      "text/plain": [
       "<scipy.interpolate.interpolate.interp1d at 0x7f9334936720>"
      ]
     },
     "execution_count": 235,
     "metadata": {},
     "output_type": "execute_result"
    }
   ],
   "source": [
    "f = interp1d(sample_k['usd_pledged_real'], sample_k['backers'], kind='linear')\n",
    "f"
   ]
  },
  {
   "cell_type": "markdown",
   "id": "86183d98",
   "metadata": {},
   "source": [
    "Now create a new variable called x_new. This variable will contain all integers between the minimum number of backers in our sample and the maximum number of backers. The goal here is to take the dataset that contains few obeservations due to sampling and fill all observations with a value using the interpolation function.\n",
    "\n",
    "Hint: one option is the np.arange function."
   ]
  },
  {
   "cell_type": "code",
   "execution_count": 245,
   "id": "d0216841",
   "metadata": {
    "collapsed": true
   },
   "outputs": [
    {
     "data": {
      "text/plain": [
       "array([  0,   1,   2,   3,   4,   5,   6,   7,   8,   9,  10,  11,  12,\n",
       "        13,  14,  15,  16,  17,  18,  19,  20,  21,  22,  23,  24,  25,\n",
       "        26,  27,  28,  29,  30,  31,  32,  33,  34,  35,  36,  37,  38,\n",
       "        39,  40,  41,  42,  43,  44,  45,  46,  47,  48,  49,  50,  51,\n",
       "        52,  53,  54,  55,  56,  57,  58,  59,  60,  61,  62,  63,  64,\n",
       "        65,  66,  67,  68,  69,  70,  71,  72,  73,  74,  75,  76,  77,\n",
       "        78,  79,  80,  81,  82,  83,  84,  85,  86,  87,  88,  89,  90,\n",
       "        91,  92,  93,  94,  95,  96,  97,  98,  99, 100, 101, 102, 103,\n",
       "       104, 105, 106, 107, 108, 109, 110, 111, 112, 113, 114, 115, 116,\n",
       "       117, 118, 119, 120, 121, 122, 123, 124, 125, 126, 127, 128, 129,\n",
       "       130, 131, 132, 133, 134, 135, 136, 137, 138, 139, 140, 141, 142,\n",
       "       143, 144, 145, 146, 147, 148, 149, 150, 151, 152, 153, 154, 155,\n",
       "       156, 157, 158, 159, 160, 161, 162, 163, 164, 165, 166, 167, 168,\n",
       "       169, 170, 171, 172, 173, 174, 175, 176, 177, 178, 179, 180, 181,\n",
       "       182, 183, 184, 185, 186, 187, 188, 189, 190, 191, 192, 193, 194,\n",
       "       195, 196, 197, 198, 199, 200, 201, 202, 203, 204, 205, 206, 207,\n",
       "       208, 209, 210, 211, 212, 213, 214, 215, 216, 217, 218, 219, 220,\n",
       "       221, 222, 223, 224, 225, 226, 227, 228, 229, 230, 231, 232, 233,\n",
       "       234, 235, 236, 237, 238, 239, 240, 241, 242, 243, 244, 245, 246,\n",
       "       247, 248, 249, 250, 251, 252, 253, 254, 255, 256, 257, 258, 259,\n",
       "       260, 261, 262, 263, 264, 265, 266, 267, 268, 269, 270, 271, 272,\n",
       "       273, 274, 275, 276, 277, 278, 279, 280, 281, 282, 283, 284, 285,\n",
       "       286, 287, 288, 289, 290, 291, 292, 293, 294, 295, 296, 297, 298,\n",
       "       299, 300, 301, 302, 303, 304, 305, 306, 307, 308, 309, 310, 311,\n",
       "       312, 313, 314, 315, 316, 317, 318, 319, 320, 321, 322, 323, 324,\n",
       "       325, 326, 327, 328, 329, 330, 331, 332, 333, 334, 335, 336, 337,\n",
       "       338, 339, 340, 341, 342, 343, 344, 345, 346, 347, 348, 349, 350,\n",
       "       351, 352, 353, 354, 355, 356, 357, 358, 359, 360, 361, 362, 363,\n",
       "       364, 365, 366, 367, 368, 369, 370, 371, 372, 373, 374, 375, 376,\n",
       "       377, 378, 379, 380, 381, 382, 383, 384, 385, 386, 387, 388, 389,\n",
       "       390, 391, 392, 393, 394, 395, 396, 397, 398, 399, 400, 401, 402,\n",
       "       403, 404, 405, 406, 407, 408, 409, 410, 411, 412, 413, 414, 415,\n",
       "       416, 417, 418, 419, 420, 421, 422, 423, 424, 425, 426, 427, 428,\n",
       "       429, 430, 431, 432, 433, 434, 435, 436, 437, 438, 439, 440, 441,\n",
       "       442, 443, 444, 445, 446, 447, 448, 449, 450, 451, 452, 453, 454,\n",
       "       455, 456, 457, 458, 459, 460, 461, 462, 463, 464, 465, 466, 467,\n",
       "       468, 469, 470, 471, 472, 473, 474, 475, 476, 477, 478, 479, 480,\n",
       "       481, 482, 483, 484, 485, 486, 487, 488, 489, 490, 491, 492, 493,\n",
       "       494, 495, 496, 497, 498, 499, 500, 501, 502, 503, 504, 505, 506,\n",
       "       507, 508, 509, 510, 511, 512, 513, 514, 515, 516, 517, 518, 519,\n",
       "       520, 521, 522, 523, 524, 525, 526, 527, 528, 529, 530, 531, 532,\n",
       "       533, 534, 535, 536, 537, 538, 539, 540, 541, 542, 543, 544, 545,\n",
       "       546, 547, 548, 549, 550, 551, 552, 553, 554, 555, 556, 557, 558,\n",
       "       559, 560, 561, 562, 563, 564, 565, 566, 567, 568, 569, 570, 571,\n",
       "       572, 573, 574, 575, 576, 577, 578, 579, 580, 581, 582, 583, 584,\n",
       "       585, 586, 587, 588, 589, 590, 591, 592, 593, 594, 595, 596, 597,\n",
       "       598, 599, 600, 601, 602, 603, 604, 605, 606, 607, 608, 609, 610,\n",
       "       611, 612, 613, 614, 615, 616, 617, 618, 619, 620, 621, 622, 623,\n",
       "       624, 625, 626, 627, 628, 629, 630, 631, 632, 633, 634, 635, 636,\n",
       "       637, 638, 639, 640, 641, 642, 643, 644, 645, 646, 647, 648, 649,\n",
       "       650, 651, 652, 653, 654, 655, 656, 657, 658, 659, 660, 661, 662,\n",
       "       663, 664, 665, 666, 667, 668, 669, 670, 671, 672, 673, 674, 675,\n",
       "       676, 677, 678, 679, 680, 681, 682, 683, 684, 685, 686, 687, 688,\n",
       "       689, 690, 691, 692, 693, 694, 695, 696, 697, 698, 699, 700, 701,\n",
       "       702, 703, 704, 705, 706, 707, 708, 709, 710, 711, 712, 713, 714,\n",
       "       715, 716, 717, 718, 719, 720, 721, 722, 723, 724, 725, 726, 727,\n",
       "       728, 729, 730, 731, 732, 733, 734, 735, 736, 737, 738, 739, 740,\n",
       "       741, 742, 743, 744, 745, 746, 747, 748, 749, 750, 751, 752, 753,\n",
       "       754, 755, 756, 757, 758, 759, 760, 761, 762, 763, 764, 765, 766,\n",
       "       767, 768, 769, 770, 771, 772, 773, 774, 775, 776, 777, 778, 779,\n",
       "       780, 781, 782, 783, 784, 785, 786, 787, 788, 789, 790, 791, 792,\n",
       "       793, 794, 795, 796, 797, 798, 799, 800, 801, 802, 803, 804, 805,\n",
       "       806, 807, 808, 809, 810, 811, 812, 813, 814, 815, 816, 817, 818,\n",
       "       819, 820, 821, 822, 823, 824, 825, 826, 827, 828, 829, 830, 831,\n",
       "       832, 833, 834, 835, 836, 837, 838, 839, 840, 841, 842, 843, 844,\n",
       "       845, 846, 847, 848, 849, 850, 851, 852, 853, 854, 855, 856, 857,\n",
       "       858, 859, 860, 861, 862, 863, 864, 865, 866, 867, 868, 869, 870,\n",
       "       871, 872, 873, 874, 875, 876, 877, 878, 879, 880, 881, 882, 883,\n",
       "       884, 885, 886, 887, 888, 889, 890, 891])"
      ]
     },
     "execution_count": 245,
     "metadata": {},
     "output_type": "execute_result"
    }
   ],
   "source": [
    "x_new = np.arange(sample_k['backers'].min(), sample_k['backers'].max())\n",
    "x_new "
   ]
  },
  {
   "cell_type": "markdown",
   "id": "081a9205",
   "metadata": {},
   "source": [
    "Plot function f for all values of x_new. Run the code below.\n",
    "\n"
   ]
  },
  {
   "cell_type": "code",
   "execution_count": 237,
   "id": "9ef182bb",
   "metadata": {},
   "outputs": [
    {
     "data": {
      "text/plain": [
       "[<matplotlib.lines.Line2D at 0x7f93349df130>]"
      ]
     },
     "execution_count": 237,
     "metadata": {},
     "output_type": "execute_result"
    },
    {
     "data": {
      "image/png": "[encoded data removed]",
      "text/plain": [
       "<Figure size 432x288 with 1 Axes>"
      ]
     },
     "metadata": {
      "needs_background": "light"
     },
     "output_type": "display_data"
    }
   ],
   "source": [
    "%matplotlib inline\n",
    "import matplotlib.pyplot as plt\n",
    "\n",
    "plt.plot(x_new, f(x_new), 'o')"
   ]
  },
  {
   "cell_type": "markdown",
   "id": "20560356",
   "metadata": {},
   "source": [
    "Next create a function that will generate a cubic interpolation function. Name the function g\n",
    "\n"
   ]
  },
  {
   "cell_type": "code",
   "execution_count": 240,
   "id": "37258fb3",
   "metadata": {},
   "outputs": [
    {
     "data": {
      "text/plain": [
       "array([    0.  ,   283.  ,   500.  ,  1009.3 ,  3878.22,  6195.  ,\n",
       "       22580.  , 26578.49, 84356.  ])"
      ]
     },
     "execution_count": 240,
     "metadata": {},
     "output_type": "execute_result"
    }
   ],
   "source": [
    "x = np.unique(sample_k['usd_pledged_real'],return_index=True)[0]\n",
    "x"
   ]
  },
  {
   "cell_type": "code",
   "execution_count": 241,
   "id": "c8a823d6",
   "metadata": {},
   "outputs": [
    {
     "data": {
      "text/plain": [
       "2      0\n",
       "1     25\n",
       "0      7\n",
       "9     12\n",
       "8    122\n",
       "5     49\n",
       "3    272\n",
       "4    140\n",
       "6    892\n",
       "Name: backers, dtype: int64"
      ]
     },
     "execution_count": 241,
     "metadata": {},
     "output_type": "execute_result"
    }
   ],
   "source": [
    "y = sample_k['backers'][np.unique(sample_k['usd_pledged_real'],return_index=True)[1]]\n",
    "y"
   ]
  },
  {
   "cell_type": "code",
   "execution_count": 242,
   "id": "b70eb686",
   "metadata": {},
   "outputs": [
    {
     "data": {
      "text/plain": [
       "<scipy.interpolate.interpolate.interp1d at 0x7f9338bd6900>"
      ]
     },
     "execution_count": 242,
     "metadata": {},
     "output_type": "execute_result"
    }
   ],
   "source": [
    "g = interp1d(x, y, kind='cubic')\n",
    "g"
   ]
  },
  {
   "cell_type": "code",
   "execution_count": 244,
   "id": "055c9377",
   "metadata": {},
   "outputs": [
    {
     "data": {
      "text/plain": [
       "[<matplotlib.lines.Line2D at 0x7f93348f2d60>]"
      ]
     },
     "execution_count": 244,
     "metadata": {},
     "output_type": "execute_result"
    },
    {
     "data": {
      "image/png": "[encoded data removed]",
      "text/plain": [
       "<Figure size 432x288 with 1 Axes>"
      ]
     },
     "metadata": {
      "needs_background": "light"
     },
     "output_type": "display_data"
    }
   ],
   "source": [
    "# Run this code:\n",
    "\n",
    "plt.plot(x_new, g(x_new), 'o')"
   ]
  },
  {
   "cell_type": "markdown",
   "id": "c295e68f",
   "metadata": {},
   "source": [
    "### Bonus Challenge - The Binomial Distribution"
   ]
  },
  {
   "cell_type": "markdown",
   "id": "bacae3d1",
   "metadata": {},
   "source": [
    "The binomial distribution allows us to calculate the probability of k successes in n trials for a random variable with two possible outcomes (which we typically label success and failure).\n",
    "\n",
    "The probability of success is typically denoted by p and the probability of failure is denoted by 1-p.\n",
    "\n",
    "The scipy.stats submodule contains a binom function for computing the probabilites of a random variable with the binomial distribution. You may read more about the binomial distribution here and about the binom function here.\n",
    "\n",
    "In the cell below, compute the probability that a dice lands on 5 exactly 3 times in 8 tries.\n",
    "\n",
    "Hint: the probability of rolling a 5 is 1/6.\n"
   ]
  },
  {
   "cell_type": "code",
   "execution_count": 74,
   "id": "c9e75a58",
   "metadata": {},
   "outputs": [],
   "source": [
    "from scipy.stats import binom"
   ]
  },
  {
   "cell_type": "code",
   "execution_count": 264,
   "id": "e742182c",
   "metadata": {},
   "outputs": [
    {
     "data": {
      "text/plain": [
       "10.419048163389725"
      ]
     },
     "execution_count": 264,
     "metadata": {},
     "output_type": "execute_result"
    }
   ],
   "source": [
    "binom.pmf(3, 8, (1/6))*100"
   ]
  }
 ],
 "metadata": {
  "kernelspec": {
   "display_name": "Python 3 (ipykernel)",
   "language": "python",
   "name": "python3"
  },
  "language_info": {
   "codemirror_mode": {
    "name": "ipython",
    "version": 3
   },
   "file_extension": ".py",
   "mimetype": "text/x-python",
   "name": "python",
   "nbconvert_exporter": "python",
   "pygments_lexer": "ipython3",
   "version": "3.9.12"
  }
 },
 "nbformat": 4,
 "nbformat_minor": 5
}
