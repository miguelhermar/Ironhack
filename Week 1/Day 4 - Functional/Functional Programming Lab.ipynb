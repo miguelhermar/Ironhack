{
 "cells": [
  {
   "cell_type": "markdown",
   "id": "730b55f0",
   "metadata": {},
   "source": [
    "### Challenge 1 - Functions."
   ]
  },
  {
   "cell_type": "markdown",
   "id": "fc0d410c",
   "metadata": {},
   "source": [
    "A function is a block of organized, reusable code that is used to perform a single, related action. Functions provide better modularity for your application and a high degree of code reusing. Create a function to find the summation of the number of every number from 1 to num."
   ]
  },
  {
   "cell_type": "code",
   "execution_count": null,
   "id": "75c99523",
   "metadata": {},
   "outputs": [],
   "source": [
    "num=76"
   ]
  },
  {
   "cell_type": "code",
   "execution_count": null,
   "id": "762fc015",
   "metadata": {},
   "outputs": [],
   "source": [
    "def summation(num):\n",
    "    # This function returns 1+2+3+....+num\n",
    "    result = sum(range(1,num+1))\n",
    "    return result"
   ]
  },
  {
   "cell_type": "code",
   "execution_count": null,
   "id": "a55f2488",
   "metadata": {},
   "outputs": [],
   "source": [
    "summation(num)"
   ]
  },
  {
   "cell_type": "markdown",
   "id": "d15b1cbb",
   "metadata": {},
   "source": [
    "### Challenge 2 - Positional arguments, Args and Kwargs."
   ]
  },
  {
   "cell_type": "markdown",
   "id": "fa081692",
   "metadata": {},
   "source": [
    "The syntax args and **kwargs in function definitions is used to pass a variable number of arguments to a function. The single asterisk form (args) is used to pass a non-keyworded, variable-length argument list, and the double asterisk form is used to pass a keyworded, variable-length argument list. Create a function to find the summation of all elements of the array."
   ]
  },
  {
   "cell_type": "code",
   "execution_count": null,
   "id": "6e4abc8c",
   "metadata": {},
   "outputs": [],
   "source": [
    "array=[3, 8, 16]"
   ]
  },
  {
   "cell_type": "code",
   "execution_count": null,
   "id": "afccadb2",
   "metadata": {},
   "outputs": [],
   "source": [
    "def summation2(*args):\n",
    "    # This function returns the sum of *args\n",
    "    return sum(*args)"
   ]
  },
  {
   "cell_type": "code",
   "execution_count": null,
   "id": "bac20aa3",
   "metadata": {},
   "outputs": [],
   "source": [
    "summation2(array)"
   ]
  },
  {
   "cell_type": "markdown",
   "id": "249e21db",
   "metadata": {},
   "source": [
    "Now, do the same thing with positional arguments.\n",
    "\n"
   ]
  },
  {
   "cell_type": "code",
   "execution_count": null,
   "id": "e03bbf18",
   "metadata": {},
   "outputs": [],
   "source": [
    "def summation3(a, b, c):\n",
    "    # This function returns a+b+c\n",
    "    return a+b+c\n"
   ]
  },
  {
   "cell_type": "code",
   "execution_count": null,
   "id": "68319406",
   "metadata": {},
   "outputs": [],
   "source": [
    "summation3(3, 8, 16)"
   ]
  },
  {
   "cell_type": "markdown",
   "id": "c1e47ade",
   "metadata": {},
   "source": [
    "Given the next dictionary of M&Ms, create a function to sum all non red M&Ms.\n",
    "\n"
   ]
  },
  {
   "cell_type": "code",
   "execution_count": 602,
   "id": "a4b05a96",
   "metadata": {},
   "outputs": [],
   "source": [
    "dictionary={'red':3, 'blue':8, 'green':24, 'orange':12, 'purple':10}"
   ]
  },
  {
   "cell_type": "code",
   "execution_count": 603,
   "id": "8a27c2c0",
   "metadata": {},
   "outputs": [],
   "source": [
    "def summation4(d):\n",
    "    # This function returns the sum of all M&Ms, except the red ones\n",
    "    #print(\"Data type of argument:\",type(kwargs))\n",
    "    suma_2 = 0\n",
    "    for key, value in d.items():\n",
    "        if key != \"red\":\n",
    "            suma_2 += value\n",
    "    return suma_2"
   ]
  },
  {
   "cell_type": "code",
   "execution_count": 604,
   "id": "a9835a09",
   "metadata": {},
   "outputs": [
    {
     "data": {
      "text/plain": [
       "54"
      ]
     },
     "execution_count": 604,
     "metadata": {},
     "output_type": "execute_result"
    }
   ],
   "source": [
    "summation4(dictionary)"
   ]
  },
  {
   "cell_type": "markdown",
   "id": "0fbaa082",
   "metadata": {},
   "source": [
    "Below, create a function to sum all following elements.\n",
    "\n"
   ]
  },
  {
   "cell_type": "code",
   "execution_count": null,
   "id": "96d2a2dc",
   "metadata": {},
   "outputs": [],
   "source": [
    "a=4\n",
    "b=6\n",
    "c=15\n",
    "d=[48, 465, 23, 96]\n",
    "e={'A':16, 'B':32, 'C':64}\n",
    "f=[[49], [465], [22], [96]]"
   ]
  },
  {
   "cell_type": "code",
   "execution_count": null,
   "id": "45db2d97",
   "metadata": {},
   "outputs": [],
   "source": [
    "def summation5(a, b, c, d, e):\n",
    "    # This function returns the sum of a,b,c,d and e\n",
    "    result5= a+b+c+sum(d)+sum(e.values())\n",
    "    return result5\n",
    "\n",
    "summation5(a, b, c, d, e)"
   ]
  },
  {
   "cell_type": "markdown",
   "id": "de3f1b26",
   "metadata": {},
   "source": [
    "### Challenge 3 - Iterators, Generators and yield."
   ]
  },
  {
   "cell_type": "markdown",
   "id": "112ba27b",
   "metadata": {},
   "source": [
    "In iterator in Python is an object that represents a stream of data. However, iterators contain a countable number of values. We traverse through the iterator and return one value at a time. All iterators support a next function that allows us to traverse through the iterator. We can create an iterator using the iter function that comes with the base package of Python. Below is an example of an iterator."
   ]
  },
  {
   "cell_type": "code",
   "execution_count": null,
   "id": "17bd62b4",
   "metadata": {},
   "outputs": [],
   "source": [
    "# We first define our iterator:\n",
    "\n",
    "iterator = iter([1,2,3])"
   ]
  },
  {
   "cell_type": "code",
   "execution_count": null,
   "id": "7f066148",
   "metadata": {},
   "outputs": [],
   "source": [
    "print(next(iterator))"
   ]
  },
  {
   "cell_type": "code",
   "execution_count": null,
   "id": "b9f18416",
   "metadata": {},
   "outputs": [],
   "source": [
    "# We continue to iterate through the iterator.\n",
    "\n",
    "print(next(iterator))"
   ]
  },
  {
   "cell_type": "code",
   "execution_count": null,
   "id": "ab83f043",
   "metadata": {},
   "outputs": [],
   "source": [
    "print(next(iterator))"
   ]
  },
  {
   "cell_type": "code",
   "execution_count": null,
   "id": "c45b61af",
   "metadata": {},
   "outputs": [],
   "source": [
    "# After we have iterated through all elements, we will get a StopIteration Error\n",
    "\n",
    "print(next(iterator))"
   ]
  },
  {
   "cell_type": "code",
   "execution_count": 509,
   "id": "3dc82e5e",
   "metadata": {},
   "outputs": [
    {
     "name": "stdout",
     "output_type": "stream",
     "text": [
      "1\n",
      "2\n",
      "3\n"
     ]
    }
   ],
   "source": [
    "# We can also iterate through an iterator using a for loop like this:\n",
    "# Note: we cannot go back directly in an iterator once we have traversed through the elements. \n",
    "# This is why we are redefining the iterator below\n",
    "\n",
    "iterator = iter([1,2,3])\n",
    " \n",
    "for i in iterator:\n",
    "    print(i)"
   ]
  },
  {
   "cell_type": "markdown",
   "id": "b7b96c23",
   "metadata": {},
   "source": [
    "In the cell below, write a function that takes an iterator and returns the first element in the iterator that is divisible by 2. Assume that all iterators contain only numeric data. If we have not found a single element that is divisible by 2, return zero.\n"
   ]
  },
  {
   "cell_type": "code",
   "execution_count": 510,
   "id": "cd90be49",
   "metadata": {},
   "outputs": [],
   "source": [
    "iterator=iter([1,2,3])\n",
    "\n",
    "def divisible2(iterator):\n",
    "    # This function takes an iterable and returns the first element that is divisible by 2 and zero otherwise\n",
    "    # Input: Iterable\n",
    "    # Output: Integer\n",
    "    for i in iterator:\n",
    "        if i % 2 == 0:\n",
    "            return (i)"
   ]
  },
  {
   "cell_type": "code",
   "execution_count": 511,
   "id": "55f7f812",
   "metadata": {},
   "outputs": [
    {
     "data": {
      "text/plain": [
       "2"
      ]
     },
     "execution_count": 511,
     "metadata": {},
     "output_type": "execute_result"
    }
   ],
   "source": [
    "divisible2(iterator)"
   ]
  },
  {
   "cell_type": "markdown",
   "id": "920744f1",
   "metadata": {},
   "source": [
    "### Generators"
   ]
  },
  {
   "cell_type": "markdown",
   "id": "87a59ca7",
   "metadata": {},
   "source": [
    "It is quite difficult to create your own iterator since you would have to implement a next function. Generators are functions that enable us to create iterators. The difference between a function and a generator is that instead of using return, we use yield. For example, below we have a function that returns an iterator containing the numbers 0 through n:"
   ]
  },
  {
   "cell_type": "code",
   "execution_count": 512,
   "id": "4d03323a",
   "metadata": {},
   "outputs": [],
   "source": [
    "def firstn(n):\n",
    "    number = 0\n",
    "    while number < n:\n",
    "        yield number\n",
    "        number = number + 1"
   ]
  },
  {
   "cell_type": "markdown",
   "id": "9837587a",
   "metadata": {},
   "source": [
    "If we pass 5 to the function, we will see that we have a iterator containing the numbers 0 through 4.\n",
    "\n"
   ]
  },
  {
   "cell_type": "code",
   "execution_count": 598,
   "id": "00057963",
   "metadata": {},
   "outputs": [
    {
     "name": "stdout",
     "output_type": "stream",
     "text": [
      "0\n",
      "1\n",
      "2\n",
      "3\n",
      "4\n"
     ]
    }
   ],
   "source": [
    "iterator = firstn(5)\n",
    "\n",
    "for i in iterator:\n",
    "    print(i)"
   ]
  },
  {
   "cell_type": "markdown",
   "id": "636359d6",
   "metadata": {},
   "source": [
    "In the cell below, create a generator that takes a number and returns an iterator containing all even numbers between 0 and the number you passed to the generator."
   ]
  },
  {
   "cell_type": "code",
   "execution_count": 599,
   "id": "3aec9a91",
   "metadata": {},
   "outputs": [],
   "source": [
    "def even_iterator(number):\n",
    "    for number in range(0, number):\n",
    "        if number % 2 == 0:\n",
    "            yield number"
   ]
  },
  {
   "cell_type": "code",
   "execution_count": 600,
   "id": "920c20c6",
   "metadata": {},
   "outputs": [
    {
     "data": {
      "text/plain": [
       "<generator object even_iterator at 0x7feaa246fc80>"
      ]
     },
     "execution_count": 600,
     "metadata": {},
     "output_type": "execute_result"
    }
   ],
   "source": [
    "iterator_2 = even_iterator(5)\n",
    "iterator_2"
   ]
  },
  {
   "cell_type": "code",
   "execution_count": 601,
   "id": "9704ba44",
   "metadata": {},
   "outputs": [
    {
     "name": "stdout",
     "output_type": "stream",
     "text": [
      "0\n",
      "2\n",
      "4\n"
     ]
    }
   ],
   "source": [
    "for i in iterator_2:\n",
    "    print(i)"
   ]
  }
 ],
 "metadata": {
  "kernelspec": {
   "display_name": "Python 3 (ipykernel)",
   "language": "python",
   "name": "python3"
  },
  "language_info": {
   "codemirror_mode": {
    "name": "ipython",
    "version": 3
   },
   "file_extension": ".py",
   "mimetype": "text/x-python",
   "name": "python",
   "nbconvert_exporter": "python",
   "pygments_lexer": "ipython3",
   "version": "3.9.12"
  }
 },
 "nbformat": 4,
 "nbformat_minor": 5
}
