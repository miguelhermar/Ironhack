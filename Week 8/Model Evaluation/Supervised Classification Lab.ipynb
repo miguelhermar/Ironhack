{
 "cells": [
  {
   "cell_type": "markdown",
   "id": "ef5ed450",
   "metadata": {},
   "source": [
    "## Supervised Classification\n"
   ]
  },
  {
   "cell_type": "code",
   "execution_count": 63,
   "id": "aab5f4f0",
   "metadata": {},
   "outputs": [],
   "source": [
    "import pandas as pd\n",
    "import numpy as np\n",
    "\n",
    "import seaborn as sns\n",
    "import matplotlib.pyplot as plt \n",
    "%matplotlib inline\n",
    "\n",
    "from sklearn.linear_model import LogisticRegression\n",
    "from sklearn.neighbors import KNeighborsClassifier\n",
    "from sklearn.tree import DecisionTreeClassifier\n",
    "from sklearn.ensemble import RandomForestClassifier\n",
    "import catboost as cat \n",
    "\n",
    "from sklearn.metrics import r2_score\n",
    "from sklearn.metrics import mean_squared_error, mean_absolute_error\n",
    "\n",
    "from sklearn.model_selection import train_test_split\n",
    "from sklearn.preprocessing import StandardScaler, OneHotEncoder\n",
    "\n",
    "from sklearn.metrics import accuracy_score\n",
    "from sklearn.metrics import precision_score\n",
    "from sklearn.metrics import recall_score\n",
    "from sklearn.metrics import f1_score\n",
    "from sklearn.metrics import confusion_matrix, ConfusionMatrixDisplay\n",
    "\n",
    "from sklearn.decomposition import PCA\n",
    "\n",
    "import warnings\n",
    "warnings.filterwarnings(\"ignore\")"
   ]
  },
  {
   "cell_type": "markdown",
   "id": "10b67df1",
   "metadata": {},
   "source": [
    "In the data.csv there are letters (uppercases and lowercases) and numbers, 28x28 pixels in a row format.\n",
    "\n",
    "First, you need to know which labels are which, meaning you need to visualize some data to realize which number labels represents a letter, or a number.\n"
   ]
  },
  {
   "cell_type": "code",
   "execution_count": 2,
   "id": "a107596e",
   "metadata": {},
   "outputs": [],
   "source": [
    "data = pd.read_csv('./data_all.csv')"
   ]
  },
  {
   "cell_type": "code",
   "execution_count": 3,
   "id": "f341e721",
   "metadata": {},
   "outputs": [
    {
     "data": {
      "text/html": [
       "<div>\n",
       "<style scoped>\n",
       "    .dataframe tbody tr th:only-of-type {\n",
       "        vertical-align: middle;\n",
       "    }\n",
       "\n",
       "    .dataframe tbody tr th {\n",
       "        vertical-align: top;\n",
       "    }\n",
       "\n",
       "    .dataframe thead th {\n",
       "        text-align: right;\n",
       "    }\n",
       "</style>\n",
       "<table border=\"1\" class=\"dataframe\">\n",
       "  <thead>\n",
       "    <tr style=\"text-align: right;\">\n",
       "      <th></th>\n",
       "      <th>e</th>\n",
       "      <th>1</th>\n",
       "      <th>2</th>\n",
       "      <th>3</th>\n",
       "      <th>4</th>\n",
       "      <th>5</th>\n",
       "      <th>6</th>\n",
       "      <th>7</th>\n",
       "      <th>8</th>\n",
       "      <th>9</th>\n",
       "      <th>...</th>\n",
       "      <th>775</th>\n",
       "      <th>776</th>\n",
       "      <th>777</th>\n",
       "      <th>778</th>\n",
       "      <th>779</th>\n",
       "      <th>780</th>\n",
       "      <th>781</th>\n",
       "      <th>782</th>\n",
       "      <th>783</th>\n",
       "      <th>784</th>\n",
       "    </tr>\n",
       "  </thead>\n",
       "  <tbody>\n",
       "    <tr>\n",
       "      <th>0</th>\n",
       "      <td>36.0</td>\n",
       "      <td>0.0</td>\n",
       "      <td>0.0</td>\n",
       "      <td>0.0</td>\n",
       "      <td>0.0</td>\n",
       "      <td>0.0</td>\n",
       "      <td>0.0</td>\n",
       "      <td>0.0</td>\n",
       "      <td>0.0</td>\n",
       "      <td>0.0</td>\n",
       "      <td>...</td>\n",
       "      <td>0.0</td>\n",
       "      <td>0.0</td>\n",
       "      <td>0.0</td>\n",
       "      <td>0.0</td>\n",
       "      <td>0.0</td>\n",
       "      <td>0.0</td>\n",
       "      <td>0.0</td>\n",
       "      <td>0.0</td>\n",
       "      <td>0.0</td>\n",
       "      <td>0.0</td>\n",
       "    </tr>\n",
       "    <tr>\n",
       "      <th>1</th>\n",
       "      <td>0.0</td>\n",
       "      <td>0.0</td>\n",
       "      <td>0.0</td>\n",
       "      <td>0.0</td>\n",
       "      <td>0.0</td>\n",
       "      <td>0.0</td>\n",
       "      <td>0.0</td>\n",
       "      <td>0.0</td>\n",
       "      <td>0.0</td>\n",
       "      <td>0.0</td>\n",
       "      <td>...</td>\n",
       "      <td>0.0</td>\n",
       "      <td>0.0</td>\n",
       "      <td>0.0</td>\n",
       "      <td>0.0</td>\n",
       "      <td>0.0</td>\n",
       "      <td>0.0</td>\n",
       "      <td>0.0</td>\n",
       "      <td>0.0</td>\n",
       "      <td>0.0</td>\n",
       "      <td>0.0</td>\n",
       "    </tr>\n",
       "    <tr>\n",
       "      <th>2</th>\n",
       "      <td>3.0</td>\n",
       "      <td>0.0</td>\n",
       "      <td>0.0</td>\n",
       "      <td>0.0</td>\n",
       "      <td>0.0</td>\n",
       "      <td>0.0</td>\n",
       "      <td>0.0</td>\n",
       "      <td>0.0</td>\n",
       "      <td>0.0</td>\n",
       "      <td>0.0</td>\n",
       "      <td>...</td>\n",
       "      <td>0.0</td>\n",
       "      <td>0.0</td>\n",
       "      <td>0.0</td>\n",
       "      <td>0.0</td>\n",
       "      <td>0.0</td>\n",
       "      <td>0.0</td>\n",
       "      <td>0.0</td>\n",
       "      <td>0.0</td>\n",
       "      <td>0.0</td>\n",
       "      <td>0.0</td>\n",
       "    </tr>\n",
       "    <tr>\n",
       "      <th>3</th>\n",
       "      <td>33.0</td>\n",
       "      <td>0.0</td>\n",
       "      <td>0.0</td>\n",
       "      <td>0.0</td>\n",
       "      <td>0.0</td>\n",
       "      <td>0.0</td>\n",
       "      <td>0.0</td>\n",
       "      <td>0.0</td>\n",
       "      <td>0.0</td>\n",
       "      <td>0.0</td>\n",
       "      <td>...</td>\n",
       "      <td>0.0</td>\n",
       "      <td>0.0</td>\n",
       "      <td>0.0</td>\n",
       "      <td>0.0</td>\n",
       "      <td>0.0</td>\n",
       "      <td>0.0</td>\n",
       "      <td>0.0</td>\n",
       "      <td>0.0</td>\n",
       "      <td>0.0</td>\n",
       "      <td>0.0</td>\n",
       "    </tr>\n",
       "    <tr>\n",
       "      <th>4</th>\n",
       "      <td>30.0</td>\n",
       "      <td>0.0</td>\n",
       "      <td>0.0</td>\n",
       "      <td>0.0</td>\n",
       "      <td>0.0</td>\n",
       "      <td>0.0</td>\n",
       "      <td>0.0</td>\n",
       "      <td>0.0</td>\n",
       "      <td>0.0</td>\n",
       "      <td>0.0</td>\n",
       "      <td>...</td>\n",
       "      <td>0.0</td>\n",
       "      <td>0.0</td>\n",
       "      <td>0.0</td>\n",
       "      <td>0.0</td>\n",
       "      <td>0.0</td>\n",
       "      <td>0.0</td>\n",
       "      <td>0.0</td>\n",
       "      <td>0.0</td>\n",
       "      <td>0.0</td>\n",
       "      <td>0.0</td>\n",
       "    </tr>\n",
       "    <tr>\n",
       "      <th>5</th>\n",
       "      <td>24.0</td>\n",
       "      <td>0.0</td>\n",
       "      <td>0.0</td>\n",
       "      <td>0.0</td>\n",
       "      <td>0.0</td>\n",
       "      <td>0.0</td>\n",
       "      <td>0.0</td>\n",
       "      <td>0.0</td>\n",
       "      <td>0.0</td>\n",
       "      <td>0.0</td>\n",
       "      <td>...</td>\n",
       "      <td>0.0</td>\n",
       "      <td>0.0</td>\n",
       "      <td>0.0</td>\n",
       "      <td>0.0</td>\n",
       "      <td>0.0</td>\n",
       "      <td>0.0</td>\n",
       "      <td>0.0</td>\n",
       "      <td>0.0</td>\n",
       "      <td>0.0</td>\n",
       "      <td>0.0</td>\n",
       "    </tr>\n",
       "    <tr>\n",
       "      <th>6</th>\n",
       "      <td>40.0</td>\n",
       "      <td>0.0</td>\n",
       "      <td>0.0</td>\n",
       "      <td>0.0</td>\n",
       "      <td>0.0</td>\n",
       "      <td>0.0</td>\n",
       "      <td>0.0</td>\n",
       "      <td>0.0</td>\n",
       "      <td>0.0</td>\n",
       "      <td>0.0</td>\n",
       "      <td>...</td>\n",
       "      <td>0.0</td>\n",
       "      <td>0.0</td>\n",
       "      <td>0.0</td>\n",
       "      <td>0.0</td>\n",
       "      <td>0.0</td>\n",
       "      <td>0.0</td>\n",
       "      <td>0.0</td>\n",
       "      <td>0.0</td>\n",
       "      <td>0.0</td>\n",
       "      <td>0.0</td>\n",
       "    </tr>\n",
       "    <tr>\n",
       "      <th>7</th>\n",
       "      <td>5.0</td>\n",
       "      <td>0.0</td>\n",
       "      <td>0.0</td>\n",
       "      <td>0.0</td>\n",
       "      <td>0.0</td>\n",
       "      <td>0.0</td>\n",
       "      <td>0.0</td>\n",
       "      <td>0.0</td>\n",
       "      <td>0.0</td>\n",
       "      <td>0.0</td>\n",
       "      <td>...</td>\n",
       "      <td>0.0</td>\n",
       "      <td>0.0</td>\n",
       "      <td>0.0</td>\n",
       "      <td>0.0</td>\n",
       "      <td>0.0</td>\n",
       "      <td>0.0</td>\n",
       "      <td>0.0</td>\n",
       "      <td>0.0</td>\n",
       "      <td>0.0</td>\n",
       "      <td>0.0</td>\n",
       "    </tr>\n",
       "    <tr>\n",
       "      <th>8</th>\n",
       "      <td>8.0</td>\n",
       "      <td>0.0</td>\n",
       "      <td>0.0</td>\n",
       "      <td>0.0</td>\n",
       "      <td>0.0</td>\n",
       "      <td>0.0</td>\n",
       "      <td>0.0</td>\n",
       "      <td>0.0</td>\n",
       "      <td>0.0</td>\n",
       "      <td>0.0</td>\n",
       "      <td>...</td>\n",
       "      <td>0.0</td>\n",
       "      <td>0.0</td>\n",
       "      <td>0.0</td>\n",
       "      <td>0.0</td>\n",
       "      <td>0.0</td>\n",
       "      <td>0.0</td>\n",
       "      <td>0.0</td>\n",
       "      <td>0.0</td>\n",
       "      <td>0.0</td>\n",
       "      <td>0.0</td>\n",
       "    </tr>\n",
       "    <tr>\n",
       "      <th>9</th>\n",
       "      <td>2.0</td>\n",
       "      <td>0.0</td>\n",
       "      <td>0.0</td>\n",
       "      <td>0.0</td>\n",
       "      <td>0.0</td>\n",
       "      <td>0.0</td>\n",
       "      <td>0.0</td>\n",
       "      <td>0.0</td>\n",
       "      <td>0.0</td>\n",
       "      <td>0.0</td>\n",
       "      <td>...</td>\n",
       "      <td>0.0</td>\n",
       "      <td>0.0</td>\n",
       "      <td>0.0</td>\n",
       "      <td>0.0</td>\n",
       "      <td>0.0</td>\n",
       "      <td>0.0</td>\n",
       "      <td>0.0</td>\n",
       "      <td>0.0</td>\n",
       "      <td>0.0</td>\n",
       "      <td>0.0</td>\n",
       "    </tr>\n",
       "  </tbody>\n",
       "</table>\n",
       "<p>10 rows × 785 columns</p>\n",
       "</div>"
      ],
      "text/plain": [
       "      e    1    2    3    4    5    6    7    8    9  ...  775  776  777  778  \\\n",
       "0  36.0  0.0  0.0  0.0  0.0  0.0  0.0  0.0  0.0  0.0  ...  0.0  0.0  0.0  0.0   \n",
       "1   0.0  0.0  0.0  0.0  0.0  0.0  0.0  0.0  0.0  0.0  ...  0.0  0.0  0.0  0.0   \n",
       "2   3.0  0.0  0.0  0.0  0.0  0.0  0.0  0.0  0.0  0.0  ...  0.0  0.0  0.0  0.0   \n",
       "3  33.0  0.0  0.0  0.0  0.0  0.0  0.0  0.0  0.0  0.0  ...  0.0  0.0  0.0  0.0   \n",
       "4  30.0  0.0  0.0  0.0  0.0  0.0  0.0  0.0  0.0  0.0  ...  0.0  0.0  0.0  0.0   \n",
       "5  24.0  0.0  0.0  0.0  0.0  0.0  0.0  0.0  0.0  0.0  ...  0.0  0.0  0.0  0.0   \n",
       "6  40.0  0.0  0.0  0.0  0.0  0.0  0.0  0.0  0.0  0.0  ...  0.0  0.0  0.0  0.0   \n",
       "7   5.0  0.0  0.0  0.0  0.0  0.0  0.0  0.0  0.0  0.0  ...  0.0  0.0  0.0  0.0   \n",
       "8   8.0  0.0  0.0  0.0  0.0  0.0  0.0  0.0  0.0  0.0  ...  0.0  0.0  0.0  0.0   \n",
       "9   2.0  0.0  0.0  0.0  0.0  0.0  0.0  0.0  0.0  0.0  ...  0.0  0.0  0.0  0.0   \n",
       "\n",
       "   779  780  781  782  783  784  \n",
       "0  0.0  0.0  0.0  0.0  0.0  0.0  \n",
       "1  0.0  0.0  0.0  0.0  0.0  0.0  \n",
       "2  0.0  0.0  0.0  0.0  0.0  0.0  \n",
       "3  0.0  0.0  0.0  0.0  0.0  0.0  \n",
       "4  0.0  0.0  0.0  0.0  0.0  0.0  \n",
       "5  0.0  0.0  0.0  0.0  0.0  0.0  \n",
       "6  0.0  0.0  0.0  0.0  0.0  0.0  \n",
       "7  0.0  0.0  0.0  0.0  0.0  0.0  \n",
       "8  0.0  0.0  0.0  0.0  0.0  0.0  \n",
       "9  0.0  0.0  0.0  0.0  0.0  0.0  \n",
       "\n",
       "[10 rows x 785 columns]"
      ]
     },
     "execution_count": 3,
     "metadata": {},
     "output_type": "execute_result"
    }
   ],
   "source": [
    "data.head(10)"
   ]
  },
  {
   "cell_type": "code",
   "execution_count": 4,
   "id": "e1ad3934",
   "metadata": {},
   "outputs": [
    {
     "name": "stdout",
     "output_type": "stream",
     "text": [
      "<class 'pandas.core.frame.DataFrame'>\n",
      "RangeIndex: 116322 entries, 0 to 116321\n",
      "Columns: 785 entries, e to 784\n",
      "dtypes: float64(785)\n",
      "memory usage: 696.7 MB\n"
     ]
    }
   ],
   "source": [
    "data.info()"
   ]
  },
  {
   "cell_type": "code",
   "execution_count": 5,
   "id": "8f81fbf5",
   "metadata": {},
   "outputs": [
    {
     "data": {
      "text/plain": [
       "array([[36.,  0.,  0., ...,  0.,  0.,  0.],\n",
       "       [ 0.,  0.,  0., ...,  0.,  0.,  0.],\n",
       "       [ 3.,  0.,  0., ...,  0.,  0.,  0.],\n",
       "       ...,\n",
       "       [28.,  0.,  0., ...,  0.,  0.,  0.],\n",
       "       [ 0.,  0.,  0., ...,  0.,  0.,  0.],\n",
       "       [ 5.,  0.,  0., ...,  0.,  0.,  0.]])"
      ]
     },
     "execution_count": 5,
     "metadata": {},
     "output_type": "execute_result"
    }
   ],
   "source": [
    "array_data = np.array(data)\n",
    "array_data"
   ]
  },
  {
   "cell_type": "code",
   "execution_count": 6,
   "id": "f0c18112",
   "metadata": {},
   "outputs": [
    {
     "data": {
      "text/plain": [
       "(116322, 785)"
      ]
     },
     "execution_count": 6,
     "metadata": {},
     "output_type": "execute_result"
    }
   ],
   "source": [
    "array_data.shape"
   ]
  },
  {
   "cell_type": "code",
   "execution_count": 7,
   "id": "8454b369",
   "metadata": {
    "scrolled": false
   },
   "outputs": [
    {
     "data": {
      "image/png": "[encoded data removed]",
      "text/plain": [
       "<Figure size 432x288 with 1 Axes>"
      ]
     },
     "metadata": {
      "needs_background": "light"
     },
     "output_type": "display_data"
    },
    {
     "data": {
      "image/png": "[encoded data removed]",
      "text/plain": [
       "<Figure size 432x288 with 1 Axes>"
      ]
     },
     "metadata": {
      "needs_background": "light"
     },
     "output_type": "display_data"
    },
    {
     "data": {
      "image/png": "[encoded data removed]",
      "text/plain": [
       "<Figure size 432x288 with 1 Axes>"
      ]
     },
     "metadata": {
      "needs_background": "light"
     },
     "output_type": "display_data"
    },
    {
     "data": {
      "image/png": "[encoded data removed]",
      "text/plain": [
       "<Figure size 432x288 with 1 Axes>"
      ]
     },
     "metadata": {
      "needs_background": "light"
     },
     "output_type": "display_data"
    },
    {
     "data": {
      "image/png": "[encoded data removed]",
      "text/plain": [
       "<Figure size 432x288 with 1 Axes>"
      ]
     },
     "metadata": {
      "needs_background": "light"
     },
     "output_type": "display_data"
    },
    {
     "data": {
      "image/png": "[encoded data removed]",
      "text/plain": [
       "<Figure size 432x288 with 1 Axes>"
      ]
     },
     "metadata": {
      "needs_background": "light"
     },
     "output_type": "display_data"
    },
    {
     "data": {
      "image/png": "[encoded data removed]",
      "text/plain": [
       "<Figure size 432x288 with 1 Axes>"
      ]
     },
     "metadata": {
      "needs_background": "light"
     },
     "output_type": "display_data"
    },
    {
     "data": {
      "image/png": "[encoded data removed]",
      "text/plain": [
       "<Figure size 432x288 with 1 Axes>"
      ]
     },
     "metadata": {
      "needs_background": "light"
     },
     "output_type": "display_data"
    },
    {
     "data": {
      "image/png": "[encoded data removed]",
      "text/plain": [
       "<Figure size 432x288 with 1 Axes>"
      ]
     },
     "metadata": {
      "needs_background": "light"
     },
     "output_type": "display_data"
    },
    {
     "data": {
      "image/png": "[encoded data removed]",
      "text/plain": [
       "<Figure size 432x288 with 1 Axes>"
      ]
     },
     "metadata": {
      "needs_background": "light"
     },
     "output_type": "display_data"
    }
   ],
   "source": [
    "for i in range(10):\n",
    "    fig, ax = plt.subplots()\n",
    "    ax.imshow(array_data[i, 1:].reshape(28, 28), cmap=plt.cm.bone, interpolation='nearest');"
   ]
  },
  {
   "cell_type": "code",
   "execution_count": 8,
   "id": "a4a7b2f0",
   "metadata": {},
   "outputs": [],
   "source": [
    "## Column 'e':\n",
    "\n",
    "    # 0-9: numbers\n",
    "    # 10-35: uppercases\n",
    "    # 36-61: lowercases"
   ]
  },
  {
   "cell_type": "markdown",
   "id": "ddfc89bf",
   "metadata": {},
   "source": [
    "Now, try to train a classifier model to predict the uppercases. Use every single model you know for classification."
   ]
  },
  {
   "cell_type": "code",
   "execution_count": 11,
   "id": "12de1875",
   "metadata": {},
   "outputs": [],
   "source": [
    "data['is_number'] = np.where((data['e'] >= 0) & (data['e'] <= 9), 1 , 0)\n",
    "data['is_uppercase'] = np.where((data['e'] >= 10) & (data['e'] <= 35), 1, 0)\n",
    "data['is_lowercase'] = np.where((data['e'] >= 36) & (data['e'] <= 61), 1, 0)"
   ]
  },
  {
   "cell_type": "code",
   "execution_count": 12,
   "id": "70285ccf",
   "metadata": {},
   "outputs": [],
   "source": [
    "new_data = data.drop('e', axis=1)"
   ]
  },
  {
   "cell_type": "code",
   "execution_count": 13,
   "id": "b35b43a2",
   "metadata": {},
   "outputs": [],
   "source": [
    "X = new_data.drop(['is_number', 'is_uppercase', 'is_lowercase'], axis=1)\n",
    "y = new_data['is_uppercase']"
   ]
  },
  {
   "cell_type": "code",
   "execution_count": 14,
   "id": "8deb14d8",
   "metadata": {},
   "outputs": [],
   "source": [
    "X_train, X_test, y_train, y_test = train_test_split(X, y, test_size=0.20, random_state=42)"
   ]
  },
  {
   "cell_type": "markdown",
   "id": "8e352d4f",
   "metadata": {},
   "source": [
    "### Logistic Regression"
   ]
  },
  {
   "cell_type": "code",
   "execution_count": 15,
   "id": "36187251",
   "metadata": {},
   "outputs": [],
   "source": [
    "log_fit = LogisticRegression()"
   ]
  },
  {
   "cell_type": "code",
   "execution_count": 16,
   "id": "4eb2dee0",
   "metadata": {
    "scrolled": true
   },
   "outputs": [
    {
     "data": {
      "text/html": [
       "<style>#sk-container-id-1 {color: black;background-color: white;}#sk-container-id-1 pre{padding: 0;}#sk-container-id-1 div.sk-toggleable {background-color: white;}#sk-container-id-1 label.sk-toggleable__label {cursor: pointer;display: block;width: 100%;margin-bottom: 0;padding: 0.3em;box-sizing: border-box;text-align: center;}#sk-container-id-1 label.sk-toggleable__label-arrow:before {content: \"▸\";float: left;margin-right: 0.25em;color: #696969;}#sk-container-id-1 label.sk-toggleable__label-arrow:hover:before {color: black;}#sk-container-id-1 div.sk-estimator:hover label.sk-toggleable__label-arrow:before {color: black;}#sk-container-id-1 div.sk-toggleable__content {max-height: 0;max-width: 0;overflow: hidden;text-align: left;background-color: #f0f8ff;}#sk-container-id-1 div.sk-toggleable__content pre {margin: 0.2em;color: black;border-radius: 0.25em;background-color: #f0f8ff;}#sk-container-id-1 input.sk-toggleable__control:checked~div.sk-toggleable__content {max-height: 200px;max-width: 100%;overflow: auto;}#sk-container-id-1 input.sk-toggleable__control:checked~label.sk-toggleable__label-arrow:before {content: \"▾\";}#sk-container-id-1 div.sk-estimator input.sk-toggleable__control:checked~label.sk-toggleable__label {background-color: #d4ebff;}#sk-container-id-1 div.sk-label input.sk-toggleable__control:checked~label.sk-toggleable__label {background-color: #d4ebff;}#sk-container-id-1 input.sk-hidden--visually {border: 0;clip: rect(1px 1px 1px 1px);clip: rect(1px, 1px, 1px, 1px);height: 1px;margin: -1px;overflow: hidden;padding: 0;position: absolute;width: 1px;}#sk-container-id-1 div.sk-estimator {font-family: monospace;background-color: #f0f8ff;border: 1px dotted black;border-radius: 0.25em;box-sizing: border-box;margin-bottom: 0.5em;}#sk-container-id-1 div.sk-estimator:hover {background-color: #d4ebff;}#sk-container-id-1 div.sk-parallel-item::after {content: \"\";width: 100%;border-bottom: 1px solid gray;flex-grow: 1;}#sk-container-id-1 div.sk-label:hover label.sk-toggleable__label {background-color: #d4ebff;}#sk-container-id-1 div.sk-serial::before {content: \"\";position: absolute;border-left: 1px solid gray;box-sizing: border-box;top: 0;bottom: 0;left: 50%;z-index: 0;}#sk-container-id-1 div.sk-serial {display: flex;flex-direction: column;align-items: center;background-color: white;padding-right: 0.2em;padding-left: 0.2em;position: relative;}#sk-container-id-1 div.sk-item {position: relative;z-index: 1;}#sk-container-id-1 div.sk-parallel {display: flex;align-items: stretch;justify-content: center;background-color: white;position: relative;}#sk-container-id-1 div.sk-item::before, #sk-container-id-1 div.sk-parallel-item::before {content: \"\";position: absolute;border-left: 1px solid gray;box-sizing: border-box;top: 0;bottom: 0;left: 50%;z-index: -1;}#sk-container-id-1 div.sk-parallel-item {display: flex;flex-direction: column;z-index: 1;position: relative;background-color: white;}#sk-container-id-1 div.sk-parallel-item:first-child::after {align-self: flex-end;width: 50%;}#sk-container-id-1 div.sk-parallel-item:last-child::after {align-self: flex-start;width: 50%;}#sk-container-id-1 div.sk-parallel-item:only-child::after {width: 0;}#sk-container-id-1 div.sk-dashed-wrapped {border: 1px dashed gray;margin: 0 0.4em 0.5em 0.4em;box-sizing: border-box;padding-bottom: 0.4em;background-color: white;}#sk-container-id-1 div.sk-label label {font-family: monospace;font-weight: bold;display: inline-block;line-height: 1.2em;}#sk-container-id-1 div.sk-label-container {text-align: center;}#sk-container-id-1 div.sk-container {/* jupyter's `normalize.less` sets `[hidden] { display: none; }` but bootstrap.min.css set `[hidden] { display: none !important; }` so we also need the `!important` here to be able to override the default hidden behavior on the sphinx rendered scikit-learn.org. See: https://github.com/scikit-learn/scikit-learn/issues/21755 */display: inline-block !important;position: relative;}#sk-container-id-1 div.sk-text-repr-fallback {display: none;}</style><div id=\"sk-container-id-1\" class=\"sk-top-container\"><div class=\"sk-text-repr-fallback\"><pre>LogisticRegression()</pre><b>In a Jupyter environment, please rerun this cell to show the HTML representation or trust the notebook. <br />On GitHub, the HTML representation is unable to render, please try loading this page with nbviewer.org.</b></div><div class=\"sk-container\" hidden><div class=\"sk-item\"><div class=\"sk-estimator sk-toggleable\"><input class=\"sk-toggleable__control sk-hidden--visually\" id=\"sk-estimator-id-1\" type=\"checkbox\" checked><label for=\"sk-estimator-id-1\" class=\"sk-toggleable__label sk-toggleable__label-arrow\">LogisticRegression</label><div class=\"sk-toggleable__content\"><pre>LogisticRegression()</pre></div></div></div></div></div>"
      ],
      "text/plain": [
       "LogisticRegression()"
      ]
     },
     "execution_count": 16,
     "metadata": {},
     "output_type": "execute_result"
    }
   ],
   "source": [
    "log_fit.fit(X_train, y_train)"
   ]
  },
  {
   "cell_type": "code",
   "execution_count": 17,
   "id": "0142a5fe",
   "metadata": {},
   "outputs": [
    {
     "data": {
      "text/plain": [
       "array([0, 0, 0, ..., 0, 0, 0])"
      ]
     },
     "execution_count": 17,
     "metadata": {},
     "output_type": "execute_result"
    }
   ],
   "source": [
    "y_pred = log_fit.predict(X_test)\n",
    "y_pred"
   ]
  },
  {
   "cell_type": "code",
   "execution_count": 18,
   "id": "b1ec3a08",
   "metadata": {},
   "outputs": [],
   "source": [
    "classification = pd.DataFrame(y_test)\n",
    "classification['Predictions'] = y_pred"
   ]
  },
  {
   "cell_type": "code",
   "execution_count": 19,
   "id": "6301f4e8",
   "metadata": {},
   "outputs": [
    {
     "data": {
      "text/html": [
       "<div>\n",
       "<style scoped>\n",
       "    .dataframe tbody tr th:only-of-type {\n",
       "        vertical-align: middle;\n",
       "    }\n",
       "\n",
       "    .dataframe tbody tr th {\n",
       "        vertical-align: top;\n",
       "    }\n",
       "\n",
       "    .dataframe thead th {\n",
       "        text-align: right;\n",
       "    }\n",
       "</style>\n",
       "<table border=\"1\" class=\"dataframe\">\n",
       "  <thead>\n",
       "    <tr style=\"text-align: right;\">\n",
       "      <th></th>\n",
       "      <th>is_uppercase</th>\n",
       "      <th>Predictions</th>\n",
       "    </tr>\n",
       "  </thead>\n",
       "  <tbody>\n",
       "    <tr>\n",
       "      <th>15790</th>\n",
       "      <td>0</td>\n",
       "      <td>0</td>\n",
       "    </tr>\n",
       "    <tr>\n",
       "      <th>94811</th>\n",
       "      <td>0</td>\n",
       "      <td>0</td>\n",
       "    </tr>\n",
       "    <tr>\n",
       "      <th>102587</th>\n",
       "      <td>1</td>\n",
       "      <td>0</td>\n",
       "    </tr>\n",
       "    <tr>\n",
       "      <th>20204</th>\n",
       "      <td>1</td>\n",
       "      <td>0</td>\n",
       "    </tr>\n",
       "    <tr>\n",
       "      <th>67102</th>\n",
       "      <td>0</td>\n",
       "      <td>0</td>\n",
       "    </tr>\n",
       "    <tr>\n",
       "      <th>25915</th>\n",
       "      <td>0</td>\n",
       "      <td>0</td>\n",
       "    </tr>\n",
       "    <tr>\n",
       "      <th>52376</th>\n",
       "      <td>0</td>\n",
       "      <td>0</td>\n",
       "    </tr>\n",
       "    <tr>\n",
       "      <th>78957</th>\n",
       "      <td>0</td>\n",
       "      <td>0</td>\n",
       "    </tr>\n",
       "    <tr>\n",
       "      <th>40500</th>\n",
       "      <td>0</td>\n",
       "      <td>0</td>\n",
       "    </tr>\n",
       "    <tr>\n",
       "      <th>111181</th>\n",
       "      <td>1</td>\n",
       "      <td>1</td>\n",
       "    </tr>\n",
       "  </tbody>\n",
       "</table>\n",
       "</div>"
      ],
      "text/plain": [
       "        is_uppercase  Predictions\n",
       "15790              0            0\n",
       "94811              0            0\n",
       "102587             1            0\n",
       "20204              1            0\n",
       "67102              0            0\n",
       "25915              0            0\n",
       "52376              0            0\n",
       "78957              0            0\n",
       "40500              0            0\n",
       "111181             1            1"
      ]
     },
     "execution_count": 19,
     "metadata": {},
     "output_type": "execute_result"
    }
   ],
   "source": [
    "classification[:10]"
   ]
  },
  {
   "cell_type": "code",
   "execution_count": 20,
   "id": "fbb05e4f",
   "metadata": {},
   "outputs": [
    {
     "data": {
      "text/plain": [
       "0.7507414571244359"
      ]
     },
     "execution_count": 20,
     "metadata": {},
     "output_type": "execute_result"
    }
   ],
   "source": [
    "accuracy_score(y_test, y_pred)"
   ]
  },
  {
   "cell_type": "code",
   "execution_count": 21,
   "id": "3054b931",
   "metadata": {},
   "outputs": [],
   "source": [
    "def evaluate_model(y_true, y_pred):\n",
    "    prc = np.round(precision_score(y_true, y_pred, average=None), 2)\n",
    "    f1 = np.round(f1_score(y_true, y_pred, average=None), 2)\n",
    "    rec = np.round(recall_score(y_true, y_pred, average=None), 2)\n",
    "\n",
    "    print(f\"Model F1: {f1}\")\n",
    "    print(f\"Model Precision: {prc}\")\n",
    "    print(f\"Model Recall: {rec}\")"
   ]
  },
  {
   "cell_type": "code",
   "execution_count": 22,
   "id": "4e3b3534",
   "metadata": {},
   "outputs": [
    {
     "name": "stdout",
     "output_type": "stream",
     "text": [
      "Model F1: [0.85 0.36]\n",
      "Model Precision: [0.77 0.58]\n",
      "Model Recall: [0.93 0.26]\n"
     ]
    }
   ],
   "source": [
    "evaluate_model(y_test, y_pred)"
   ]
  },
  {
   "cell_type": "markdown",
   "id": "832a8d38",
   "metadata": {},
   "source": [
    "### Decision Tree"
   ]
  },
  {
   "cell_type": "code",
   "execution_count": 23,
   "id": "81ff28ca",
   "metadata": {},
   "outputs": [],
   "source": [
    "dt_fit = DecisionTreeClassifier()\n",
    "dt_fit.fit(X_train, y_train)\n",
    "y_pred = dt_fit.predict(X_test)"
   ]
  },
  {
   "cell_type": "code",
   "execution_count": 24,
   "id": "70515c72",
   "metadata": {},
   "outputs": [
    {
     "data": {
      "text/plain": [
       "0.7646249731356114"
      ]
     },
     "execution_count": 24,
     "metadata": {},
     "output_type": "execute_result"
    }
   ],
   "source": [
    "accuracy_score(y_test, y_pred)"
   ]
  },
  {
   "cell_type": "code",
   "execution_count": 25,
   "id": "9217bdef",
   "metadata": {},
   "outputs": [
    {
     "name": "stdout",
     "output_type": "stream",
     "text": [
      "Model F1: [0.84 0.57]\n",
      "Model Precision: [0.84 0.56]\n",
      "Model Recall: [0.84 0.57]\n"
     ]
    }
   ],
   "source": [
    "evaluate_model(y_test, y_pred)"
   ]
  },
  {
   "cell_type": "markdown",
   "id": "11da7ce5",
   "metadata": {},
   "source": [
    "### Catboost"
   ]
  },
  {
   "cell_type": "code",
   "execution_count": 26,
   "id": "c0a88c0d",
   "metadata": {
    "scrolled": true
   },
   "outputs": [
    {
     "name": "stdout",
     "output_type": "stream",
     "text": [
      "Learning rate set to 0.131262\n",
      "0:\tlearn: 0.6558886\ttest: 0.6553532\tbest: 0.6553532 (0)\ttotal: 280ms\tremaining: 2m 19s\n",
      "1:\tlearn: 0.6271867\ttest: 0.6264085\tbest: 0.6264085 (1)\ttotal: 433ms\tremaining: 1m 47s\n",
      "2:\tlearn: 0.6074724\ttest: 0.6066219\tbest: 0.6066219 (2)\ttotal: 605ms\tremaining: 1m 40s\n",
      "3:\tlearn: 0.5916441\ttest: 0.5906430\tbest: 0.5906430 (3)\ttotal: 756ms\tremaining: 1m 33s\n",
      "4:\tlearn: 0.5791921\ttest: 0.5781306\tbest: 0.5781306 (4)\ttotal: 995ms\tremaining: 1m 38s\n",
      "5:\tlearn: 0.5692346\ttest: 0.5681220\tbest: 0.5681220 (5)\ttotal: 1.36s\tremaining: 1m 51s\n",
      "6:\tlearn: 0.5623062\ttest: 0.5610059\tbest: 0.5610059 (6)\ttotal: 1.58s\tremaining: 1m 51s\n",
      "7:\tlearn: 0.5568362\ttest: 0.5555629\tbest: 0.5555629 (7)\ttotal: 1.76s\tremaining: 1m 48s\n",
      "8:\tlearn: 0.5505197\ttest: 0.5491258\tbest: 0.5491258 (8)\ttotal: 2s\tremaining: 1m 49s\n",
      "9:\tlearn: 0.5456580\ttest: 0.5443532\tbest: 0.5443532 (9)\ttotal: 2.23s\tremaining: 1m 49s\n",
      "10:\tlearn: 0.5417889\ttest: 0.5406210\tbest: 0.5406210 (10)\ttotal: 2.4s\tremaining: 1m 46s\n",
      "11:\tlearn: 0.5392716\ttest: 0.5382554\tbest: 0.5382554 (11)\ttotal: 2.5s\tremaining: 1m 41s\n",
      "12:\tlearn: 0.5363221\ttest: 0.5352582\tbest: 0.5352582 (12)\ttotal: 2.65s\tremaining: 1m 39s\n",
      "13:\tlearn: 0.5335474\ttest: 0.5323472\tbest: 0.5323472 (13)\ttotal: 2.8s\tremaining: 1m 37s\n",
      "14:\tlearn: 0.5304980\ttest: 0.5291975\tbest: 0.5291975 (14)\ttotal: 2.96s\tremaining: 1m 35s\n",
      "15:\tlearn: 0.5290409\ttest: 0.5277683\tbest: 0.5277683 (15)\ttotal: 3.08s\tremaining: 1m 33s\n",
      "16:\tlearn: 0.5268143\ttest: 0.5256399\tbest: 0.5256399 (16)\ttotal: 3.22s\tremaining: 1m 31s\n",
      "17:\tlearn: 0.5249406\ttest: 0.5236842\tbest: 0.5236842 (17)\ttotal: 3.36s\tremaining: 1m 29s\n",
      "18:\tlearn: 0.5229754\ttest: 0.5216767\tbest: 0.5216767 (18)\ttotal: 3.48s\tremaining: 1m 28s\n",
      "19:\tlearn: 0.5216364\ttest: 0.5203362\tbest: 0.5203362 (19)\ttotal: 3.6s\tremaining: 1m 26s\n",
      "20:\tlearn: 0.5205844\ttest: 0.5193554\tbest: 0.5193554 (20)\ttotal: 3.72s\tremaining: 1m 24s\n",
      "21:\tlearn: 0.5195861\ttest: 0.5184391\tbest: 0.5184391 (21)\ttotal: 3.86s\tremaining: 1m 23s\n",
      "22:\tlearn: 0.5181963\ttest: 0.5170274\tbest: 0.5170274 (22)\ttotal: 3.98s\tremaining: 1m 22s\n",
      "23:\tlearn: 0.5170496\ttest: 0.5159170\tbest: 0.5159170 (23)\ttotal: 4.12s\tremaining: 1m 21s\n",
      "24:\tlearn: 0.5163105\ttest: 0.5151550\tbest: 0.5151550 (24)\ttotal: 4.22s\tremaining: 1m 20s\n",
      "25:\tlearn: 0.5152745\ttest: 0.5141968\tbest: 0.5141968 (25)\ttotal: 4.35s\tremaining: 1m 19s\n",
      "26:\tlearn: 0.5146967\ttest: 0.5136938\tbest: 0.5136938 (26)\ttotal: 4.46s\tremaining: 1m 18s\n",
      "27:\tlearn: 0.5131449\ttest: 0.5121590\tbest: 0.5121590 (27)\ttotal: 4.6s\tremaining: 1m 17s\n",
      "28:\tlearn: 0.5126563\ttest: 0.5117121\tbest: 0.5117121 (28)\ttotal: 4.71s\tremaining: 1m 16s\n",
      "29:\tlearn: 0.5118646\ttest: 0.5107487\tbest: 0.5107487 (29)\ttotal: 4.83s\tremaining: 1m 15s\n",
      "30:\tlearn: 0.5110993\ttest: 0.5099817\tbest: 0.5099817 (30)\ttotal: 4.94s\tremaining: 1m 14s\n",
      "31:\tlearn: 0.5100393\ttest: 0.5088275\tbest: 0.5088275 (31)\ttotal: 5.08s\tremaining: 1m 14s\n",
      "32:\tlearn: 0.5090891\ttest: 0.5079009\tbest: 0.5079009 (32)\ttotal: 5.21s\tremaining: 1m 13s\n",
      "33:\tlearn: 0.5085917\ttest: 0.5074762\tbest: 0.5074762 (33)\ttotal: 5.32s\tremaining: 1m 12s\n",
      "34:\tlearn: 0.5079182\ttest: 0.5066865\tbest: 0.5066865 (34)\ttotal: 5.43s\tremaining: 1m 12s\n",
      "35:\tlearn: 0.5071259\ttest: 0.5059411\tbest: 0.5059411 (35)\ttotal: 5.57s\tremaining: 1m 11s\n",
      "36:\tlearn: 0.5067256\ttest: 0.5055664\tbest: 0.5055664 (36)\ttotal: 5.68s\tremaining: 1m 11s\n",
      "37:\tlearn: 0.5057826\ttest: 0.5046239\tbest: 0.5046239 (37)\ttotal: 5.8s\tremaining: 1m 10s\n",
      "38:\tlearn: 0.5053944\ttest: 0.5042293\tbest: 0.5042293 (38)\ttotal: 5.9s\tremaining: 1m 9s\n",
      "39:\tlearn: 0.5050138\ttest: 0.5038637\tbest: 0.5038637 (39)\ttotal: 6.02s\tremaining: 1m 9s\n",
      "40:\tlearn: 0.5044009\ttest: 0.5032320\tbest: 0.5032320 (40)\ttotal: 6.13s\tremaining: 1m 8s\n",
      "41:\tlearn: 0.5040312\ttest: 0.5029933\tbest: 0.5029933 (41)\ttotal: 6.24s\tremaining: 1m 8s\n",
      "42:\tlearn: 0.5033740\ttest: 0.5023477\tbest: 0.5023477 (42)\ttotal: 6.34s\tremaining: 1m 7s\n",
      "43:\tlearn: 0.5025636\ttest: 0.5015232\tbest: 0.5015232 (43)\ttotal: 6.47s\tremaining: 1m 7s\n",
      "44:\tlearn: 0.5022312\ttest: 0.5012046\tbest: 0.5012046 (44)\ttotal: 6.57s\tremaining: 1m 6s\n",
      "45:\tlearn: 0.5016133\ttest: 0.5005556\tbest: 0.5005556 (45)\ttotal: 6.71s\tremaining: 1m 6s\n",
      "46:\tlearn: 0.5005150\ttest: 0.4995315\tbest: 0.4995315 (46)\ttotal: 6.92s\tremaining: 1m 6s\n",
      "47:\tlearn: 0.5002094\ttest: 0.4991649\tbest: 0.4991649 (47)\ttotal: 7.05s\tremaining: 1m 6s\n",
      "48:\tlearn: 0.4993315\ttest: 0.4983938\tbest: 0.4983938 (48)\ttotal: 7.2s\tremaining: 1m 6s\n",
      "49:\tlearn: 0.4983111\ttest: 0.4972964\tbest: 0.4972964 (49)\ttotal: 7.37s\tremaining: 1m 6s\n",
      "50:\tlearn: 0.4975321\ttest: 0.4965345\tbest: 0.4965345 (50)\ttotal: 7.51s\tremaining: 1m 6s\n",
      "51:\tlearn: 0.4966182\ttest: 0.4957634\tbest: 0.4957634 (51)\ttotal: 7.68s\tremaining: 1m 6s\n",
      "52:\tlearn: 0.4960237\ttest: 0.4953119\tbest: 0.4953119 (52)\ttotal: 7.84s\tremaining: 1m 6s\n",
      "53:\tlearn: 0.4954783\ttest: 0.4949163\tbest: 0.4949163 (53)\ttotal: 7.98s\tremaining: 1m 5s\n",
      "54:\tlearn: 0.4947070\ttest: 0.4941560\tbest: 0.4941560 (54)\ttotal: 8.14s\tremaining: 1m 5s\n",
      "55:\tlearn: 0.4938804\ttest: 0.4932944\tbest: 0.4932944 (55)\ttotal: 8.31s\tremaining: 1m 5s\n",
      "56:\tlearn: 0.4933892\ttest: 0.4928817\tbest: 0.4928817 (56)\ttotal: 8.46s\tremaining: 1m 5s\n",
      "57:\tlearn: 0.4931810\ttest: 0.4926675\tbest: 0.4926675 (57)\ttotal: 8.59s\tremaining: 1m 5s\n",
      "58:\tlearn: 0.4929627\ttest: 0.4924995\tbest: 0.4924995 (58)\ttotal: 8.72s\tremaining: 1m 5s\n",
      "59:\tlearn: 0.4922384\ttest: 0.4917743\tbest: 0.4917743 (59)\ttotal: 8.87s\tremaining: 1m 5s\n",
      "60:\tlearn: 0.4913487\ttest: 0.4908849\tbest: 0.4908849 (60)\ttotal: 9.04s\tremaining: 1m 5s\n",
      "61:\tlearn: 0.4910149\ttest: 0.4906236\tbest: 0.4906236 (61)\ttotal: 9.18s\tremaining: 1m 4s\n",
      "62:\tlearn: 0.4896835\ttest: 0.4894082\tbest: 0.4894082 (62)\ttotal: 9.37s\tremaining: 1m 4s\n",
      "63:\tlearn: 0.4892378\ttest: 0.4888781\tbest: 0.4888781 (63)\ttotal: 9.5s\tremaining: 1m 4s\n",
      "64:\tlearn: 0.4880159\ttest: 0.4878406\tbest: 0.4878406 (64)\ttotal: 9.69s\tremaining: 1m 4s\n",
      "65:\tlearn: 0.4877807\ttest: 0.4876612\tbest: 0.4876612 (65)\ttotal: 9.81s\tremaining: 1m 4s\n",
      "66:\tlearn: 0.4870285\ttest: 0.4868483\tbest: 0.4868483 (66)\ttotal: 9.98s\tremaining: 1m 4s\n",
      "67:\tlearn: 0.4861032\ttest: 0.4860222\tbest: 0.4860222 (67)\ttotal: 10.2s\tremaining: 1m 4s\n",
      "68:\tlearn: 0.4853168\ttest: 0.4852924\tbest: 0.4852924 (68)\ttotal: 10.3s\tremaining: 1m 4s\n",
      "69:\tlearn: 0.4846661\ttest: 0.4846523\tbest: 0.4846523 (69)\ttotal: 10.5s\tremaining: 1m 4s\n",
      "70:\tlearn: 0.4844239\ttest: 0.4844892\tbest: 0.4844892 (70)\ttotal: 10.6s\tremaining: 1m 4s\n",
      "71:\tlearn: 0.4830810\ttest: 0.4833725\tbest: 0.4833725 (71)\ttotal: 10.8s\tremaining: 1m 4s\n",
      "72:\tlearn: 0.4820201\ttest: 0.4822893\tbest: 0.4822893 (72)\ttotal: 10.9s\tremaining: 1m 3s\n",
      "73:\tlearn: 0.4815488\ttest: 0.4818462\tbest: 0.4818462 (73)\ttotal: 11.1s\tremaining: 1m 3s\n",
      "74:\tlearn: 0.4809701\ttest: 0.4812843\tbest: 0.4812843 (74)\ttotal: 11.2s\tremaining: 1m 3s\n",
      "75:\tlearn: 0.4804273\ttest: 0.4807278\tbest: 0.4807278 (75)\ttotal: 11.3s\tremaining: 1m 3s\n",
      "76:\tlearn: 0.4793943\ttest: 0.4797523\tbest: 0.4797523 (76)\ttotal: 11.5s\tremaining: 1m 2s\n",
      "77:\tlearn: 0.4788951\ttest: 0.4792645\tbest: 0.4792645 (77)\ttotal: 11.6s\tremaining: 1m 2s\n",
      "78:\tlearn: 0.4781398\ttest: 0.4783728\tbest: 0.4783728 (78)\ttotal: 11.7s\tremaining: 1m 2s\n",
      "79:\tlearn: 0.4775985\ttest: 0.4779774\tbest: 0.4779774 (79)\ttotal: 11.8s\tremaining: 1m 2s\n",
      "80:\tlearn: 0.4765688\ttest: 0.4768911\tbest: 0.4768911 (80)\ttotal: 12s\tremaining: 1m 1s\n",
      "81:\tlearn: 0.4759461\ttest: 0.4762847\tbest: 0.4762847 (81)\ttotal: 12.1s\tremaining: 1m 1s\n",
      "82:\tlearn: 0.4750825\ttest: 0.4754698\tbest: 0.4754698 (82)\ttotal: 12.2s\tremaining: 1m 1s\n",
      "83:\tlearn: 0.4746527\ttest: 0.4750351\tbest: 0.4750351 (83)\ttotal: 12.3s\tremaining: 1m 1s\n",
      "84:\tlearn: 0.4738761\ttest: 0.4742454\tbest: 0.4742454 (84)\ttotal: 12.5s\tremaining: 1m\n",
      "85:\tlearn: 0.4732220\ttest: 0.4735716\tbest: 0.4735716 (85)\ttotal: 12.6s\tremaining: 1m\n",
      "86:\tlearn: 0.4730415\ttest: 0.4734320\tbest: 0.4734320 (86)\ttotal: 12.7s\tremaining: 1m\n",
      "87:\tlearn: 0.4727633\ttest: 0.4731245\tbest: 0.4731245 (87)\ttotal: 12.8s\tremaining: 1m\n",
      "88:\tlearn: 0.4715572\ttest: 0.4718703\tbest: 0.4718703 (88)\ttotal: 13s\tremaining: 60s\n",
      "89:\tlearn: 0.4712843\ttest: 0.4716487\tbest: 0.4716487 (89)\ttotal: 13.1s\tremaining: 59.6s\n",
      "90:\tlearn: 0.4707045\ttest: 0.4711745\tbest: 0.4711745 (90)\ttotal: 13.2s\tremaining: 59.5s\n",
      "91:\tlearn: 0.4701980\ttest: 0.4706530\tbest: 0.4706530 (91)\ttotal: 13.4s\tremaining: 59.2s\n",
      "92:\tlearn: 0.4692995\ttest: 0.4697056\tbest: 0.4697056 (92)\ttotal: 13.5s\tremaining: 59s\n",
      "93:\tlearn: 0.4687931\ttest: 0.4692837\tbest: 0.4692837 (93)\ttotal: 13.6s\tremaining: 58.8s\n",
      "94:\tlearn: 0.4686133\ttest: 0.4691287\tbest: 0.4691287 (94)\ttotal: 13.7s\tremaining: 58.5s\n",
      "95:\tlearn: 0.4684329\ttest: 0.4690675\tbest: 0.4690675 (95)\ttotal: 13.8s\tremaining: 58.2s\n",
      "96:\tlearn: 0.4681811\ttest: 0.4688155\tbest: 0.4688155 (96)\ttotal: 13.9s\tremaining: 57.9s\n",
      "97:\tlearn: 0.4676484\ttest: 0.4682481\tbest: 0.4682481 (97)\ttotal: 14.1s\tremaining: 57.6s\n",
      "98:\tlearn: 0.4672730\ttest: 0.4678663\tbest: 0.4678663 (98)\ttotal: 14.2s\tremaining: 57.4s\n",
      "99:\tlearn: 0.4668276\ttest: 0.4674459\tbest: 0.4674459 (99)\ttotal: 14.3s\tremaining: 57.2s\n",
      "100:\tlearn: 0.4666071\ttest: 0.4673227\tbest: 0.4673227 (100)\ttotal: 14.4s\tremaining: 56.8s\n",
      "101:\tlearn: 0.4658609\ttest: 0.4667372\tbest: 0.4667372 (101)\ttotal: 14.5s\tremaining: 56.7s\n",
      "102:\tlearn: 0.4650533\ttest: 0.4661239\tbest: 0.4661239 (102)\ttotal: 14.7s\tremaining: 56.5s\n",
      "103:\tlearn: 0.4645758\ttest: 0.4657087\tbest: 0.4657087 (103)\ttotal: 14.8s\tremaining: 56.3s\n",
      "104:\tlearn: 0.4639315\ttest: 0.4651093\tbest: 0.4651093 (104)\ttotal: 14.9s\tremaining: 56.1s\n",
      "105:\tlearn: 0.4637602\ttest: 0.4649300\tbest: 0.4649300 (105)\ttotal: 15s\tremaining: 55.8s\n",
      "106:\tlearn: 0.4633272\ttest: 0.4645772\tbest: 0.4645772 (106)\ttotal: 15.1s\tremaining: 55.6s\n",
      "107:\tlearn: 0.4627160\ttest: 0.4639506\tbest: 0.4639506 (107)\ttotal: 15.3s\tremaining: 55.4s\n",
      "108:\tlearn: 0.4622263\ttest: 0.4634918\tbest: 0.4634918 (108)\ttotal: 15.4s\tremaining: 55.2s\n",
      "109:\tlearn: 0.4616104\ttest: 0.4628398\tbest: 0.4628398 (109)\ttotal: 15.5s\tremaining: 55.1s\n",
      "110:\tlearn: 0.4612973\ttest: 0.4626188\tbest: 0.4626188 (110)\ttotal: 15.7s\tremaining: 54.9s\n",
      "111:\tlearn: 0.4606795\ttest: 0.4620746\tbest: 0.4620746 (111)\ttotal: 15.8s\tremaining: 54.7s\n",
      "112:\tlearn: 0.4603074\ttest: 0.4616828\tbest: 0.4616828 (112)\ttotal: 15.9s\tremaining: 54.5s\n",
      "113:\tlearn: 0.4598799\ttest: 0.4613418\tbest: 0.4613418 (113)\ttotal: 16s\tremaining: 54.3s\n",
      "114:\tlearn: 0.4595738\ttest: 0.4609988\tbest: 0.4609988 (114)\ttotal: 16.2s\tremaining: 54.1s\n",
      "115:\tlearn: 0.4590957\ttest: 0.4606814\tbest: 0.4606814 (115)\ttotal: 16.3s\tremaining: 54s\n",
      "116:\tlearn: 0.4586641\ttest: 0.4602290\tbest: 0.4602290 (116)\ttotal: 16.5s\tremaining: 54.1s\n",
      "117:\tlearn: 0.4581566\ttest: 0.4597071\tbest: 0.4597071 (117)\ttotal: 16.7s\tremaining: 54s\n",
      "118:\tlearn: 0.4576210\ttest: 0.4592139\tbest: 0.4592139 (118)\ttotal: 16.8s\tremaining: 53.9s\n",
      "119:\tlearn: 0.4573838\ttest: 0.4589897\tbest: 0.4589897 (119)\ttotal: 17.1s\tremaining: 54.2s\n",
      "120:\tlearn: 0.4568002\ttest: 0.4584712\tbest: 0.4584712 (120)\ttotal: 17.3s\tremaining: 54s\n",
      "121:\tlearn: 0.4564590\ttest: 0.4581176\tbest: 0.4581176 (121)\ttotal: 17.5s\tremaining: 54.2s\n",
      "122:\tlearn: 0.4557233\ttest: 0.4574487\tbest: 0.4574487 (122)\ttotal: 17.7s\tremaining: 54.4s\n",
      "123:\tlearn: 0.4552916\ttest: 0.4571339\tbest: 0.4571339 (123)\ttotal: 18s\tremaining: 54.5s\n",
      "124:\tlearn: 0.4544240\ttest: 0.4562817\tbest: 0.4562817 (124)\ttotal: 18.2s\tremaining: 54.5s\n",
      "125:\tlearn: 0.4535681\ttest: 0.4554003\tbest: 0.4554003 (125)\ttotal: 18.4s\tremaining: 54.6s\n",
      "126:\tlearn: 0.4532536\ttest: 0.4551630\tbest: 0.4551630 (126)\ttotal: 18.5s\tremaining: 54.4s\n",
      "127:\tlearn: 0.4530971\ttest: 0.4550427\tbest: 0.4550427 (127)\ttotal: 18.8s\tremaining: 54.5s\n",
      "128:\tlearn: 0.4524253\ttest: 0.4544579\tbest: 0.4544579 (128)\ttotal: 18.9s\tremaining: 54.4s\n",
      "129:\tlearn: 0.4519263\ttest: 0.4540073\tbest: 0.4540073 (129)\ttotal: 19.3s\tremaining: 54.9s\n",
      "130:\tlearn: 0.4510801\ttest: 0.4532169\tbest: 0.4532169 (130)\ttotal: 19.5s\tremaining: 55.1s\n",
      "131:\tlearn: 0.4504474\ttest: 0.4525359\tbest: 0.4525359 (131)\ttotal: 19.8s\tremaining: 55.1s\n",
      "132:\tlearn: 0.4500644\ttest: 0.4522499\tbest: 0.4522499 (132)\ttotal: 19.9s\tremaining: 55s\n",
      "133:\tlearn: 0.4493682\ttest: 0.4515506\tbest: 0.4515506 (133)\ttotal: 20.2s\tremaining: 55.1s\n",
      "134:\tlearn: 0.4489407\ttest: 0.4512441\tbest: 0.4512441 (134)\ttotal: 20.3s\tremaining: 55s\n",
      "135:\tlearn: 0.4486962\ttest: 0.4510130\tbest: 0.4510130 (135)\ttotal: 20.5s\tremaining: 54.9s\n",
      "136:\tlearn: 0.4480014\ttest: 0.4503730\tbest: 0.4503730 (136)\ttotal: 20.8s\tremaining: 55s\n",
      "137:\tlearn: 0.4474683\ttest: 0.4498523\tbest: 0.4498523 (137)\ttotal: 20.9s\tremaining: 54.9s\n",
      "138:\tlearn: 0.4467384\ttest: 0.4490926\tbest: 0.4490926 (138)\ttotal: 21.2s\tremaining: 55.1s\n",
      "139:\tlearn: 0.4461368\ttest: 0.4485157\tbest: 0.4485157 (139)\ttotal: 21.4s\tremaining: 55s\n",
      "140:\tlearn: 0.4455696\ttest: 0.4480892\tbest: 0.4480892 (140)\ttotal: 21.6s\tremaining: 54.9s\n",
      "141:\tlearn: 0.4448986\ttest: 0.4473299\tbest: 0.4473299 (141)\ttotal: 21.8s\tremaining: 55s\n",
      "142:\tlearn: 0.4443230\ttest: 0.4468250\tbest: 0.4468250 (142)\ttotal: 22.1s\tremaining: 55.1s\n",
      "143:\tlearn: 0.4437935\ttest: 0.4464158\tbest: 0.4464158 (143)\ttotal: 22.4s\tremaining: 55.3s\n",
      "144:\tlearn: 0.4431641\ttest: 0.4456819\tbest: 0.4456819 (144)\ttotal: 22.7s\tremaining: 55.5s\n",
      "145:\tlearn: 0.4425531\ttest: 0.4451398\tbest: 0.4451398 (145)\ttotal: 23s\tremaining: 55.7s\n",
      "146:\tlearn: 0.4418997\ttest: 0.4445728\tbest: 0.4445728 (146)\ttotal: 23.1s\tremaining: 55.5s\n",
      "147:\tlearn: 0.4416052\ttest: 0.4443297\tbest: 0.4443297 (147)\ttotal: 23.3s\tremaining: 55.4s\n",
      "148:\tlearn: 0.4414862\ttest: 0.4442550\tbest: 0.4442550 (148)\ttotal: 23.4s\tremaining: 55.1s\n",
      "149:\tlearn: 0.4413418\ttest: 0.4441122\tbest: 0.4441122 (149)\ttotal: 23.5s\tremaining: 54.9s\n",
      "150:\tlearn: 0.4409437\ttest: 0.4437496\tbest: 0.4437496 (150)\ttotal: 23.7s\tremaining: 54.8s\n",
      "151:\tlearn: 0.4406202\ttest: 0.4434379\tbest: 0.4434379 (151)\ttotal: 24s\tremaining: 54.9s\n",
      "152:\tlearn: 0.4404992\ttest: 0.4433571\tbest: 0.4433571 (152)\ttotal: 24.1s\tremaining: 54.7s\n",
      "153:\tlearn: 0.4402616\ttest: 0.4432249\tbest: 0.4432249 (153)\ttotal: 24.3s\tremaining: 54.7s\n",
      "154:\tlearn: 0.4399399\ttest: 0.4429660\tbest: 0.4429660 (154)\ttotal: 24.5s\tremaining: 54.5s\n",
      "155:\tlearn: 0.4392546\ttest: 0.4423119\tbest: 0.4423119 (155)\ttotal: 24.8s\tremaining: 54.6s\n",
      "156:\tlearn: 0.4388968\ttest: 0.4419990\tbest: 0.4419990 (156)\ttotal: 24.9s\tremaining: 54.5s\n",
      "157:\tlearn: 0.4385196\ttest: 0.4417544\tbest: 0.4417544 (157)\ttotal: 25.3s\tremaining: 54.7s\n",
      "158:\tlearn: 0.4383057\ttest: 0.4415628\tbest: 0.4415628 (158)\ttotal: 25.5s\tremaining: 54.6s\n",
      "159:\tlearn: 0.4380044\ttest: 0.4413435\tbest: 0.4413435 (159)\ttotal: 25.8s\tremaining: 54.9s\n",
      "160:\tlearn: 0.4373851\ttest: 0.4407443\tbest: 0.4407443 (160)\ttotal: 26.1s\tremaining: 54.9s\n",
      "161:\tlearn: 0.4369693\ttest: 0.4403951\tbest: 0.4403951 (161)\ttotal: 26.4s\tremaining: 55s\n",
      "162:\tlearn: 0.4368585\ttest: 0.4403285\tbest: 0.4403285 (162)\ttotal: 26.5s\tremaining: 54.8s\n",
      "163:\tlearn: 0.4365924\ttest: 0.4400892\tbest: 0.4400892 (163)\ttotal: 26.7s\tremaining: 54.6s\n",
      "164:\tlearn: 0.4363340\ttest: 0.4398774\tbest: 0.4398774 (164)\ttotal: 26.8s\tremaining: 54.5s\n",
      "165:\tlearn: 0.4360945\ttest: 0.4396307\tbest: 0.4396307 (165)\ttotal: 27.1s\tremaining: 54.5s\n",
      "166:\tlearn: 0.4355075\ttest: 0.4390715\tbest: 0.4390715 (166)\ttotal: 27.4s\tremaining: 54.6s\n",
      "167:\tlearn: 0.4352025\ttest: 0.4388381\tbest: 0.4388381 (167)\ttotal: 27.6s\tremaining: 54.6s\n",
      "168:\tlearn: 0.4348771\ttest: 0.4384804\tbest: 0.4384804 (168)\ttotal: 27.8s\tremaining: 54.5s\n",
      "169:\tlearn: 0.4347802\ttest: 0.4383806\tbest: 0.4383806 (169)\ttotal: 28s\tremaining: 54.3s\n",
      "170:\tlearn: 0.4345023\ttest: 0.4381734\tbest: 0.4381734 (170)\ttotal: 28.1s\tremaining: 54.2s\n",
      "171:\tlearn: 0.4342510\ttest: 0.4379567\tbest: 0.4379567 (171)\ttotal: 28.3s\tremaining: 54s\n",
      "172:\tlearn: 0.4339996\ttest: 0.4376734\tbest: 0.4376734 (172)\ttotal: 28.5s\tremaining: 53.8s\n",
      "173:\tlearn: 0.4333228\ttest: 0.4369611\tbest: 0.4369611 (173)\ttotal: 28.8s\tremaining: 53.9s\n",
      "174:\tlearn: 0.4330554\ttest: 0.4366942\tbest: 0.4366942 (174)\ttotal: 28.9s\tremaining: 53.8s\n",
      "175:\tlearn: 0.4327024\ttest: 0.4364447\tbest: 0.4364447 (175)\ttotal: 29.3s\tremaining: 53.9s\n",
      "176:\tlearn: 0.4325753\ttest: 0.4363649\tbest: 0.4363649 (176)\ttotal: 29.6s\tremaining: 54s\n",
      "177:\tlearn: 0.4322412\ttest: 0.4361299\tbest: 0.4361299 (177)\ttotal: 29.7s\tremaining: 53.8s\n",
      "178:\tlearn: 0.4319732\ttest: 0.4359135\tbest: 0.4359135 (178)\ttotal: 29.9s\tremaining: 53.6s\n",
      "179:\tlearn: 0.4314785\ttest: 0.4354395\tbest: 0.4354395 (179)\ttotal: 30.1s\tremaining: 53.6s\n",
      "180:\tlearn: 0.4310241\ttest: 0.4349987\tbest: 0.4349987 (180)\ttotal: 30.4s\tremaining: 53.6s\n",
      "181:\tlearn: 0.4304417\ttest: 0.4345225\tbest: 0.4345225 (181)\ttotal: 30.7s\tremaining: 53.7s\n",
      "182:\tlearn: 0.4300853\ttest: 0.4341723\tbest: 0.4341723 (182)\ttotal: 30.9s\tremaining: 53.5s\n",
      "183:\tlearn: 0.4297447\ttest: 0.4339126\tbest: 0.4339126 (183)\ttotal: 31.1s\tremaining: 53.4s\n",
      "184:\tlearn: 0.4294144\ttest: 0.4335873\tbest: 0.4335873 (184)\ttotal: 31.3s\tremaining: 53.3s\n",
      "185:\tlearn: 0.4288632\ttest: 0.4330248\tbest: 0.4330248 (185)\ttotal: 31.6s\tremaining: 53.3s\n",
      "186:\tlearn: 0.4285095\ttest: 0.4327854\tbest: 0.4327854 (186)\ttotal: 31.9s\tremaining: 53.3s\n",
      "187:\tlearn: 0.4282793\ttest: 0.4326356\tbest: 0.4326356 (187)\ttotal: 32s\tremaining: 53.2s\n",
      "188:\tlearn: 0.4276887\ttest: 0.4321216\tbest: 0.4321216 (188)\ttotal: 32.4s\tremaining: 53.3s\n",
      "189:\tlearn: 0.4275457\ttest: 0.4319524\tbest: 0.4319524 (189)\ttotal: 32.5s\tremaining: 53s\n",
      "190:\tlearn: 0.4271555\ttest: 0.4316805\tbest: 0.4316805 (190)\ttotal: 32.7s\tremaining: 52.9s\n",
      "191:\tlearn: 0.4267516\ttest: 0.4313685\tbest: 0.4313685 (191)\ttotal: 32.9s\tremaining: 52.8s\n",
      "192:\tlearn: 0.4264647\ttest: 0.4311392\tbest: 0.4311392 (192)\ttotal: 33.1s\tremaining: 52.6s\n",
      "193:\tlearn: 0.4262601\ttest: 0.4309994\tbest: 0.4309994 (193)\ttotal: 33.2s\tremaining: 52.4s\n",
      "194:\tlearn: 0.4258927\ttest: 0.4306030\tbest: 0.4306030 (194)\ttotal: 33.4s\tremaining: 52.2s\n",
      "195:\tlearn: 0.4254242\ttest: 0.4301138\tbest: 0.4301138 (195)\ttotal: 33.5s\tremaining: 52s\n",
      "196:\tlearn: 0.4252242\ttest: 0.4299120\tbest: 0.4299120 (196)\ttotal: 33.6s\tremaining: 51.8s\n",
      "197:\tlearn: 0.4250249\ttest: 0.4297547\tbest: 0.4297547 (197)\ttotal: 33.8s\tremaining: 51.5s\n",
      "198:\tlearn: 0.4246160\ttest: 0.4294229\tbest: 0.4294229 (198)\ttotal: 33.9s\tremaining: 51.3s\n",
      "199:\tlearn: 0.4242952\ttest: 0.4292025\tbest: 0.4292025 (199)\ttotal: 34.1s\tremaining: 51.1s\n",
      "200:\tlearn: 0.4239104\ttest: 0.4288591\tbest: 0.4288591 (200)\ttotal: 34.2s\tremaining: 50.9s\n",
      "201:\tlearn: 0.4236817\ttest: 0.4286426\tbest: 0.4286426 (201)\ttotal: 34.3s\tremaining: 50.6s\n",
      "202:\tlearn: 0.4232775\ttest: 0.4282294\tbest: 0.4282294 (202)\ttotal: 34.5s\tremaining: 50.4s\n",
      "203:\tlearn: 0.4229890\ttest: 0.4279724\tbest: 0.4279724 (203)\ttotal: 34.6s\tremaining: 50.2s\n",
      "204:\tlearn: 0.4227311\ttest: 0.4277109\tbest: 0.4277109 (204)\ttotal: 34.7s\tremaining: 50s\n",
      "205:\tlearn: 0.4224819\ttest: 0.4275584\tbest: 0.4275584 (205)\ttotal: 34.9s\tremaining: 49.7s\n",
      "206:\tlearn: 0.4223416\ttest: 0.4274628\tbest: 0.4274628 (206)\ttotal: 35s\tremaining: 49.5s\n",
      "207:\tlearn: 0.4221283\ttest: 0.4273290\tbest: 0.4273290 (207)\ttotal: 35.1s\tremaining: 49.3s\n",
      "208:\tlearn: 0.4219971\ttest: 0.4272340\tbest: 0.4272340 (208)\ttotal: 35.2s\tremaining: 49s\n",
      "209:\tlearn: 0.4217359\ttest: 0.4270279\tbest: 0.4270279 (209)\ttotal: 35.3s\tremaining: 48.8s\n",
      "210:\tlearn: 0.4215771\ttest: 0.4268621\tbest: 0.4268621 (210)\ttotal: 35.4s\tremaining: 48.5s\n",
      "211:\tlearn: 0.4213330\ttest: 0.4267149\tbest: 0.4267149 (211)\ttotal: 35.6s\tremaining: 48.3s\n",
      "212:\tlearn: 0.4212065\ttest: 0.4266599\tbest: 0.4266599 (212)\ttotal: 35.7s\tremaining: 48.1s\n",
      "213:\tlearn: 0.4211120\ttest: 0.4266199\tbest: 0.4266199 (213)\ttotal: 35.8s\tremaining: 47.9s\n",
      "214:\tlearn: 0.4208493\ttest: 0.4263889\tbest: 0.4263889 (214)\ttotal: 36s\tremaining: 47.7s\n",
      "215:\tlearn: 0.4205739\ttest: 0.4261719\tbest: 0.4261719 (215)\ttotal: 36.1s\tremaining: 47.5s\n",
      "216:\tlearn: 0.4204475\ttest: 0.4260542\tbest: 0.4260542 (216)\ttotal: 36.2s\tremaining: 47.3s\n",
      "217:\tlearn: 0.4202480\ttest: 0.4258739\tbest: 0.4258739 (217)\ttotal: 36.4s\tremaining: 47s\n",
      "218:\tlearn: 0.4198330\ttest: 0.4255024\tbest: 0.4255024 (218)\ttotal: 36.6s\tremaining: 46.9s\n",
      "219:\tlearn: 0.4194600\ttest: 0.4251881\tbest: 0.4251881 (219)\ttotal: 36.7s\tremaining: 46.7s\n",
      "220:\tlearn: 0.4191717\ttest: 0.4249634\tbest: 0.4249634 (220)\ttotal: 36.9s\tremaining: 46.5s\n",
      "221:\tlearn: 0.4186603\ttest: 0.4244394\tbest: 0.4244394 (221)\ttotal: 37s\tremaining: 46.4s\n",
      "222:\tlearn: 0.4184353\ttest: 0.4242716\tbest: 0.4242716 (222)\ttotal: 37.2s\tremaining: 46.2s\n",
      "223:\tlearn: 0.4182080\ttest: 0.4240818\tbest: 0.4240818 (223)\ttotal: 37.3s\tremaining: 46s\n",
      "224:\tlearn: 0.4179479\ttest: 0.4238963\tbest: 0.4238963 (224)\ttotal: 37.4s\tremaining: 45.7s\n",
      "225:\tlearn: 0.4176154\ttest: 0.4235939\tbest: 0.4235939 (225)\ttotal: 37.6s\tremaining: 45.5s\n",
      "226:\tlearn: 0.4175324\ttest: 0.4235708\tbest: 0.4235708 (226)\ttotal: 37.7s\tremaining: 45.3s\n",
      "227:\tlearn: 0.4174483\ttest: 0.4235202\tbest: 0.4235202 (227)\ttotal: 37.8s\tremaining: 45.1s\n",
      "228:\tlearn: 0.4170619\ttest: 0.4231149\tbest: 0.4231149 (228)\ttotal: 37.9s\tremaining: 44.9s\n",
      "229:\tlearn: 0.4168261\ttest: 0.4229316\tbest: 0.4229316 (229)\ttotal: 38.1s\tremaining: 44.7s\n",
      "230:\tlearn: 0.4166516\ttest: 0.4227602\tbest: 0.4227602 (230)\ttotal: 38.2s\tremaining: 44.5s\n",
      "231:\tlearn: 0.4165433\ttest: 0.4227553\tbest: 0.4227553 (231)\ttotal: 38.4s\tremaining: 44.3s\n",
      "232:\tlearn: 0.4161129\ttest: 0.4223215\tbest: 0.4223215 (232)\ttotal: 38.5s\tremaining: 44.1s\n",
      "233:\tlearn: 0.4158686\ttest: 0.4220990\tbest: 0.4220990 (233)\ttotal: 38.6s\tremaining: 43.9s\n",
      "234:\tlearn: 0.4154730\ttest: 0.4217563\tbest: 0.4217563 (234)\ttotal: 38.8s\tremaining: 43.7s\n",
      "235:\tlearn: 0.4150511\ttest: 0.4213885\tbest: 0.4213885 (235)\ttotal: 38.9s\tremaining: 43.6s\n",
      "236:\tlearn: 0.4148952\ttest: 0.4213145\tbest: 0.4213145 (236)\ttotal: 39s\tremaining: 43.3s\n",
      "237:\tlearn: 0.4146248\ttest: 0.4210741\tbest: 0.4210741 (237)\ttotal: 39.2s\tremaining: 43.1s\n",
      "238:\tlearn: 0.4142783\ttest: 0.4207726\tbest: 0.4207726 (238)\ttotal: 39.3s\tremaining: 42.9s\n",
      "239:\tlearn: 0.4141891\ttest: 0.4207198\tbest: 0.4207198 (239)\ttotal: 39.4s\tremaining: 42.7s\n",
      "240:\tlearn: 0.4138837\ttest: 0.4204334\tbest: 0.4204334 (240)\ttotal: 39.6s\tremaining: 42.5s\n",
      "241:\tlearn: 0.4136185\ttest: 0.4202411\tbest: 0.4202411 (241)\ttotal: 39.7s\tremaining: 42.4s\n",
      "242:\tlearn: 0.4134881\ttest: 0.4201773\tbest: 0.4201773 (242)\ttotal: 39.9s\tremaining: 42.1s\n",
      "243:\tlearn: 0.4132512\ttest: 0.4199641\tbest: 0.4199641 (243)\ttotal: 40s\tremaining: 42s\n",
      "244:\tlearn: 0.4128273\ttest: 0.4195940\tbest: 0.4195940 (244)\ttotal: 40.1s\tremaining: 41.7s\n",
      "245:\tlearn: 0.4125831\ttest: 0.4194678\tbest: 0.4194678 (245)\ttotal: 40.2s\tremaining: 41.5s\n",
      "246:\tlearn: 0.4123576\ttest: 0.4192256\tbest: 0.4192256 (246)\ttotal: 40.4s\tremaining: 41.3s\n",
      "247:\tlearn: 0.4119533\ttest: 0.4188455\tbest: 0.4188455 (247)\ttotal: 40.5s\tremaining: 41.2s\n",
      "248:\tlearn: 0.4116745\ttest: 0.4186212\tbest: 0.4186212 (248)\ttotal: 40.6s\tremaining: 41s\n",
      "249:\tlearn: 0.4114863\ttest: 0.4184189\tbest: 0.4184189 (249)\ttotal: 40.8s\tremaining: 40.8s\n",
      "250:\tlearn: 0.4111385\ttest: 0.4180615\tbest: 0.4180615 (250)\ttotal: 40.9s\tremaining: 40.6s\n",
      "251:\tlearn: 0.4109227\ttest: 0.4178617\tbest: 0.4178617 (251)\ttotal: 41.1s\tremaining: 40.4s\n",
      "252:\tlearn: 0.4106591\ttest: 0.4175976\tbest: 0.4175976 (252)\ttotal: 41.2s\tremaining: 40.3s\n",
      "253:\tlearn: 0.4105616\ttest: 0.4175416\tbest: 0.4175416 (253)\ttotal: 41.3s\tremaining: 40s\n",
      "254:\tlearn: 0.4103962\ttest: 0.4174448\tbest: 0.4174448 (254)\ttotal: 41.5s\tremaining: 39.8s\n",
      "255:\tlearn: 0.4102079\ttest: 0.4172608\tbest: 0.4172608 (255)\ttotal: 41.6s\tremaining: 39.7s\n",
      "256:\tlearn: 0.4098931\ttest: 0.4169874\tbest: 0.4169874 (256)\ttotal: 41.8s\tremaining: 39.5s\n",
      "257:\tlearn: 0.4096019\ttest: 0.4167240\tbest: 0.4167240 (257)\ttotal: 41.9s\tremaining: 39.3s\n",
      "258:\tlearn: 0.4093143\ttest: 0.4164009\tbest: 0.4164009 (258)\ttotal: 42.1s\tremaining: 39.1s\n",
      "259:\tlearn: 0.4089998\ttest: 0.4161231\tbest: 0.4161231 (259)\ttotal: 42.2s\tremaining: 39s\n",
      "260:\tlearn: 0.4088836\ttest: 0.4160226\tbest: 0.4160226 (260)\ttotal: 42.4s\tremaining: 38.8s\n",
      "261:\tlearn: 0.4086059\ttest: 0.4158375\tbest: 0.4158375 (261)\ttotal: 42.5s\tremaining: 38.6s\n",
      "262:\tlearn: 0.4084497\ttest: 0.4157597\tbest: 0.4157597 (262)\ttotal: 42.7s\tremaining: 38.5s\n",
      "263:\tlearn: 0.4078560\ttest: 0.4151740\tbest: 0.4151740 (263)\ttotal: 42.9s\tremaining: 38.4s\n",
      "264:\tlearn: 0.4076146\ttest: 0.4150367\tbest: 0.4150367 (264)\ttotal: 43.2s\tremaining: 38.3s\n",
      "265:\tlearn: 0.4073390\ttest: 0.4148071\tbest: 0.4148071 (265)\ttotal: 43.4s\tremaining: 38.2s\n",
      "266:\tlearn: 0.4072684\ttest: 0.4147594\tbest: 0.4147594 (266)\ttotal: 43.5s\tremaining: 38s\n",
      "267:\tlearn: 0.4071792\ttest: 0.4146671\tbest: 0.4146671 (267)\ttotal: 43.7s\tremaining: 37.8s\n",
      "268:\tlearn: 0.4070717\ttest: 0.4146233\tbest: 0.4146233 (268)\ttotal: 43.8s\tremaining: 37.6s\n",
      "269:\tlearn: 0.4069210\ttest: 0.4144694\tbest: 0.4144694 (269)\ttotal: 44s\tremaining: 37.5s\n",
      "270:\tlearn: 0.4065888\ttest: 0.4141262\tbest: 0.4141262 (270)\ttotal: 44.2s\tremaining: 37.3s\n",
      "271:\tlearn: 0.4064508\ttest: 0.4140475\tbest: 0.4140475 (271)\ttotal: 44.4s\tremaining: 37.2s\n",
      "272:\tlearn: 0.4062551\ttest: 0.4139038\tbest: 0.4139038 (272)\ttotal: 44.5s\tremaining: 37s\n",
      "273:\tlearn: 0.4060466\ttest: 0.4137874\tbest: 0.4137874 (273)\ttotal: 44.7s\tremaining: 36.8s\n",
      "274:\tlearn: 0.4058031\ttest: 0.4135694\tbest: 0.4135694 (274)\ttotal: 44.9s\tremaining: 36.7s\n",
      "275:\tlearn: 0.4057097\ttest: 0.4135370\tbest: 0.4135370 (275)\ttotal: 45s\tremaining: 36.6s\n",
      "276:\tlearn: 0.4054174\ttest: 0.4133273\tbest: 0.4133273 (276)\ttotal: 45.2s\tremaining: 36.4s\n",
      "277:\tlearn: 0.4051422\ttest: 0.4130884\tbest: 0.4130884 (277)\ttotal: 45.5s\tremaining: 36.3s\n",
      "278:\tlearn: 0.4048988\ttest: 0.4128232\tbest: 0.4128232 (278)\ttotal: 45.6s\tremaining: 36.1s\n",
      "279:\tlearn: 0.4047856\ttest: 0.4127730\tbest: 0.4127730 (279)\ttotal: 45.7s\tremaining: 35.9s\n",
      "280:\tlearn: 0.4042303\ttest: 0.4123156\tbest: 0.4123156 (280)\ttotal: 46s\tremaining: 35.9s\n",
      "281:\tlearn: 0.4040190\ttest: 0.4121197\tbest: 0.4121197 (281)\ttotal: 46.2s\tremaining: 35.7s\n",
      "282:\tlearn: 0.4036956\ttest: 0.4117701\tbest: 0.4117701 (282)\ttotal: 46.4s\tremaining: 35.6s\n",
      "283:\tlearn: 0.4033528\ttest: 0.4114271\tbest: 0.4114271 (283)\ttotal: 46.6s\tremaining: 35.4s\n",
      "284:\tlearn: 0.4031485\ttest: 0.4112259\tbest: 0.4112259 (284)\ttotal: 46.8s\tremaining: 35.3s\n",
      "285:\tlearn: 0.4029575\ttest: 0.4110232\tbest: 0.4110232 (285)\ttotal: 47s\tremaining: 35.1s\n",
      "286:\tlearn: 0.4028600\ttest: 0.4109288\tbest: 0.4109288 (286)\ttotal: 47.1s\tremaining: 35s\n",
      "287:\tlearn: 0.4026845\ttest: 0.4108244\tbest: 0.4108244 (287)\ttotal: 47.3s\tremaining: 34.8s\n",
      "288:\tlearn: 0.4026005\ttest: 0.4107826\tbest: 0.4107826 (288)\ttotal: 47.4s\tremaining: 34.6s\n",
      "289:\tlearn: 0.4024923\ttest: 0.4107570\tbest: 0.4107570 (289)\ttotal: 47.6s\tremaining: 34.4s\n",
      "290:\tlearn: 0.4023037\ttest: 0.4106029\tbest: 0.4106029 (290)\ttotal: 47.7s\tremaining: 34.3s\n",
      "291:\tlearn: 0.4020750\ttest: 0.4104461\tbest: 0.4104461 (291)\ttotal: 47.9s\tremaining: 34.1s\n",
      "292:\tlearn: 0.4017190\ttest: 0.4101493\tbest: 0.4101493 (292)\ttotal: 48.1s\tremaining: 34s\n",
      "293:\tlearn: 0.4014087\ttest: 0.4098388\tbest: 0.4098388 (293)\ttotal: 48.3s\tremaining: 33.8s\n",
      "294:\tlearn: 0.4012642\ttest: 0.4097563\tbest: 0.4097563 (294)\ttotal: 48.6s\tremaining: 33.8s\n",
      "295:\tlearn: 0.4011381\ttest: 0.4096048\tbest: 0.4096048 (295)\ttotal: 48.7s\tremaining: 33.6s\n",
      "296:\tlearn: 0.4009168\ttest: 0.4093732\tbest: 0.4093732 (296)\ttotal: 48.9s\tremaining: 33.4s\n",
      "297:\tlearn: 0.4006736\ttest: 0.4091054\tbest: 0.4091054 (297)\ttotal: 49.1s\tremaining: 33.3s\n",
      "298:\tlearn: 0.4004066\ttest: 0.4089048\tbest: 0.4089048 (298)\ttotal: 49.3s\tremaining: 33.1s\n",
      "299:\tlearn: 0.4002044\ttest: 0.4087980\tbest: 0.4087980 (299)\ttotal: 49.4s\tremaining: 32.9s\n",
      "300:\tlearn: 0.3999856\ttest: 0.4086535\tbest: 0.4086535 (300)\ttotal: 49.6s\tremaining: 32.8s\n",
      "301:\tlearn: 0.3999316\ttest: 0.4086189\tbest: 0.4086189 (301)\ttotal: 49.7s\tremaining: 32.6s\n",
      "302:\tlearn: 0.3996901\ttest: 0.4084095\tbest: 0.4084095 (302)\ttotal: 49.9s\tremaining: 32.5s\n",
      "303:\tlearn: 0.3995570\ttest: 0.4082682\tbest: 0.4082682 (303)\ttotal: 50.1s\tremaining: 32.3s\n",
      "304:\tlearn: 0.3993267\ttest: 0.4080873\tbest: 0.4080873 (304)\ttotal: 50.3s\tremaining: 32.1s\n",
      "305:\tlearn: 0.3990738\ttest: 0.4078332\tbest: 0.4078332 (305)\ttotal: 50.4s\tremaining: 31.9s\n",
      "306:\tlearn: 0.3989079\ttest: 0.4076778\tbest: 0.4076778 (306)\ttotal: 50.5s\tremaining: 31.8s\n",
      "307:\tlearn: 0.3987237\ttest: 0.4076197\tbest: 0.4076197 (307)\ttotal: 50.7s\tremaining: 31.6s\n",
      "308:\tlearn: 0.3984368\ttest: 0.4073770\tbest: 0.4073770 (308)\ttotal: 50.9s\tremaining: 31.4s\n",
      "309:\tlearn: 0.3982812\ttest: 0.4072433\tbest: 0.4072433 (309)\ttotal: 51s\tremaining: 31.2s\n",
      "310:\tlearn: 0.3981919\ttest: 0.4071547\tbest: 0.4071547 (310)\ttotal: 51.1s\tremaining: 31.1s\n",
      "311:\tlearn: 0.3980495\ttest: 0.4070608\tbest: 0.4070608 (311)\ttotal: 51.2s\tremaining: 30.9s\n",
      "312:\tlearn: 0.3979079\ttest: 0.4069661\tbest: 0.4069661 (312)\ttotal: 51.4s\tremaining: 30.7s\n",
      "313:\tlearn: 0.3976987\ttest: 0.4067751\tbest: 0.4067751 (313)\ttotal: 51.5s\tremaining: 30.5s\n",
      "314:\tlearn: 0.3974280\ttest: 0.4064964\tbest: 0.4064964 (314)\ttotal: 51.7s\tremaining: 30.4s\n",
      "315:\tlearn: 0.3971974\ttest: 0.4063457\tbest: 0.4063457 (315)\ttotal: 51.8s\tremaining: 30.2s\n",
      "316:\tlearn: 0.3969762\ttest: 0.4061263\tbest: 0.4061263 (316)\ttotal: 52s\tremaining: 30s\n",
      "317:\tlearn: 0.3966856\ttest: 0.4058724\tbest: 0.4058724 (317)\ttotal: 52.1s\tremaining: 29.8s\n",
      "318:\tlearn: 0.3964377\ttest: 0.4056707\tbest: 0.4056707 (318)\ttotal: 52.2s\tremaining: 29.6s\n",
      "319:\tlearn: 0.3962140\ttest: 0.4054750\tbest: 0.4054750 (319)\ttotal: 52.4s\tremaining: 29.5s\n",
      "320:\tlearn: 0.3960385\ttest: 0.4052989\tbest: 0.4052989 (320)\ttotal: 52.5s\tremaining: 29.3s\n",
      "321:\tlearn: 0.3957006\ttest: 0.4049794\tbest: 0.4049794 (321)\ttotal: 52.7s\tremaining: 29.1s\n",
      "322:\tlearn: 0.3956297\ttest: 0.4049208\tbest: 0.4049208 (322)\ttotal: 52.8s\tremaining: 28.9s\n",
      "323:\tlearn: 0.3954605\ttest: 0.4047798\tbest: 0.4047798 (323)\ttotal: 52.9s\tremaining: 28.8s\n",
      "324:\tlearn: 0.3953924\ttest: 0.4047753\tbest: 0.4047753 (324)\ttotal: 53.1s\tremaining: 28.6s\n",
      "325:\tlearn: 0.3951094\ttest: 0.4045861\tbest: 0.4045861 (325)\ttotal: 53.2s\tremaining: 28.4s\n",
      "326:\tlearn: 0.3949584\ttest: 0.4044882\tbest: 0.4044882 (326)\ttotal: 53.3s\tremaining: 28.2s\n",
      "327:\tlearn: 0.3947639\ttest: 0.4042884\tbest: 0.4042884 (327)\ttotal: 53.5s\tremaining: 28s\n",
      "328:\tlearn: 0.3945380\ttest: 0.4041644\tbest: 0.4041644 (328)\ttotal: 53.6s\tremaining: 27.9s\n",
      "329:\tlearn: 0.3943789\ttest: 0.4040345\tbest: 0.4040345 (329)\ttotal: 53.8s\tremaining: 27.7s\n",
      "330:\tlearn: 0.3943091\ttest: 0.4040350\tbest: 0.4040345 (329)\ttotal: 53.9s\tremaining: 27.5s\n",
      "331:\tlearn: 0.3940328\ttest: 0.4037570\tbest: 0.4037570 (331)\ttotal: 54s\tremaining: 27.3s\n",
      "332:\tlearn: 0.3938285\ttest: 0.4035911\tbest: 0.4035911 (332)\ttotal: 54.2s\tremaining: 27.2s\n",
      "333:\tlearn: 0.3936151\ttest: 0.4034069\tbest: 0.4034069 (333)\ttotal: 54.3s\tremaining: 27s\n",
      "334:\tlearn: 0.3934476\ttest: 0.4032694\tbest: 0.4032694 (334)\ttotal: 54.5s\tremaining: 26.8s\n",
      "335:\tlearn: 0.3933526\ttest: 0.4031973\tbest: 0.4031973 (335)\ttotal: 54.7s\tremaining: 26.7s\n",
      "336:\tlearn: 0.3930566\ttest: 0.4028695\tbest: 0.4028695 (336)\ttotal: 54.9s\tremaining: 26.6s\n",
      "337:\tlearn: 0.3928446\ttest: 0.4027079\tbest: 0.4027079 (337)\ttotal: 55.1s\tremaining: 26.4s\n",
      "338:\tlearn: 0.3926751\ttest: 0.4025154\tbest: 0.4025154 (338)\ttotal: 55.3s\tremaining: 26.3s\n",
      "339:\tlearn: 0.3924146\ttest: 0.4023213\tbest: 0.4023213 (339)\ttotal: 55.5s\tremaining: 26.1s\n",
      "340:\tlearn: 0.3921977\ttest: 0.4021711\tbest: 0.4021711 (340)\ttotal: 55.7s\tremaining: 26s\n",
      "341:\tlearn: 0.3919827\ttest: 0.4020064\tbest: 0.4020064 (341)\ttotal: 55.9s\tremaining: 25.8s\n",
      "342:\tlearn: 0.3918055\ttest: 0.4018741\tbest: 0.4018741 (342)\ttotal: 56.1s\tremaining: 25.7s\n",
      "343:\tlearn: 0.3916533\ttest: 0.4017445\tbest: 0.4017445 (343)\ttotal: 56.4s\tremaining: 25.6s\n",
      "344:\tlearn: 0.3914866\ttest: 0.4016136\tbest: 0.4016136 (344)\ttotal: 56.5s\tremaining: 25.4s\n",
      "345:\tlearn: 0.3913385\ttest: 0.4015000\tbest: 0.4015000 (345)\ttotal: 56.7s\tremaining: 25.3s\n",
      "346:\tlearn: 0.3912179\ttest: 0.4014137\tbest: 0.4014137 (346)\ttotal: 56.9s\tremaining: 25.1s\n",
      "347:\tlearn: 0.3910590\ttest: 0.4012875\tbest: 0.4012875 (347)\ttotal: 57.1s\tremaining: 24.9s\n",
      "348:\tlearn: 0.3908866\ttest: 0.4011121\tbest: 0.4011121 (348)\ttotal: 57.3s\tremaining: 24.8s\n",
      "349:\tlearn: 0.3906741\ttest: 0.4008923\tbest: 0.4008923 (349)\ttotal: 57.5s\tremaining: 24.6s\n",
      "350:\tlearn: 0.3905407\ttest: 0.4008262\tbest: 0.4008262 (350)\ttotal: 57.7s\tremaining: 24.5s\n",
      "351:\tlearn: 0.3903922\ttest: 0.4007736\tbest: 0.4007736 (351)\ttotal: 57.8s\tremaining: 24.3s\n",
      "352:\tlearn: 0.3903391\ttest: 0.4007693\tbest: 0.4007693 (352)\ttotal: 58s\tremaining: 24.1s\n",
      "353:\tlearn: 0.3901857\ttest: 0.4006457\tbest: 0.4006457 (353)\ttotal: 58.2s\tremaining: 24s\n",
      "354:\tlearn: 0.3900635\ttest: 0.4005404\tbest: 0.4005404 (354)\ttotal: 58.3s\tremaining: 23.8s\n",
      "355:\tlearn: 0.3898436\ttest: 0.4003900\tbest: 0.4003900 (355)\ttotal: 58.5s\tremaining: 23.7s\n",
      "356:\tlearn: 0.3897293\ttest: 0.4003270\tbest: 0.4003270 (356)\ttotal: 58.7s\tremaining: 23.5s\n",
      "357:\tlearn: 0.3896166\ttest: 0.4002290\tbest: 0.4002290 (357)\ttotal: 58.8s\tremaining: 23.3s\n",
      "358:\tlearn: 0.3894215\ttest: 0.4000442\tbest: 0.4000442 (358)\ttotal: 59s\tremaining: 23.2s\n",
      "359:\tlearn: 0.3892713\ttest: 0.3999328\tbest: 0.3999328 (359)\ttotal: 59.2s\tremaining: 23s\n",
      "360:\tlearn: 0.3891761\ttest: 0.3998525\tbest: 0.3998525 (360)\ttotal: 59.4s\tremaining: 22.9s\n",
      "361:\tlearn: 0.3890862\ttest: 0.3997978\tbest: 0.3997978 (361)\ttotal: 59.6s\tremaining: 22.7s\n",
      "362:\tlearn: 0.3889299\ttest: 0.3996846\tbest: 0.3996846 (362)\ttotal: 59.7s\tremaining: 22.5s\n",
      "363:\tlearn: 0.3887226\ttest: 0.3994671\tbest: 0.3994671 (363)\ttotal: 59.9s\tremaining: 22.4s\n",
      "364:\tlearn: 0.3886003\ttest: 0.3993862\tbest: 0.3993862 (364)\ttotal: 1m\tremaining: 22.2s\n",
      "365:\tlearn: 0.3884123\ttest: 0.3992199\tbest: 0.3992199 (365)\ttotal: 1m\tremaining: 22.1s\n",
      "366:\tlearn: 0.3882377\ttest: 0.3990921\tbest: 0.3990921 (366)\ttotal: 1m\tremaining: 21.9s\n",
      "367:\tlearn: 0.3881321\ttest: 0.3990761\tbest: 0.3990761 (367)\ttotal: 1m\tremaining: 21.7s\n",
      "368:\tlearn: 0.3879602\ttest: 0.3989513\tbest: 0.3989513 (368)\ttotal: 1m\tremaining: 21.6s\n",
      "369:\tlearn: 0.3878655\ttest: 0.3989445\tbest: 0.3989445 (369)\ttotal: 1m\tremaining: 21.4s\n",
      "370:\tlearn: 0.3877490\ttest: 0.3988713\tbest: 0.3988713 (370)\ttotal: 1m 1s\tremaining: 21.2s\n",
      "371:\tlearn: 0.3876005\ttest: 0.3987463\tbest: 0.3987463 (371)\ttotal: 1m 1s\tremaining: 21.1s\n",
      "372:\tlearn: 0.3874867\ttest: 0.3986578\tbest: 0.3986578 (372)\ttotal: 1m 1s\tremaining: 20.9s\n",
      "373:\tlearn: 0.3873514\ttest: 0.3986046\tbest: 0.3986046 (373)\ttotal: 1m 1s\tremaining: 20.8s\n",
      "374:\tlearn: 0.3871088\ttest: 0.3984481\tbest: 0.3984481 (374)\ttotal: 1m 1s\tremaining: 20.6s\n",
      "375:\tlearn: 0.3869631\ttest: 0.3983083\tbest: 0.3983083 (375)\ttotal: 1m 1s\tremaining: 20.4s\n",
      "376:\tlearn: 0.3867130\ttest: 0.3980497\tbest: 0.3980497 (376)\ttotal: 1m 2s\tremaining: 20.3s\n",
      "377:\tlearn: 0.3865532\ttest: 0.3979352\tbest: 0.3979352 (377)\ttotal: 1m 2s\tremaining: 20.1s\n",
      "378:\tlearn: 0.3863741\ttest: 0.3978291\tbest: 0.3978291 (378)\ttotal: 1m 2s\tremaining: 20s\n",
      "379:\tlearn: 0.3862267\ttest: 0.3977247\tbest: 0.3977247 (379)\ttotal: 1m 2s\tremaining: 19.8s\n",
      "380:\tlearn: 0.3860614\ttest: 0.3976092\tbest: 0.3976092 (380)\ttotal: 1m 2s\tremaining: 19.6s\n",
      "381:\tlearn: 0.3859755\ttest: 0.3975453\tbest: 0.3975453 (381)\ttotal: 1m 2s\tremaining: 19.4s\n",
      "382:\tlearn: 0.3856734\ttest: 0.3973093\tbest: 0.3973093 (382)\ttotal: 1m 3s\tremaining: 19.3s\n",
      "383:\tlearn: 0.3854844\ttest: 0.3971514\tbest: 0.3971514 (383)\ttotal: 1m 3s\tremaining: 19.1s\n",
      "384:\tlearn: 0.3853616\ttest: 0.3971200\tbest: 0.3971200 (384)\ttotal: 1m 3s\tremaining: 18.9s\n",
      "385:\tlearn: 0.3851511\ttest: 0.3969318\tbest: 0.3969318 (385)\ttotal: 1m 3s\tremaining: 18.8s\n",
      "386:\tlearn: 0.3849378\ttest: 0.3967503\tbest: 0.3967503 (386)\ttotal: 1m 3s\tremaining: 18.6s\n",
      "387:\tlearn: 0.3849195\ttest: 0.3967651\tbest: 0.3967503 (386)\ttotal: 1m 3s\tremaining: 18.4s\n",
      "388:\tlearn: 0.3847023\ttest: 0.3966001\tbest: 0.3966001 (388)\ttotal: 1m 3s\tremaining: 18.2s\n",
      "389:\tlearn: 0.3845071\ttest: 0.3963725\tbest: 0.3963725 (389)\ttotal: 1m 4s\tremaining: 18.1s\n",
      "390:\tlearn: 0.3843907\ttest: 0.3962824\tbest: 0.3962824 (390)\ttotal: 1m 4s\tremaining: 17.9s\n",
      "391:\tlearn: 0.3842317\ttest: 0.3961667\tbest: 0.3961667 (391)\ttotal: 1m 4s\tremaining: 17.7s\n",
      "392:\tlearn: 0.3840259\ttest: 0.3959683\tbest: 0.3959683 (392)\ttotal: 1m 4s\tremaining: 17.5s\n",
      "393:\tlearn: 0.3837876\ttest: 0.3957450\tbest: 0.3957450 (393)\ttotal: 1m 4s\tremaining: 17.4s\n",
      "394:\tlearn: 0.3836017\ttest: 0.3956317\tbest: 0.3956317 (394)\ttotal: 1m 4s\tremaining: 17.2s\n",
      "395:\tlearn: 0.3834616\ttest: 0.3955006\tbest: 0.3955006 (395)\ttotal: 1m 5s\tremaining: 17.1s\n",
      "396:\tlearn: 0.3833336\ttest: 0.3954016\tbest: 0.3954016 (396)\ttotal: 1m 5s\tremaining: 16.9s\n",
      "397:\tlearn: 0.3831504\ttest: 0.3952714\tbest: 0.3952714 (397)\ttotal: 1m 5s\tremaining: 16.8s\n",
      "398:\tlearn: 0.3830923\ttest: 0.3952264\tbest: 0.3952264 (398)\ttotal: 1m 5s\tremaining: 16.6s\n",
      "399:\tlearn: 0.3829178\ttest: 0.3951093\tbest: 0.3951093 (399)\ttotal: 1m 5s\tremaining: 16.4s\n",
      "400:\tlearn: 0.3828539\ttest: 0.3950977\tbest: 0.3950977 (400)\ttotal: 1m 5s\tremaining: 16.3s\n",
      "401:\tlearn: 0.3827361\ttest: 0.3950311\tbest: 0.3950311 (401)\ttotal: 1m 5s\tremaining: 16.1s\n",
      "402:\tlearn: 0.3825973\ttest: 0.3949506\tbest: 0.3949506 (402)\ttotal: 1m 6s\tremaining: 15.9s\n",
      "403:\tlearn: 0.3824957\ttest: 0.3948628\tbest: 0.3948628 (403)\ttotal: 1m 6s\tremaining: 15.7s\n",
      "404:\tlearn: 0.3823967\ttest: 0.3948162\tbest: 0.3948162 (404)\ttotal: 1m 6s\tremaining: 15.6s\n",
      "405:\tlearn: 0.3823502\ttest: 0.3947964\tbest: 0.3947964 (405)\ttotal: 1m 6s\tremaining: 15.4s\n",
      "406:\tlearn: 0.3822770\ttest: 0.3947419\tbest: 0.3947419 (406)\ttotal: 1m 6s\tremaining: 15.2s\n",
      "407:\tlearn: 0.3821925\ttest: 0.3947068\tbest: 0.3947068 (407)\ttotal: 1m 6s\tremaining: 15.1s\n",
      "408:\tlearn: 0.3820171\ttest: 0.3946298\tbest: 0.3946298 (408)\ttotal: 1m 6s\tremaining: 14.9s\n",
      "409:\tlearn: 0.3818187\ttest: 0.3944865\tbest: 0.3944865 (409)\ttotal: 1m 7s\tremaining: 14.7s\n",
      "410:\tlearn: 0.3816641\ttest: 0.3943870\tbest: 0.3943870 (410)\ttotal: 1m 7s\tremaining: 14.6s\n",
      "411:\tlearn: 0.3814996\ttest: 0.3942281\tbest: 0.3942281 (411)\ttotal: 1m 7s\tremaining: 14.4s\n",
      "412:\tlearn: 0.3814326\ttest: 0.3942305\tbest: 0.3942281 (411)\ttotal: 1m 7s\tremaining: 14.2s\n",
      "413:\tlearn: 0.3813554\ttest: 0.3941554\tbest: 0.3941554 (413)\ttotal: 1m 7s\tremaining: 14.1s\n",
      "414:\tlearn: 0.3812248\ttest: 0.3940534\tbest: 0.3940534 (414)\ttotal: 1m 7s\tremaining: 13.9s\n",
      "415:\tlearn: 0.3810676\ttest: 0.3939009\tbest: 0.3939009 (415)\ttotal: 1m 8s\tremaining: 13.7s\n",
      "416:\tlearn: 0.3809824\ttest: 0.3938345\tbest: 0.3938345 (416)\ttotal: 1m 8s\tremaining: 13.6s\n",
      "417:\tlearn: 0.3807619\ttest: 0.3936542\tbest: 0.3936542 (417)\ttotal: 1m 8s\tremaining: 13.4s\n",
      "418:\tlearn: 0.3807125\ttest: 0.3936345\tbest: 0.3936345 (418)\ttotal: 1m 8s\tremaining: 13.2s\n",
      "419:\tlearn: 0.3805704\ttest: 0.3935406\tbest: 0.3935406 (419)\ttotal: 1m 8s\tremaining: 13.1s\n",
      "420:\tlearn: 0.3804147\ttest: 0.3934029\tbest: 0.3934029 (420)\ttotal: 1m 8s\tremaining: 12.9s\n",
      "421:\tlearn: 0.3803133\ttest: 0.3933286\tbest: 0.3933286 (421)\ttotal: 1m 8s\tremaining: 12.7s\n",
      "422:\tlearn: 0.3802699\ttest: 0.3933377\tbest: 0.3933286 (421)\ttotal: 1m 8s\tremaining: 12.5s\n",
      "423:\tlearn: 0.3800862\ttest: 0.3932157\tbest: 0.3932157 (423)\ttotal: 1m 9s\tremaining: 12.4s\n",
      "424:\tlearn: 0.3799474\ttest: 0.3930616\tbest: 0.3930616 (424)\ttotal: 1m 9s\tremaining: 12.2s\n",
      "425:\tlearn: 0.3799309\ttest: 0.3930745\tbest: 0.3930616 (424)\ttotal: 1m 9s\tremaining: 12s\n",
      "426:\tlearn: 0.3797766\ttest: 0.3929694\tbest: 0.3929694 (426)\ttotal: 1m 9s\tremaining: 11.9s\n",
      "427:\tlearn: 0.3796004\ttest: 0.3928700\tbest: 0.3928700 (427)\ttotal: 1m 9s\tremaining: 11.7s\n",
      "428:\tlearn: 0.3794056\ttest: 0.3927294\tbest: 0.3927294 (428)\ttotal: 1m 9s\tremaining: 11.5s\n",
      "429:\tlearn: 0.3793432\ttest: 0.3927042\tbest: 0.3927042 (429)\ttotal: 1m 9s\tremaining: 11.4s\n",
      "430:\tlearn: 0.3792302\ttest: 0.3926240\tbest: 0.3926240 (430)\ttotal: 1m 10s\tremaining: 11.2s\n",
      "431:\tlearn: 0.3789118\ttest: 0.3923402\tbest: 0.3923402 (431)\ttotal: 1m 10s\tremaining: 11.1s\n",
      "432:\tlearn: 0.3787963\ttest: 0.3922200\tbest: 0.3922200 (432)\ttotal: 1m 10s\tremaining: 10.9s\n",
      "433:\tlearn: 0.3786608\ttest: 0.3920828\tbest: 0.3920828 (433)\ttotal: 1m 10s\tremaining: 10.7s\n",
      "434:\tlearn: 0.3785377\ttest: 0.3919778\tbest: 0.3919778 (434)\ttotal: 1m 10s\tremaining: 10.6s\n",
      "435:\tlearn: 0.3783752\ttest: 0.3918502\tbest: 0.3918502 (435)\ttotal: 1m 10s\tremaining: 10.4s\n",
      "436:\tlearn: 0.3782376\ttest: 0.3917737\tbest: 0.3917737 (436)\ttotal: 1m 10s\tremaining: 10.2s\n",
      "437:\tlearn: 0.3780264\ttest: 0.3915938\tbest: 0.3915938 (437)\ttotal: 1m 11s\tremaining: 10.1s\n",
      "438:\tlearn: 0.3778812\ttest: 0.3914805\tbest: 0.3914805 (438)\ttotal: 1m 11s\tremaining: 9.9s\n",
      "439:\tlearn: 0.3777451\ttest: 0.3914121\tbest: 0.3914121 (439)\ttotal: 1m 11s\tremaining: 9.74s\n",
      "440:\tlearn: 0.3775091\ttest: 0.3911709\tbest: 0.3911709 (440)\ttotal: 1m 11s\tremaining: 9.57s\n",
      "441:\tlearn: 0.3773494\ttest: 0.3910871\tbest: 0.3910871 (441)\ttotal: 1m 11s\tremaining: 9.42s\n",
      "442:\tlearn: 0.3772683\ttest: 0.3910782\tbest: 0.3910782 (442)\ttotal: 1m 11s\tremaining: 9.25s\n",
      "443:\tlearn: 0.3771202\ttest: 0.3909489\tbest: 0.3909489 (443)\ttotal: 1m 12s\tremaining: 9.09s\n",
      "444:\tlearn: 0.3769355\ttest: 0.3907932\tbest: 0.3907932 (444)\ttotal: 1m 12s\tremaining: 8.94s\n",
      "445:\tlearn: 0.3767145\ttest: 0.3906327\tbest: 0.3906327 (445)\ttotal: 1m 12s\tremaining: 8.79s\n",
      "446:\tlearn: 0.3765528\ttest: 0.3905337\tbest: 0.3905337 (446)\ttotal: 1m 12s\tremaining: 8.62s\n",
      "447:\tlearn: 0.3764468\ttest: 0.3904689\tbest: 0.3904689 (447)\ttotal: 1m 12s\tremaining: 8.46s\n",
      "448:\tlearn: 0.3763668\ttest: 0.3904171\tbest: 0.3904171 (448)\ttotal: 1m 13s\tremaining: 8.29s\n",
      "449:\tlearn: 0.3762523\ttest: 0.3903508\tbest: 0.3903508 (449)\ttotal: 1m 13s\tremaining: 8.13s\n",
      "450:\tlearn: 0.3761677\ttest: 0.3903188\tbest: 0.3903188 (450)\ttotal: 1m 13s\tremaining: 7.96s\n",
      "451:\tlearn: 0.3759745\ttest: 0.3901759\tbest: 0.3901759 (451)\ttotal: 1m 13s\tremaining: 7.8s\n",
      "452:\tlearn: 0.3757454\ttest: 0.3899464\tbest: 0.3899464 (452)\ttotal: 1m 13s\tremaining: 7.64s\n",
      "453:\tlearn: 0.3756544\ttest: 0.3899207\tbest: 0.3899207 (453)\ttotal: 1m 13s\tremaining: 7.48s\n",
      "454:\tlearn: 0.3755919\ttest: 0.3899030\tbest: 0.3899030 (454)\ttotal: 1m 13s\tremaining: 7.31s\n",
      "455:\tlearn: 0.3754939\ttest: 0.3898606\tbest: 0.3898606 (455)\ttotal: 1m 14s\tremaining: 7.14s\n",
      "456:\tlearn: 0.3753769\ttest: 0.3897922\tbest: 0.3897922 (456)\ttotal: 1m 14s\tremaining: 6.98s\n",
      "457:\tlearn: 0.3752774\ttest: 0.3897234\tbest: 0.3897234 (457)\ttotal: 1m 14s\tremaining: 6.82s\n",
      "458:\tlearn: 0.3751760\ttest: 0.3896388\tbest: 0.3896388 (458)\ttotal: 1m 14s\tremaining: 6.66s\n",
      "459:\tlearn: 0.3749803\ttest: 0.3895382\tbest: 0.3895382 (459)\ttotal: 1m 14s\tremaining: 6.5s\n",
      "460:\tlearn: 0.3746782\ttest: 0.3893408\tbest: 0.3893408 (460)\ttotal: 1m 14s\tremaining: 6.34s\n",
      "461:\tlearn: 0.3745011\ttest: 0.3892443\tbest: 0.3892443 (461)\ttotal: 1m 15s\tremaining: 6.17s\n",
      "462:\tlearn: 0.3741654\ttest: 0.3888397\tbest: 0.3888397 (462)\ttotal: 1m 15s\tremaining: 6.01s\n",
      "463:\tlearn: 0.3739729\ttest: 0.3886794\tbest: 0.3886794 (463)\ttotal: 1m 15s\tremaining: 5.85s\n",
      "464:\tlearn: 0.3738382\ttest: 0.3886017\tbest: 0.3886017 (464)\ttotal: 1m 15s\tremaining: 5.69s\n",
      "465:\tlearn: 0.3736999\ttest: 0.3884853\tbest: 0.3884853 (465)\ttotal: 1m 15s\tremaining: 5.53s\n",
      "466:\tlearn: 0.3735647\ttest: 0.3883363\tbest: 0.3883363 (466)\ttotal: 1m 15s\tremaining: 5.36s\n",
      "467:\tlearn: 0.3734330\ttest: 0.3882574\tbest: 0.3882574 (467)\ttotal: 1m 16s\tremaining: 5.2s\n",
      "468:\tlearn: 0.3732957\ttest: 0.3881343\tbest: 0.3881343 (468)\ttotal: 1m 16s\tremaining: 5.03s\n",
      "469:\tlearn: 0.3731532\ttest: 0.3880278\tbest: 0.3880278 (469)\ttotal: 1m 16s\tremaining: 4.87s\n",
      "470:\tlearn: 0.3731108\ttest: 0.3880066\tbest: 0.3880066 (470)\ttotal: 1m 16s\tremaining: 4.7s\n",
      "471:\tlearn: 0.3730102\ttest: 0.3879419\tbest: 0.3879419 (471)\ttotal: 1m 16s\tremaining: 4.54s\n",
      "472:\tlearn: 0.3728763\ttest: 0.3878243\tbest: 0.3878243 (472)\ttotal: 1m 16s\tremaining: 4.38s\n",
      "473:\tlearn: 0.3727475\ttest: 0.3877905\tbest: 0.3877905 (473)\ttotal: 1m 16s\tremaining: 4.21s\n",
      "474:\tlearn: 0.3726015\ttest: 0.3876571\tbest: 0.3876571 (474)\ttotal: 1m 16s\tremaining: 4.05s\n",
      "475:\tlearn: 0.3724778\ttest: 0.3875999\tbest: 0.3875999 (475)\ttotal: 1m 17s\tremaining: 3.89s\n",
      "476:\tlearn: 0.3722897\ttest: 0.3874381\tbest: 0.3874381 (476)\ttotal: 1m 17s\tremaining: 3.72s\n",
      "477:\tlearn: 0.3722321\ttest: 0.3873957\tbest: 0.3873957 (477)\ttotal: 1m 17s\tremaining: 3.56s\n",
      "478:\tlearn: 0.3721665\ttest: 0.3873605\tbest: 0.3873605 (478)\ttotal: 1m 17s\tremaining: 3.4s\n",
      "479:\tlearn: 0.3720266\ttest: 0.3872843\tbest: 0.3872843 (479)\ttotal: 1m 17s\tremaining: 3.24s\n",
      "480:\tlearn: 0.3719141\ttest: 0.3871899\tbest: 0.3871899 (480)\ttotal: 1m 18s\tremaining: 3.08s\n",
      "481:\tlearn: 0.3718186\ttest: 0.3871328\tbest: 0.3871328 (481)\ttotal: 1m 18s\tremaining: 2.92s\n",
      "482:\tlearn: 0.3717436\ttest: 0.3870983\tbest: 0.3870983 (482)\ttotal: 1m 18s\tremaining: 2.76s\n",
      "483:\tlearn: 0.3716808\ttest: 0.3870880\tbest: 0.3870880 (483)\ttotal: 1m 18s\tremaining: 2.6s\n",
      "484:\tlearn: 0.3716000\ttest: 0.3870723\tbest: 0.3870723 (484)\ttotal: 1m 18s\tremaining: 2.44s\n",
      "485:\tlearn: 0.3714878\ttest: 0.3870397\tbest: 0.3870397 (485)\ttotal: 1m 19s\tremaining: 2.28s\n",
      "486:\tlearn: 0.3713933\ttest: 0.3870115\tbest: 0.3870115 (486)\ttotal: 1m 19s\tremaining: 2.12s\n",
      "487:\tlearn: 0.3711890\ttest: 0.3868717\tbest: 0.3868717 (487)\ttotal: 1m 19s\tremaining: 1.95s\n",
      "488:\tlearn: 0.3711356\ttest: 0.3868526\tbest: 0.3868526 (488)\ttotal: 1m 19s\tremaining: 1.79s\n",
      "489:\tlearn: 0.3709329\ttest: 0.3866259\tbest: 0.3866259 (489)\ttotal: 1m 19s\tremaining: 1.63s\n",
      "490:\tlearn: 0.3707866\ttest: 0.3865121\tbest: 0.3865121 (490)\ttotal: 1m 20s\tremaining: 1.47s\n",
      "491:\tlearn: 0.3706969\ttest: 0.3864739\tbest: 0.3864739 (491)\ttotal: 1m 20s\tremaining: 1.3s\n",
      "492:\tlearn: 0.3705253\ttest: 0.3863338\tbest: 0.3863338 (492)\ttotal: 1m 20s\tremaining: 1.14s\n",
      "493:\tlearn: 0.3704168\ttest: 0.3862178\tbest: 0.3862178 (493)\ttotal: 1m 20s\tremaining: 981ms\n",
      "494:\tlearn: 0.3703246\ttest: 0.3861439\tbest: 0.3861439 (494)\ttotal: 1m 21s\tremaining: 819ms\n",
      "495:\tlearn: 0.3701158\ttest: 0.3859918\tbest: 0.3859918 (495)\ttotal: 1m 21s\tremaining: 656ms\n",
      "496:\tlearn: 0.3699918\ttest: 0.3859524\tbest: 0.3859524 (496)\ttotal: 1m 21s\tremaining: 493ms\n",
      "497:\tlearn: 0.3697799\ttest: 0.3857576\tbest: 0.3857576 (497)\ttotal: 1m 21s\tremaining: 329ms\n",
      "498:\tlearn: 0.3695429\ttest: 0.3855978\tbest: 0.3855978 (498)\ttotal: 1m 22s\tremaining: 165ms\n",
      "499:\tlearn: 0.3694437\ttest: 0.3855311\tbest: 0.3855311 (499)\ttotal: 1m 22s\tremaining: 0us\n",
      "\n",
      "bestTest = 0.3855311316\n",
      "bestIteration = 499\n",
      "\n"
     ]
    },
    {
     "data": {
      "text/plain": [
       "<catboost.core.CatBoostClassifier at 0x7fbdca2d5640>"
      ]
     },
     "execution_count": 26,
     "metadata": {},
     "output_type": "execute_result"
    }
   ],
   "source": [
    "cat_fit = cat.CatBoostClassifier(iterations=500, depth=3, od_type=\"Iter\", od_wait=50)\n",
    "cat_fit.fit(X_train, y_train, eval_set=(X_test, y_test))"
   ]
  },
  {
   "cell_type": "code",
   "execution_count": 27,
   "id": "dee17cb9",
   "metadata": {},
   "outputs": [],
   "source": [
    "y_pred = cat_fit.predict(X_test)"
   ]
  },
  {
   "cell_type": "code",
   "execution_count": 28,
   "id": "8706b87d",
   "metadata": {},
   "outputs": [
    {
     "data": {
      "text/plain": [
       "0.8262196432409198"
      ]
     },
     "execution_count": 28,
     "metadata": {},
     "output_type": "execute_result"
    }
   ],
   "source": [
    "accuracy_score(y_test, y_pred)"
   ]
  },
  {
   "cell_type": "code",
   "execution_count": 29,
   "id": "84a0f6b5",
   "metadata": {},
   "outputs": [
    {
     "name": "stdout",
     "output_type": "stream",
     "text": [
      "Model F1: [0.89 0.61]\n",
      "Model Precision: [0.84 0.76]\n",
      "Model Recall: [0.94 0.51]\n"
     ]
    }
   ],
   "source": [
    "evaluate_model(y_test, y_pred)"
   ]
  },
  {
   "cell_type": "markdown",
   "id": "a8781372",
   "metadata": {},
   "source": [
    "### KNN"
   ]
  },
  {
   "cell_type": "code",
   "execution_count": 30,
   "id": "cece67a5",
   "metadata": {},
   "outputs": [
    {
     "data": {
      "text/html": [
       "<style>#sk-container-id-2 {color: black;background-color: white;}#sk-container-id-2 pre{padding: 0;}#sk-container-id-2 div.sk-toggleable {background-color: white;}#sk-container-id-2 label.sk-toggleable__label {cursor: pointer;display: block;width: 100%;margin-bottom: 0;padding: 0.3em;box-sizing: border-box;text-align: center;}#sk-container-id-2 label.sk-toggleable__label-arrow:before {content: \"▸\";float: left;margin-right: 0.25em;color: #696969;}#sk-container-id-2 label.sk-toggleable__label-arrow:hover:before {color: black;}#sk-container-id-2 div.sk-estimator:hover label.sk-toggleable__label-arrow:before {color: black;}#sk-container-id-2 div.sk-toggleable__content {max-height: 0;max-width: 0;overflow: hidden;text-align: left;background-color: #f0f8ff;}#sk-container-id-2 div.sk-toggleable__content pre {margin: 0.2em;color: black;border-radius: 0.25em;background-color: #f0f8ff;}#sk-container-id-2 input.sk-toggleable__control:checked~div.sk-toggleable__content {max-height: 200px;max-width: 100%;overflow: auto;}#sk-container-id-2 input.sk-toggleable__control:checked~label.sk-toggleable__label-arrow:before {content: \"▾\";}#sk-container-id-2 div.sk-estimator input.sk-toggleable__control:checked~label.sk-toggleable__label {background-color: #d4ebff;}#sk-container-id-2 div.sk-label input.sk-toggleable__control:checked~label.sk-toggleable__label {background-color: #d4ebff;}#sk-container-id-2 input.sk-hidden--visually {border: 0;clip: rect(1px 1px 1px 1px);clip: rect(1px, 1px, 1px, 1px);height: 1px;margin: -1px;overflow: hidden;padding: 0;position: absolute;width: 1px;}#sk-container-id-2 div.sk-estimator {font-family: monospace;background-color: #f0f8ff;border: 1px dotted black;border-radius: 0.25em;box-sizing: border-box;margin-bottom: 0.5em;}#sk-container-id-2 div.sk-estimator:hover {background-color: #d4ebff;}#sk-container-id-2 div.sk-parallel-item::after {content: \"\";width: 100%;border-bottom: 1px solid gray;flex-grow: 1;}#sk-container-id-2 div.sk-label:hover label.sk-toggleable__label {background-color: #d4ebff;}#sk-container-id-2 div.sk-serial::before {content: \"\";position: absolute;border-left: 1px solid gray;box-sizing: border-box;top: 0;bottom: 0;left: 50%;z-index: 0;}#sk-container-id-2 div.sk-serial {display: flex;flex-direction: column;align-items: center;background-color: white;padding-right: 0.2em;padding-left: 0.2em;position: relative;}#sk-container-id-2 div.sk-item {position: relative;z-index: 1;}#sk-container-id-2 div.sk-parallel {display: flex;align-items: stretch;justify-content: center;background-color: white;position: relative;}#sk-container-id-2 div.sk-item::before, #sk-container-id-2 div.sk-parallel-item::before {content: \"\";position: absolute;border-left: 1px solid gray;box-sizing: border-box;top: 0;bottom: 0;left: 50%;z-index: -1;}#sk-container-id-2 div.sk-parallel-item {display: flex;flex-direction: column;z-index: 1;position: relative;background-color: white;}#sk-container-id-2 div.sk-parallel-item:first-child::after {align-self: flex-end;width: 50%;}#sk-container-id-2 div.sk-parallel-item:last-child::after {align-self: flex-start;width: 50%;}#sk-container-id-2 div.sk-parallel-item:only-child::after {width: 0;}#sk-container-id-2 div.sk-dashed-wrapped {border: 1px dashed gray;margin: 0 0.4em 0.5em 0.4em;box-sizing: border-box;padding-bottom: 0.4em;background-color: white;}#sk-container-id-2 div.sk-label label {font-family: monospace;font-weight: bold;display: inline-block;line-height: 1.2em;}#sk-container-id-2 div.sk-label-container {text-align: center;}#sk-container-id-2 div.sk-container {/* jupyter's `normalize.less` sets `[hidden] { display: none; }` but bootstrap.min.css set `[hidden] { display: none !important; }` so we also need the `!important` here to be able to override the default hidden behavior on the sphinx rendered scikit-learn.org. See: https://github.com/scikit-learn/scikit-learn/issues/21755 */display: inline-block !important;position: relative;}#sk-container-id-2 div.sk-text-repr-fallback {display: none;}</style><div id=\"sk-container-id-2\" class=\"sk-top-container\"><div class=\"sk-text-repr-fallback\"><pre>KNeighborsClassifier()</pre><b>In a Jupyter environment, please rerun this cell to show the HTML representation or trust the notebook. <br />On GitHub, the HTML representation is unable to render, please try loading this page with nbviewer.org.</b></div><div class=\"sk-container\" hidden><div class=\"sk-item\"><div class=\"sk-estimator sk-toggleable\"><input class=\"sk-toggleable__control sk-hidden--visually\" id=\"sk-estimator-id-2\" type=\"checkbox\" checked><label for=\"sk-estimator-id-2\" class=\"sk-toggleable__label sk-toggleable__label-arrow\">KNeighborsClassifier</label><div class=\"sk-toggleable__content\"><pre>KNeighborsClassifier()</pre></div></div></div></div></div>"
      ],
      "text/plain": [
       "KNeighborsClassifier()"
      ]
     },
     "execution_count": 30,
     "metadata": {},
     "output_type": "execute_result"
    }
   ],
   "source": [
    "knn_fit = KNeighborsClassifier(n_neighbors=5)\n",
    "knn_fit.fit(X_train, y_train)"
   ]
  },
  {
   "cell_type": "code",
   "execution_count": 31,
   "id": "fdb3f727",
   "metadata": {},
   "outputs": [],
   "source": [
    "y_pred = knn_fit.predict(X_test)"
   ]
  },
  {
   "cell_type": "code",
   "execution_count": 32,
   "id": "73739182",
   "metadata": {},
   "outputs": [
    {
     "data": {
      "text/plain": [
       "0.8562647754137116"
      ]
     },
     "execution_count": 32,
     "metadata": {},
     "output_type": "execute_result"
    }
   ],
   "source": [
    "accuracy_score(y_test, y_pred)"
   ]
  },
  {
   "cell_type": "code",
   "execution_count": 33,
   "id": "cacff77f",
   "metadata": {},
   "outputs": [
    {
     "name": "stdout",
     "output_type": "stream",
     "text": [
      "Model F1: [0.9  0.72]\n",
      "Model Precision: [0.89 0.76]\n",
      "Model Recall: [0.92 0.68]\n"
     ]
    }
   ],
   "source": [
    "evaluate_model(y_test, y_pred)"
   ]
  },
  {
   "cell_type": "markdown",
   "id": "19b797ab",
   "metadata": {},
   "source": [
    "### Random Forest"
   ]
  },
  {
   "cell_type": "code",
   "execution_count": 34,
   "id": "4b67fdff",
   "metadata": {},
   "outputs": [
    {
     "data": {
      "text/html": [
       "<style>#sk-container-id-3 {color: black;background-color: white;}#sk-container-id-3 pre{padding: 0;}#sk-container-id-3 div.sk-toggleable {background-color: white;}#sk-container-id-3 label.sk-toggleable__label {cursor: pointer;display: block;width: 100%;margin-bottom: 0;padding: 0.3em;box-sizing: border-box;text-align: center;}#sk-container-id-3 label.sk-toggleable__label-arrow:before {content: \"▸\";float: left;margin-right: 0.25em;color: #696969;}#sk-container-id-3 label.sk-toggleable__label-arrow:hover:before {color: black;}#sk-container-id-3 div.sk-estimator:hover label.sk-toggleable__label-arrow:before {color: black;}#sk-container-id-3 div.sk-toggleable__content {max-height: 0;max-width: 0;overflow: hidden;text-align: left;background-color: #f0f8ff;}#sk-container-id-3 div.sk-toggleable__content pre {margin: 0.2em;color: black;border-radius: 0.25em;background-color: #f0f8ff;}#sk-container-id-3 input.sk-toggleable__control:checked~div.sk-toggleable__content {max-height: 200px;max-width: 100%;overflow: auto;}#sk-container-id-3 input.sk-toggleable__control:checked~label.sk-toggleable__label-arrow:before {content: \"▾\";}#sk-container-id-3 div.sk-estimator input.sk-toggleable__control:checked~label.sk-toggleable__label {background-color: #d4ebff;}#sk-container-id-3 div.sk-label input.sk-toggleable__control:checked~label.sk-toggleable__label {background-color: #d4ebff;}#sk-container-id-3 input.sk-hidden--visually {border: 0;clip: rect(1px 1px 1px 1px);clip: rect(1px, 1px, 1px, 1px);height: 1px;margin: -1px;overflow: hidden;padding: 0;position: absolute;width: 1px;}#sk-container-id-3 div.sk-estimator {font-family: monospace;background-color: #f0f8ff;border: 1px dotted black;border-radius: 0.25em;box-sizing: border-box;margin-bottom: 0.5em;}#sk-container-id-3 div.sk-estimator:hover {background-color: #d4ebff;}#sk-container-id-3 div.sk-parallel-item::after {content: \"\";width: 100%;border-bottom: 1px solid gray;flex-grow: 1;}#sk-container-id-3 div.sk-label:hover label.sk-toggleable__label {background-color: #d4ebff;}#sk-container-id-3 div.sk-serial::before {content: \"\";position: absolute;border-left: 1px solid gray;box-sizing: border-box;top: 0;bottom: 0;left: 50%;z-index: 0;}#sk-container-id-3 div.sk-serial {display: flex;flex-direction: column;align-items: center;background-color: white;padding-right: 0.2em;padding-left: 0.2em;position: relative;}#sk-container-id-3 div.sk-item {position: relative;z-index: 1;}#sk-container-id-3 div.sk-parallel {display: flex;align-items: stretch;justify-content: center;background-color: white;position: relative;}#sk-container-id-3 div.sk-item::before, #sk-container-id-3 div.sk-parallel-item::before {content: \"\";position: absolute;border-left: 1px solid gray;box-sizing: border-box;top: 0;bottom: 0;left: 50%;z-index: -1;}#sk-container-id-3 div.sk-parallel-item {display: flex;flex-direction: column;z-index: 1;position: relative;background-color: white;}#sk-container-id-3 div.sk-parallel-item:first-child::after {align-self: flex-end;width: 50%;}#sk-container-id-3 div.sk-parallel-item:last-child::after {align-self: flex-start;width: 50%;}#sk-container-id-3 div.sk-parallel-item:only-child::after {width: 0;}#sk-container-id-3 div.sk-dashed-wrapped {border: 1px dashed gray;margin: 0 0.4em 0.5em 0.4em;box-sizing: border-box;padding-bottom: 0.4em;background-color: white;}#sk-container-id-3 div.sk-label label {font-family: monospace;font-weight: bold;display: inline-block;line-height: 1.2em;}#sk-container-id-3 div.sk-label-container {text-align: center;}#sk-container-id-3 div.sk-container {/* jupyter's `normalize.less` sets `[hidden] { display: none; }` but bootstrap.min.css set `[hidden] { display: none !important; }` so we also need the `!important` here to be able to override the default hidden behavior on the sphinx rendered scikit-learn.org. See: https://github.com/scikit-learn/scikit-learn/issues/21755 */display: inline-block !important;position: relative;}#sk-container-id-3 div.sk-text-repr-fallback {display: none;}</style><div id=\"sk-container-id-3\" class=\"sk-top-container\"><div class=\"sk-text-repr-fallback\"><pre>RandomForestClassifier()</pre><b>In a Jupyter environment, please rerun this cell to show the HTML representation or trust the notebook. <br />On GitHub, the HTML representation is unable to render, please try loading this page with nbviewer.org.</b></div><div class=\"sk-container\" hidden><div class=\"sk-item\"><div class=\"sk-estimator sk-toggleable\"><input class=\"sk-toggleable__control sk-hidden--visually\" id=\"sk-estimator-id-3\" type=\"checkbox\" checked><label for=\"sk-estimator-id-3\" class=\"sk-toggleable__label sk-toggleable__label-arrow\">RandomForestClassifier</label><div class=\"sk-toggleable__content\"><pre>RandomForestClassifier()</pre></div></div></div></div></div>"
      ],
      "text/plain": [
       "RandomForestClassifier()"
      ]
     },
     "execution_count": 34,
     "metadata": {},
     "output_type": "execute_result"
    }
   ],
   "source": [
    "random_f = RandomForestClassifier()\n",
    "random_f.fit(X_train, y_train)"
   ]
  },
  {
   "cell_type": "code",
   "execution_count": 35,
   "id": "ca14de5c",
   "metadata": {},
   "outputs": [],
   "source": [
    "y_pred = random_f.predict(X_test)"
   ]
  },
  {
   "cell_type": "code",
   "execution_count": 36,
   "id": "b0f8af19",
   "metadata": {},
   "outputs": [],
   "source": [
    "classification = pd.DataFrame(y_test)\n",
    "classification['Predictions'] = y_pred"
   ]
  },
  {
   "cell_type": "code",
   "execution_count": 37,
   "id": "7b1a0f74",
   "metadata": {},
   "outputs": [
    {
     "data": {
      "text/html": [
       "<div>\n",
       "<style scoped>\n",
       "    .dataframe tbody tr th:only-of-type {\n",
       "        vertical-align: middle;\n",
       "    }\n",
       "\n",
       "    .dataframe tbody tr th {\n",
       "        vertical-align: top;\n",
       "    }\n",
       "\n",
       "    .dataframe thead th {\n",
       "        text-align: right;\n",
       "    }\n",
       "</style>\n",
       "<table border=\"1\" class=\"dataframe\">\n",
       "  <thead>\n",
       "    <tr style=\"text-align: right;\">\n",
       "      <th></th>\n",
       "      <th>is_uppercase</th>\n",
       "      <th>Predictions</th>\n",
       "    </tr>\n",
       "  </thead>\n",
       "  <tbody>\n",
       "    <tr>\n",
       "      <th>15790</th>\n",
       "      <td>0</td>\n",
       "      <td>1</td>\n",
       "    </tr>\n",
       "    <tr>\n",
       "      <th>94811</th>\n",
       "      <td>0</td>\n",
       "      <td>0</td>\n",
       "    </tr>\n",
       "    <tr>\n",
       "      <th>102587</th>\n",
       "      <td>1</td>\n",
       "      <td>1</td>\n",
       "    </tr>\n",
       "    <tr>\n",
       "      <th>20204</th>\n",
       "      <td>1</td>\n",
       "      <td>0</td>\n",
       "    </tr>\n",
       "    <tr>\n",
       "      <th>67102</th>\n",
       "      <td>0</td>\n",
       "      <td>0</td>\n",
       "    </tr>\n",
       "    <tr>\n",
       "      <th>25915</th>\n",
       "      <td>0</td>\n",
       "      <td>0</td>\n",
       "    </tr>\n",
       "    <tr>\n",
       "      <th>52376</th>\n",
       "      <td>0</td>\n",
       "      <td>0</td>\n",
       "    </tr>\n",
       "    <tr>\n",
       "      <th>78957</th>\n",
       "      <td>0</td>\n",
       "      <td>0</td>\n",
       "    </tr>\n",
       "    <tr>\n",
       "      <th>40500</th>\n",
       "      <td>0</td>\n",
       "      <td>0</td>\n",
       "    </tr>\n",
       "    <tr>\n",
       "      <th>111181</th>\n",
       "      <td>1</td>\n",
       "      <td>1</td>\n",
       "    </tr>\n",
       "  </tbody>\n",
       "</table>\n",
       "</div>"
      ],
      "text/plain": [
       "        is_uppercase  Predictions\n",
       "15790              0            1\n",
       "94811              0            0\n",
       "102587             1            1\n",
       "20204              1            0\n",
       "67102              0            0\n",
       "25915              0            0\n",
       "52376              0            0\n",
       "78957              0            0\n",
       "40500              0            0\n",
       "111181             1            1"
      ]
     },
     "execution_count": 37,
     "metadata": {},
     "output_type": "execute_result"
    }
   ],
   "source": [
    "classification[:10]"
   ]
  },
  {
   "cell_type": "code",
   "execution_count": 38,
   "id": "eb8b8e65",
   "metadata": {},
   "outputs": [
    {
     "data": {
      "text/plain": [
       "0.8527401676337847"
      ]
     },
     "execution_count": 38,
     "metadata": {},
     "output_type": "execute_result"
    }
   ],
   "source": [
    "accuracy_score(y_test, y_pred)"
   ]
  },
  {
   "cell_type": "code",
   "execution_count": 39,
   "id": "1d794dd1",
   "metadata": {},
   "outputs": [
    {
     "name": "stdout",
     "output_type": "stream",
     "text": [
      "Model F1: [0.9  0.68]\n",
      "Model Precision: [0.86 0.82]\n",
      "Model Recall: [0.95 0.58]\n"
     ]
    }
   ],
   "source": [
    "evaluate_model(y_test, y_pred)"
   ]
  },
  {
   "cell_type": "code",
   "execution_count": 40,
   "id": "c5a16ac5",
   "metadata": {},
   "outputs": [
    {
     "data": {
      "image/png": "[encoded data removed]",
      "text/plain": [
       "<Figure size 1080x576 with 2 Axes>"
      ]
     },
     "metadata": {
      "needs_background": "light"
     },
     "output_type": "display_data"
    }
   ],
   "source": [
    "conf_mat = confusion_matrix(y_test, y_pred,  normalize = 'all')\n",
    "fig, ax = plt.subplots(figsize = (15, 8))\n",
    "ConfusionMatrixDisplay(confusion_matrix=conf_mat).plot(ax=ax);"
   ]
  },
  {
   "cell_type": "markdown",
   "id": "310c5536",
   "metadata": {},
   "source": [
    "Try to do the same thing with lowercases."
   ]
  },
  {
   "cell_type": "code",
   "execution_count": 41,
   "id": "1a1496dc",
   "metadata": {},
   "outputs": [],
   "source": [
    "X_lower = new_data.drop(['is_number', 'is_uppercase', 'is_lowercase'], axis=1)\n",
    "y_lower = new_data['is_lowercase']"
   ]
  },
  {
   "cell_type": "code",
   "execution_count": 42,
   "id": "1061d835",
   "metadata": {},
   "outputs": [],
   "source": [
    "X_train_low, X_test_low, y_train_low, y_test_low = train_test_split(X_lower, y_lower, test_size=0.20, \n",
    "                                                                    random_state=42)"
   ]
  },
  {
   "cell_type": "markdown",
   "id": "94a2dbe4",
   "metadata": {},
   "source": [
    "### Random Forest"
   ]
  },
  {
   "cell_type": "code",
   "execution_count": 43,
   "id": "7bb3df20",
   "metadata": {},
   "outputs": [
    {
     "data": {
      "text/html": [
       "<style>#sk-container-id-4 {color: black;background-color: white;}#sk-container-id-4 pre{padding: 0;}#sk-container-id-4 div.sk-toggleable {background-color: white;}#sk-container-id-4 label.sk-toggleable__label {cursor: pointer;display: block;width: 100%;margin-bottom: 0;padding: 0.3em;box-sizing: border-box;text-align: center;}#sk-container-id-4 label.sk-toggleable__label-arrow:before {content: \"▸\";float: left;margin-right: 0.25em;color: #696969;}#sk-container-id-4 label.sk-toggleable__label-arrow:hover:before {color: black;}#sk-container-id-4 div.sk-estimator:hover label.sk-toggleable__label-arrow:before {color: black;}#sk-container-id-4 div.sk-toggleable__content {max-height: 0;max-width: 0;overflow: hidden;text-align: left;background-color: #f0f8ff;}#sk-container-id-4 div.sk-toggleable__content pre {margin: 0.2em;color: black;border-radius: 0.25em;background-color: #f0f8ff;}#sk-container-id-4 input.sk-toggleable__control:checked~div.sk-toggleable__content {max-height: 200px;max-width: 100%;overflow: auto;}#sk-container-id-4 input.sk-toggleable__control:checked~label.sk-toggleable__label-arrow:before {content: \"▾\";}#sk-container-id-4 div.sk-estimator input.sk-toggleable__control:checked~label.sk-toggleable__label {background-color: #d4ebff;}#sk-container-id-4 div.sk-label input.sk-toggleable__control:checked~label.sk-toggleable__label {background-color: #d4ebff;}#sk-container-id-4 input.sk-hidden--visually {border: 0;clip: rect(1px 1px 1px 1px);clip: rect(1px, 1px, 1px, 1px);height: 1px;margin: -1px;overflow: hidden;padding: 0;position: absolute;width: 1px;}#sk-container-id-4 div.sk-estimator {font-family: monospace;background-color: #f0f8ff;border: 1px dotted black;border-radius: 0.25em;box-sizing: border-box;margin-bottom: 0.5em;}#sk-container-id-4 div.sk-estimator:hover {background-color: #d4ebff;}#sk-container-id-4 div.sk-parallel-item::after {content: \"\";width: 100%;border-bottom: 1px solid gray;flex-grow: 1;}#sk-container-id-4 div.sk-label:hover label.sk-toggleable__label {background-color: #d4ebff;}#sk-container-id-4 div.sk-serial::before {content: \"\";position: absolute;border-left: 1px solid gray;box-sizing: border-box;top: 0;bottom: 0;left: 50%;z-index: 0;}#sk-container-id-4 div.sk-serial {display: flex;flex-direction: column;align-items: center;background-color: white;padding-right: 0.2em;padding-left: 0.2em;position: relative;}#sk-container-id-4 div.sk-item {position: relative;z-index: 1;}#sk-container-id-4 div.sk-parallel {display: flex;align-items: stretch;justify-content: center;background-color: white;position: relative;}#sk-container-id-4 div.sk-item::before, #sk-container-id-4 div.sk-parallel-item::before {content: \"\";position: absolute;border-left: 1px solid gray;box-sizing: border-box;top: 0;bottom: 0;left: 50%;z-index: -1;}#sk-container-id-4 div.sk-parallel-item {display: flex;flex-direction: column;z-index: 1;position: relative;background-color: white;}#sk-container-id-4 div.sk-parallel-item:first-child::after {align-self: flex-end;width: 50%;}#sk-container-id-4 div.sk-parallel-item:last-child::after {align-self: flex-start;width: 50%;}#sk-container-id-4 div.sk-parallel-item:only-child::after {width: 0;}#sk-container-id-4 div.sk-dashed-wrapped {border: 1px dashed gray;margin: 0 0.4em 0.5em 0.4em;box-sizing: border-box;padding-bottom: 0.4em;background-color: white;}#sk-container-id-4 div.sk-label label {font-family: monospace;font-weight: bold;display: inline-block;line-height: 1.2em;}#sk-container-id-4 div.sk-label-container {text-align: center;}#sk-container-id-4 div.sk-container {/* jupyter's `normalize.less` sets `[hidden] { display: none; }` but bootstrap.min.css set `[hidden] { display: none !important; }` so we also need the `!important` here to be able to override the default hidden behavior on the sphinx rendered scikit-learn.org. See: https://github.com/scikit-learn/scikit-learn/issues/21755 */display: inline-block !important;position: relative;}#sk-container-id-4 div.sk-text-repr-fallback {display: none;}</style><div id=\"sk-container-id-4\" class=\"sk-top-container\"><div class=\"sk-text-repr-fallback\"><pre>RandomForestClassifier()</pre><b>In a Jupyter environment, please rerun this cell to show the HTML representation or trust the notebook. <br />On GitHub, the HTML representation is unable to render, please try loading this page with nbviewer.org.</b></div><div class=\"sk-container\" hidden><div class=\"sk-item\"><div class=\"sk-estimator sk-toggleable\"><input class=\"sk-toggleable__control sk-hidden--visually\" id=\"sk-estimator-id-4\" type=\"checkbox\" checked><label for=\"sk-estimator-id-4\" class=\"sk-toggleable__label sk-toggleable__label-arrow\">RandomForestClassifier</label><div class=\"sk-toggleable__content\"><pre>RandomForestClassifier()</pre></div></div></div></div></div>"
      ],
      "text/plain": [
       "RandomForestClassifier()"
      ]
     },
     "execution_count": 43,
     "metadata": {},
     "output_type": "execute_result"
    }
   ],
   "source": [
    "random_f_low = RandomForestClassifier()\n",
    "random_f_low.fit(X_train_low, y_train_low)"
   ]
  },
  {
   "cell_type": "code",
   "execution_count": 44,
   "id": "7c47b973",
   "metadata": {},
   "outputs": [],
   "source": [
    "y_pred_low = random_f_low.predict(X_test_low)"
   ]
  },
  {
   "cell_type": "code",
   "execution_count": 45,
   "id": "b5d5829f",
   "metadata": {},
   "outputs": [
    {
     "data": {
      "text/html": [
       "<div>\n",
       "<style scoped>\n",
       "    .dataframe tbody tr th:only-of-type {\n",
       "        vertical-align: middle;\n",
       "    }\n",
       "\n",
       "    .dataframe tbody tr th {\n",
       "        vertical-align: top;\n",
       "    }\n",
       "\n",
       "    .dataframe thead th {\n",
       "        text-align: right;\n",
       "    }\n",
       "</style>\n",
       "<table border=\"1\" class=\"dataframe\">\n",
       "  <thead>\n",
       "    <tr style=\"text-align: right;\">\n",
       "      <th></th>\n",
       "      <th>is_uppercase</th>\n",
       "      <th>Predictions</th>\n",
       "    </tr>\n",
       "  </thead>\n",
       "  <tbody>\n",
       "    <tr>\n",
       "      <th>15790</th>\n",
       "      <td>0</td>\n",
       "      <td>1</td>\n",
       "    </tr>\n",
       "    <tr>\n",
       "      <th>94811</th>\n",
       "      <td>0</td>\n",
       "      <td>0</td>\n",
       "    </tr>\n",
       "    <tr>\n",
       "      <th>102587</th>\n",
       "      <td>1</td>\n",
       "      <td>0</td>\n",
       "    </tr>\n",
       "    <tr>\n",
       "      <th>20204</th>\n",
       "      <td>1</td>\n",
       "      <td>0</td>\n",
       "    </tr>\n",
       "    <tr>\n",
       "      <th>67102</th>\n",
       "      <td>0</td>\n",
       "      <td>1</td>\n",
       "    </tr>\n",
       "    <tr>\n",
       "      <th>25915</th>\n",
       "      <td>0</td>\n",
       "      <td>0</td>\n",
       "    </tr>\n",
       "    <tr>\n",
       "      <th>52376</th>\n",
       "      <td>0</td>\n",
       "      <td>0</td>\n",
       "    </tr>\n",
       "    <tr>\n",
       "      <th>78957</th>\n",
       "      <td>0</td>\n",
       "      <td>0</td>\n",
       "    </tr>\n",
       "    <tr>\n",
       "      <th>40500</th>\n",
       "      <td>0</td>\n",
       "      <td>0</td>\n",
       "    </tr>\n",
       "    <tr>\n",
       "      <th>111181</th>\n",
       "      <td>1</td>\n",
       "      <td>0</td>\n",
       "    </tr>\n",
       "  </tbody>\n",
       "</table>\n",
       "</div>"
      ],
      "text/plain": [
       "        is_uppercase  Predictions\n",
       "15790              0            1\n",
       "94811              0            0\n",
       "102587             1            0\n",
       "20204              1            0\n",
       "67102              0            1\n",
       "25915              0            0\n",
       "52376              0            0\n",
       "78957              0            0\n",
       "40500              0            0\n",
       "111181             1            0"
      ]
     },
     "execution_count": 45,
     "metadata": {},
     "output_type": "execute_result"
    }
   ],
   "source": [
    "classification = pd.DataFrame(y_test)\n",
    "classification['Predictions'] = y_pred_low\n",
    "classification[:10]"
   ]
  },
  {
   "cell_type": "code",
   "execution_count": 46,
   "id": "9e4a24dd",
   "metadata": {},
   "outputs": [
    {
     "data": {
      "text/plain": [
       "0.6074790457769181"
      ]
     },
     "execution_count": 46,
     "metadata": {},
     "output_type": "execute_result"
    }
   ],
   "source": [
    "accuracy_score(y_test, y_pred_low)"
   ]
  },
  {
   "cell_type": "code",
   "execution_count": 47,
   "id": "b8b4d9fc",
   "metadata": {},
   "outputs": [
    {
     "name": "stdout",
     "output_type": "stream",
     "text": [
      "Model F1: [0.75 0.05]\n",
      "Model Precision: [0.7  0.07]\n",
      "Model Recall: [0.82 0.04]\n"
     ]
    }
   ],
   "source": [
    "evaluate_model(y_test, y_pred_low)"
   ]
  },
  {
   "cell_type": "markdown",
   "id": "11716a5e",
   "metadata": {},
   "source": [
    "## KNN"
   ]
  },
  {
   "cell_type": "code",
   "execution_count": 48,
   "id": "2e05cb81",
   "metadata": {},
   "outputs": [
    {
     "data": {
      "text/html": [
       "<style>#sk-container-id-5 {color: black;background-color: white;}#sk-container-id-5 pre{padding: 0;}#sk-container-id-5 div.sk-toggleable {background-color: white;}#sk-container-id-5 label.sk-toggleable__label {cursor: pointer;display: block;width: 100%;margin-bottom: 0;padding: 0.3em;box-sizing: border-box;text-align: center;}#sk-container-id-5 label.sk-toggleable__label-arrow:before {content: \"▸\";float: left;margin-right: 0.25em;color: #696969;}#sk-container-id-5 label.sk-toggleable__label-arrow:hover:before {color: black;}#sk-container-id-5 div.sk-estimator:hover label.sk-toggleable__label-arrow:before {color: black;}#sk-container-id-5 div.sk-toggleable__content {max-height: 0;max-width: 0;overflow: hidden;text-align: left;background-color: #f0f8ff;}#sk-container-id-5 div.sk-toggleable__content pre {margin: 0.2em;color: black;border-radius: 0.25em;background-color: #f0f8ff;}#sk-container-id-5 input.sk-toggleable__control:checked~div.sk-toggleable__content {max-height: 200px;max-width: 100%;overflow: auto;}#sk-container-id-5 input.sk-toggleable__control:checked~label.sk-toggleable__label-arrow:before {content: \"▾\";}#sk-container-id-5 div.sk-estimator input.sk-toggleable__control:checked~label.sk-toggleable__label {background-color: #d4ebff;}#sk-container-id-5 div.sk-label input.sk-toggleable__control:checked~label.sk-toggleable__label {background-color: #d4ebff;}#sk-container-id-5 input.sk-hidden--visually {border: 0;clip: rect(1px 1px 1px 1px);clip: rect(1px, 1px, 1px, 1px);height: 1px;margin: -1px;overflow: hidden;padding: 0;position: absolute;width: 1px;}#sk-container-id-5 div.sk-estimator {font-family: monospace;background-color: #f0f8ff;border: 1px dotted black;border-radius: 0.25em;box-sizing: border-box;margin-bottom: 0.5em;}#sk-container-id-5 div.sk-estimator:hover {background-color: #d4ebff;}#sk-container-id-5 div.sk-parallel-item::after {content: \"\";width: 100%;border-bottom: 1px solid gray;flex-grow: 1;}#sk-container-id-5 div.sk-label:hover label.sk-toggleable__label {background-color: #d4ebff;}#sk-container-id-5 div.sk-serial::before {content: \"\";position: absolute;border-left: 1px solid gray;box-sizing: border-box;top: 0;bottom: 0;left: 50%;z-index: 0;}#sk-container-id-5 div.sk-serial {display: flex;flex-direction: column;align-items: center;background-color: white;padding-right: 0.2em;padding-left: 0.2em;position: relative;}#sk-container-id-5 div.sk-item {position: relative;z-index: 1;}#sk-container-id-5 div.sk-parallel {display: flex;align-items: stretch;justify-content: center;background-color: white;position: relative;}#sk-container-id-5 div.sk-item::before, #sk-container-id-5 div.sk-parallel-item::before {content: \"\";position: absolute;border-left: 1px solid gray;box-sizing: border-box;top: 0;bottom: 0;left: 50%;z-index: -1;}#sk-container-id-5 div.sk-parallel-item {display: flex;flex-direction: column;z-index: 1;position: relative;background-color: white;}#sk-container-id-5 div.sk-parallel-item:first-child::after {align-self: flex-end;width: 50%;}#sk-container-id-5 div.sk-parallel-item:last-child::after {align-self: flex-start;width: 50%;}#sk-container-id-5 div.sk-parallel-item:only-child::after {width: 0;}#sk-container-id-5 div.sk-dashed-wrapped {border: 1px dashed gray;margin: 0 0.4em 0.5em 0.4em;box-sizing: border-box;padding-bottom: 0.4em;background-color: white;}#sk-container-id-5 div.sk-label label {font-family: monospace;font-weight: bold;display: inline-block;line-height: 1.2em;}#sk-container-id-5 div.sk-label-container {text-align: center;}#sk-container-id-5 div.sk-container {/* jupyter's `normalize.less` sets `[hidden] { display: none; }` but bootstrap.min.css set `[hidden] { display: none !important; }` so we also need the `!important` here to be able to override the default hidden behavior on the sphinx rendered scikit-learn.org. See: https://github.com/scikit-learn/scikit-learn/issues/21755 */display: inline-block !important;position: relative;}#sk-container-id-5 div.sk-text-repr-fallback {display: none;}</style><div id=\"sk-container-id-5\" class=\"sk-top-container\"><div class=\"sk-text-repr-fallback\"><pre>KNeighborsClassifier()</pre><b>In a Jupyter environment, please rerun this cell to show the HTML representation or trust the notebook. <br />On GitHub, the HTML representation is unable to render, please try loading this page with nbviewer.org.</b></div><div class=\"sk-container\" hidden><div class=\"sk-item\"><div class=\"sk-estimator sk-toggleable\"><input class=\"sk-toggleable__control sk-hidden--visually\" id=\"sk-estimator-id-5\" type=\"checkbox\" checked><label for=\"sk-estimator-id-5\" class=\"sk-toggleable__label sk-toggleable__label-arrow\">KNeighborsClassifier</label><div class=\"sk-toggleable__content\"><pre>KNeighborsClassifier()</pre></div></div></div></div></div>"
      ],
      "text/plain": [
       "KNeighborsClassifier()"
      ]
     },
     "execution_count": 48,
     "metadata": {},
     "output_type": "execute_result"
    }
   ],
   "source": [
    "knn_fit_low = KNeighborsClassifier(n_neighbors=5)\n",
    "knn_fit_low.fit(X_train_low, y_train_low)"
   ]
  },
  {
   "cell_type": "code",
   "execution_count": 49,
   "id": "97fa9966",
   "metadata": {},
   "outputs": [],
   "source": [
    "y_pred_low = knn_fit_low.predict(X_test_low)"
   ]
  },
  {
   "cell_type": "code",
   "execution_count": 50,
   "id": "2a8db52b",
   "metadata": {},
   "outputs": [
    {
     "data": {
      "text/plain": [
       "0.5967332903503116"
      ]
     },
     "execution_count": 50,
     "metadata": {},
     "output_type": "execute_result"
    }
   ],
   "source": [
    "accuracy_score(y_test, y_pred_low)"
   ]
  },
  {
   "cell_type": "code",
   "execution_count": 51,
   "id": "ce5b9f4d",
   "metadata": {},
   "outputs": [
    {
     "name": "stdout",
     "output_type": "stream",
     "text": [
      "Model F1: [0.74 0.13]\n",
      "Model Precision: [0.7  0.16]\n",
      "Model Recall: [0.78 0.11]\n"
     ]
    }
   ],
   "source": [
    "evaluate_model(y_test, y_pred_low)"
   ]
  },
  {
   "cell_type": "markdown",
   "id": "19fd151b",
   "metadata": {},
   "source": [
    "Try to do the same thing with numbers.\n"
   ]
  },
  {
   "cell_type": "markdown",
   "id": "4a5e83d1",
   "metadata": {},
   "source": [
    "### Random Forest"
   ]
  },
  {
   "cell_type": "code",
   "execution_count": 52,
   "id": "a1d4f67b",
   "metadata": {},
   "outputs": [],
   "source": [
    "X_num = new_data.drop(['is_number', 'is_uppercase', 'is_lowercase'], axis=1)\n",
    "y_num = new_data['is_number']"
   ]
  },
  {
   "cell_type": "code",
   "execution_count": 53,
   "id": "ca9042be",
   "metadata": {},
   "outputs": [],
   "source": [
    "X_train_num, X_test_num, y_train_num, y_test_num = train_test_split(X_num, y_num, test_size=0.20, \n",
    "                                                                    random_state=42)"
   ]
  },
  {
   "cell_type": "code",
   "execution_count": 54,
   "id": "a97980b2",
   "metadata": {},
   "outputs": [
    {
     "data": {
      "text/html": [
       "<style>#sk-container-id-6 {color: black;background-color: white;}#sk-container-id-6 pre{padding: 0;}#sk-container-id-6 div.sk-toggleable {background-color: white;}#sk-container-id-6 label.sk-toggleable__label {cursor: pointer;display: block;width: 100%;margin-bottom: 0;padding: 0.3em;box-sizing: border-box;text-align: center;}#sk-container-id-6 label.sk-toggleable__label-arrow:before {content: \"▸\";float: left;margin-right: 0.25em;color: #696969;}#sk-container-id-6 label.sk-toggleable__label-arrow:hover:before {color: black;}#sk-container-id-6 div.sk-estimator:hover label.sk-toggleable__label-arrow:before {color: black;}#sk-container-id-6 div.sk-toggleable__content {max-height: 0;max-width: 0;overflow: hidden;text-align: left;background-color: #f0f8ff;}#sk-container-id-6 div.sk-toggleable__content pre {margin: 0.2em;color: black;border-radius: 0.25em;background-color: #f0f8ff;}#sk-container-id-6 input.sk-toggleable__control:checked~div.sk-toggleable__content {max-height: 200px;max-width: 100%;overflow: auto;}#sk-container-id-6 input.sk-toggleable__control:checked~label.sk-toggleable__label-arrow:before {content: \"▾\";}#sk-container-id-6 div.sk-estimator input.sk-toggleable__control:checked~label.sk-toggleable__label {background-color: #d4ebff;}#sk-container-id-6 div.sk-label input.sk-toggleable__control:checked~label.sk-toggleable__label {background-color: #d4ebff;}#sk-container-id-6 input.sk-hidden--visually {border: 0;clip: rect(1px 1px 1px 1px);clip: rect(1px, 1px, 1px, 1px);height: 1px;margin: -1px;overflow: hidden;padding: 0;position: absolute;width: 1px;}#sk-container-id-6 div.sk-estimator {font-family: monospace;background-color: #f0f8ff;border: 1px dotted black;border-radius: 0.25em;box-sizing: border-box;margin-bottom: 0.5em;}#sk-container-id-6 div.sk-estimator:hover {background-color: #d4ebff;}#sk-container-id-6 div.sk-parallel-item::after {content: \"\";width: 100%;border-bottom: 1px solid gray;flex-grow: 1;}#sk-container-id-6 div.sk-label:hover label.sk-toggleable__label {background-color: #d4ebff;}#sk-container-id-6 div.sk-serial::before {content: \"\";position: absolute;border-left: 1px solid gray;box-sizing: border-box;top: 0;bottom: 0;left: 50%;z-index: 0;}#sk-container-id-6 div.sk-serial {display: flex;flex-direction: column;align-items: center;background-color: white;padding-right: 0.2em;padding-left: 0.2em;position: relative;}#sk-container-id-6 div.sk-item {position: relative;z-index: 1;}#sk-container-id-6 div.sk-parallel {display: flex;align-items: stretch;justify-content: center;background-color: white;position: relative;}#sk-container-id-6 div.sk-item::before, #sk-container-id-6 div.sk-parallel-item::before {content: \"\";position: absolute;border-left: 1px solid gray;box-sizing: border-box;top: 0;bottom: 0;left: 50%;z-index: -1;}#sk-container-id-6 div.sk-parallel-item {display: flex;flex-direction: column;z-index: 1;position: relative;background-color: white;}#sk-container-id-6 div.sk-parallel-item:first-child::after {align-self: flex-end;width: 50%;}#sk-container-id-6 div.sk-parallel-item:last-child::after {align-self: flex-start;width: 50%;}#sk-container-id-6 div.sk-parallel-item:only-child::after {width: 0;}#sk-container-id-6 div.sk-dashed-wrapped {border: 1px dashed gray;margin: 0 0.4em 0.5em 0.4em;box-sizing: border-box;padding-bottom: 0.4em;background-color: white;}#sk-container-id-6 div.sk-label label {font-family: monospace;font-weight: bold;display: inline-block;line-height: 1.2em;}#sk-container-id-6 div.sk-label-container {text-align: center;}#sk-container-id-6 div.sk-container {/* jupyter's `normalize.less` sets `[hidden] { display: none; }` but bootstrap.min.css set `[hidden] { display: none !important; }` so we also need the `!important` here to be able to override the default hidden behavior on the sphinx rendered scikit-learn.org. See: https://github.com/scikit-learn/scikit-learn/issues/21755 */display: inline-block !important;position: relative;}#sk-container-id-6 div.sk-text-repr-fallback {display: none;}</style><div id=\"sk-container-id-6\" class=\"sk-top-container\"><div class=\"sk-text-repr-fallback\"><pre>RandomForestClassifier()</pre><b>In a Jupyter environment, please rerun this cell to show the HTML representation or trust the notebook. <br />On GitHub, the HTML representation is unable to render, please try loading this page with nbviewer.org.</b></div><div class=\"sk-container\" hidden><div class=\"sk-item\"><div class=\"sk-estimator sk-toggleable\"><input class=\"sk-toggleable__control sk-hidden--visually\" id=\"sk-estimator-id-6\" type=\"checkbox\" checked><label for=\"sk-estimator-id-6\" class=\"sk-toggleable__label sk-toggleable__label-arrow\">RandomForestClassifier</label><div class=\"sk-toggleable__content\"><pre>RandomForestClassifier()</pre></div></div></div></div></div>"
      ],
      "text/plain": [
       "RandomForestClassifier()"
      ]
     },
     "execution_count": 54,
     "metadata": {},
     "output_type": "execute_result"
    }
   ],
   "source": [
    "random_f_upper = RandomForestClassifier()\n",
    "random_f_upper.fit(X_train_num, y_train_num)"
   ]
  },
  {
   "cell_type": "code",
   "execution_count": 55,
   "id": "da4f1526",
   "metadata": {},
   "outputs": [],
   "source": [
    "y_pred_num = random_f.predict(X_test_num)"
   ]
  },
  {
   "cell_type": "code",
   "execution_count": 56,
   "id": "4d95031b",
   "metadata": {},
   "outputs": [
    {
     "data": {
      "text/plain": [
       "0.8527401676337847"
      ]
     },
     "execution_count": 56,
     "metadata": {},
     "output_type": "execute_result"
    }
   ],
   "source": [
    "accuracy_score(y_test, y_pred_num)"
   ]
  },
  {
   "cell_type": "code",
   "execution_count": 57,
   "id": "6554da15",
   "metadata": {},
   "outputs": [
    {
     "name": "stdout",
     "output_type": "stream",
     "text": [
      "Model F1: [0.9  0.68]\n",
      "Model Precision: [0.86 0.82]\n",
      "Model Recall: [0.95 0.58]\n"
     ]
    }
   ],
   "source": [
    "evaluate_model(y_test, y_pred_num)"
   ]
  }
 ],
 "metadata": {
  "kernelspec": {
   "display_name": "Python 3 (ipykernel)",
   "language": "python",
   "name": "python3"
  },
  "language_info": {
   "codemirror_mode": {
    "name": "ipython",
    "version": 3
   },
   "file_extension": ".py",
   "mimetype": "text/x-python",
   "name": "python",
   "nbconvert_exporter": "python",
   "pygments_lexer": "ipython3",
   "version": "3.9.12"
  }
 },
 "nbformat": 4,
 "nbformat_minor": 5
}
