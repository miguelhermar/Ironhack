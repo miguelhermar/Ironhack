{
 "cells": [
  {
   "cell_type": "markdown",
   "id": "38e172b6",
   "metadata": {},
   "source": [
    "### Advanced Regular Expressions Lab"
   ]
  },
  {
   "cell_type": "markdown",
   "id": "0ebeb8c6",
   "metadata": {},
   "source": [
    "Complete the following set of exercises to solidify your knowledge of regular expressions."
   ]
  },
  {
   "cell_type": "code",
   "execution_count": 255,
   "id": "0d65dfa2",
   "metadata": {},
   "outputs": [],
   "source": [
    "import re"
   ]
  },
  {
   "cell_type": "markdown",
   "id": "71975a45",
   "metadata": {},
   "source": [
    "1. Use a regular expression to find and extract all vowels in the following text."
   ]
  },
  {
   "cell_type": "code",
   "execution_count": 256,
   "id": "7e8fbf87",
   "metadata": {},
   "outputs": [],
   "source": [
    "text = \"This is going to be a sentence with a good number of vowels in it.\""
   ]
  },
  {
   "cell_type": "code",
   "execution_count": 257,
   "id": "491d5fc2",
   "metadata": {},
   "outputs": [
    {
     "name": "stdout",
     "output_type": "stream",
     "text": [
      "['Th', 's ', 's g', 'ng t', ' b', ' ', ' s', 'nt', 'nc', ' w', 'th ', ' g', 'd n', 'mb', 'r ', 'f v', 'w', 'ls ', 'n ', 't.']\n"
     ]
    }
   ],
   "source": [
    "print(re.findall('[^aeiouAEIOU]+', text))"
   ]
  },
  {
   "cell_type": "markdown",
   "id": "1d21136f",
   "metadata": {},
   "source": [
    "2. Use a regular expression to find and extract all occurrences and tenses (singular and plural) of the word \"puppy\" in the text below."
   ]
  },
  {
   "cell_type": "code",
   "execution_count": 258,
   "id": "226b9e1e",
   "metadata": {},
   "outputs": [],
   "source": [
    "text_2 = '''The puppy saw all the rest of the puppies playing and wanted to join them. \n",
    "I saw this and wanted a puppy of my own!'''"
   ]
  },
  {
   "cell_type": "code",
   "execution_count": 259,
   "id": "f3801a14",
   "metadata": {},
   "outputs": [
    {
     "name": "stdout",
     "output_type": "stream",
     "text": [
      "['puppy', 'puppies', 'puppy']\n"
     ]
    }
   ],
   "source": [
    "print(re.findall('pupp\\w+', text_2))"
   ]
  },
  {
   "cell_type": "markdown",
   "id": "c4b8111e",
   "metadata": {},
   "source": [
    "3. Use a regular expression to find and extract all tenses (present and past) of the word \"run\" in the text below."
   ]
  },
  {
   "cell_type": "code",
   "execution_count": 260,
   "id": "6ec51975",
   "metadata": {},
   "outputs": [],
   "source": [
    "text_3 = \"I ran the relay race the only way I knew how to run it.\""
   ]
  },
  {
   "cell_type": "code",
   "execution_count": 261,
   "id": "d41011a7",
   "metadata": {},
   "outputs": [
    {
     "name": "stdout",
     "output_type": "stream",
     "text": [
      "['ran', 'run']\n"
     ]
    }
   ],
   "source": [
    "print(re.findall('r[au]n+', text_3))"
   ]
  },
  {
   "cell_type": "markdown",
   "id": "004b1a9d",
   "metadata": {},
   "source": [
    "4. Use a regular expression to find and extract all words that begin with the letter \"r\" from the previous text."
   ]
  },
  {
   "cell_type": "code",
   "execution_count": 262,
   "id": "93b2f2ff",
   "metadata": {},
   "outputs": [
    {
     "name": "stdout",
     "output_type": "stream",
     "text": [
      "['ran', 'relay', 'race', 'run']\n"
     ]
    }
   ],
   "source": [
    "print(re.findall('r\\w+', text_3))"
   ]
  },
  {
   "cell_type": "markdown",
   "id": "0ad816bc",
   "metadata": {},
   "source": [
    "5. Use a regular expression to find and substitute the letter \"i\" for the exclamation marks in the text below."
   ]
  },
  {
   "cell_type": "code",
   "execution_count": 263,
   "id": "54bc71ae",
   "metadata": {},
   "outputs": [],
   "source": [
    "text_4 = \"Th!s !s a sentence w!th spec!al characters !n !t.\""
   ]
  },
  {
   "cell_type": "code",
   "execution_count": 264,
   "id": "fd5ae7f2",
   "metadata": {},
   "outputs": [
    {
     "name": "stdout",
     "output_type": "stream",
     "text": [
      "This is a sentence with special characters in it.\n"
     ]
    }
   ],
   "source": [
    "print(re.sub(\"!\", \"i\", text_4))"
   ]
  },
  {
   "cell_type": "markdown",
   "id": "794bac1e",
   "metadata": {},
   "source": [
    "6. Use a regular expression to find and extract words longer than 4 characters in the text below."
   ]
  },
  {
   "cell_type": "code",
   "execution_count": 265,
   "id": "689daf44",
   "metadata": {},
   "outputs": [],
   "source": [
    "text_5 = \"This sentence has words of varying lengths.\""
   ]
  },
  {
   "cell_type": "code",
   "execution_count": 266,
   "id": "c0ac53af",
   "metadata": {},
   "outputs": [
    {
     "name": "stdout",
     "output_type": "stream",
     "text": [
      "['sentence', 'words', 'varying', 'lengths']\n"
     ]
    }
   ],
   "source": [
    "print(re.findall('\\w{5,}', text_5))"
   ]
  },
  {
   "cell_type": "markdown",
   "id": "e26fc975",
   "metadata": {},
   "source": [
    "7. Use a regular expression to find and extract all occurrences of the letter \"b\", some letter(s), and then the letter \"t\" in the sentence below.\n"
   ]
  },
  {
   "cell_type": "code",
   "execution_count": 267,
   "id": "cd760980",
   "metadata": {},
   "outputs": [],
   "source": [
    "text_6 = \"I bet the robot couldn't beat the other bot with a bat, but instead it bit me.\""
   ]
  },
  {
   "cell_type": "code",
   "execution_count": 268,
   "id": "5a16fee4",
   "metadata": {},
   "outputs": [
    {
     "name": "stdout",
     "output_type": "stream",
     "text": [
      "['bet', 'bot', 'beat', 'bot', 'bat', 'but', 'bit']\n"
     ]
    }
   ],
   "source": [
    "print(re.findall('b[a-z]+t', text_6))"
   ]
  },
  {
   "cell_type": "markdown",
   "id": "a72d8295",
   "metadata": {},
   "source": [
    "8. Use a regular expression to find and extract all words that contain either \"ea\" or \"eo\" in them.\n"
   ]
  },
  {
   "cell_type": "code",
   "execution_count": 285,
   "id": "72405e29",
   "metadata": {},
   "outputs": [],
   "source": [
    "text_7 = '''During many of the peaks and troughs of history, \n",
    "the people living it didn't fully realize what was unfolding. \n",
    "But we all know we're navigating breathtaking history: \n",
    "Nearly every day could be — maybe will be — a book. \n",
    "'''"
   ]
  },
  {
   "cell_type": "code",
   "execution_count": 286,
   "id": "3f1437c2",
   "metadata": {},
   "outputs": [
    {
     "name": "stdout",
     "output_type": "stream",
     "text": [
      "['peaks', 'people', 'realize', 'breathtaking', 'Nearly']\n"
     ]
    }
   ],
   "source": [
    "print(re.findall('[A-z]+?eo\\w+|[A-z]+?ea\\w+', text_7))"
   ]
  },
  {
   "cell_type": "markdown",
   "id": "b8f16b20",
   "metadata": {},
   "source": [
    "9. Use a regular expression to find and extract all the capitalized words in the text below individually."
   ]
  },
  {
   "cell_type": "code",
   "execution_count": 271,
   "id": "b2057c4f",
   "metadata": {},
   "outputs": [],
   "source": [
    "text_8 = \"Teddy Roosevelt and Abraham Lincoln walk into a bar.\""
   ]
  },
  {
   "cell_type": "code",
   "execution_count": 272,
   "id": "ca3ebd97",
   "metadata": {},
   "outputs": [
    {
     "name": "stdout",
     "output_type": "stream",
     "text": [
      "['Teddy', 'Roosevelt', 'Abraham', 'Lincoln']\n"
     ]
    }
   ],
   "source": [
    "print(re.findall('[A-Z]\\w+', text_8))"
   ]
  },
  {
   "cell_type": "markdown",
   "id": "fc988dd0",
   "metadata": {},
   "source": [
    "10. Use a regular expression to find and extract all the sets of consecutive capitalized words in the text above.\n"
   ]
  },
  {
   "cell_type": "code",
   "execution_count": 273,
   "id": "bb35656c",
   "metadata": {},
   "outputs": [
    {
     "name": "stdout",
     "output_type": "stream",
     "text": [
      "['Teddy Roosevelt', 'Abraham Lincoln']\n"
     ]
    }
   ],
   "source": [
    "pattern = '[A-Z][a-z]+ ?[A-Z][a-z]+|[A-Z][a-z]+' \n",
    "print(re.findall (pattern, text_8))"
   ]
  },
  {
   "cell_type": "markdown",
   "id": "93a704e4",
   "metadata": {},
   "source": [
    "11. Use a regular expression to find and extract all the quotes from the text below.\n",
    "\n",
    "Hint: This one is a little more complex than the single quote example in the lesson because there are multiple quotes in the text."
   ]
  },
  {
   "cell_type": "code",
   "execution_count": 274,
   "id": "b0ed68f2",
   "metadata": {},
   "outputs": [],
   "source": [
    "text_9 = 'Roosevelt says to Lincoln, \"I will bet you $50 I can get the bartender to give me a free drink.\" Lincoln says, \"I am in!\"'"
   ]
  },
  {
   "cell_type": "code",
   "execution_count": 275,
   "id": "9a74aa4d",
   "metadata": {},
   "outputs": [
    {
     "name": "stdout",
     "output_type": "stream",
     "text": [
      "['\"I will bet you $50 I can get the bartender to give me a free drink.\"', '\"I am in!\"']\n"
     ]
    }
   ],
   "source": [
    "print(re.findall('\"[^\"]+\"', text_9))"
   ]
  },
  {
   "cell_type": "markdown",
   "id": "284a3cb2",
   "metadata": {},
   "source": [
    "12. Use a regular expression to find and extract all the numbers from the text below."
   ]
  },
  {
   "cell_type": "code",
   "execution_count": 276,
   "id": "1c0bc3e8",
   "metadata": {},
   "outputs": [],
   "source": [
    "text_10 = '''There were 30 students in the class. Of the 30 students, \n",
    "14 were male and 16 were female. Only 10 students got A's on the exam.'''"
   ]
  },
  {
   "cell_type": "code",
   "execution_count": 277,
   "id": "9df8b877",
   "metadata": {},
   "outputs": [
    {
     "name": "stdout",
     "output_type": "stream",
     "text": [
      "['30', '30', '14', '16', '10']\n"
     ]
    }
   ],
   "source": [
    "print(re.findall('\\d+', text_10))"
   ]
  },
  {
   "cell_type": "markdown",
   "id": "a33da6b6",
   "metadata": {},
   "source": [
    "13. Use a regular expression to find and extract all the social security numbers from the text below.\n"
   ]
  },
  {
   "cell_type": "code",
   "execution_count": 278,
   "id": "31df7889",
   "metadata": {},
   "outputs": [],
   "source": [
    "text_11 = \"\"\"\n",
    "Henry's social security number is 876-93-2289 and his phone number is (847)789-0984.\n",
    "Darlene's social security number is 098-32-5295 and her phone number is (987)222-0901.\n",
    "\"\"\""
   ]
  },
  {
   "cell_type": "code",
   "execution_count": 279,
   "id": "4593f860",
   "metadata": {},
   "outputs": [
    {
     "name": "stdout",
     "output_type": "stream",
     "text": [
      "['876-93-2289', '098-32-5295']\n"
     ]
    }
   ],
   "source": [
    "print(re.findall('\\d+-\\d+-\\d+', text_11))"
   ]
  },
  {
   "cell_type": "markdown",
   "id": "6e074d4f",
   "metadata": {},
   "source": [
    "14. Use a regular expression to find and extract all the phone numbers from the text above.\n"
   ]
  },
  {
   "cell_type": "code",
   "execution_count": 280,
   "id": "8892d160",
   "metadata": {},
   "outputs": [
    {
     "name": "stdout",
     "output_type": "stream",
     "text": [
      "['(847)789-0984', '(987)222-0901']\n"
     ]
    }
   ],
   "source": [
    "print(re.findall ('\\(\\d+\\)\\d+-\\d+', text_11))"
   ]
  },
  {
   "cell_type": "markdown",
   "id": "a7fbdbd0",
   "metadata": {},
   "source": [
    "15. Use a regular expression to find and extract all the formatted numbers (both social security and phone) from the text above.\n"
   ]
  },
  {
   "cell_type": "code",
   "execution_count": 283,
   "id": "ebb4b4be",
   "metadata": {},
   "outputs": [
    {
     "name": "stdout",
     "output_type": "stream",
     "text": [
      "['876-93-2289', '(847)789-0984', '098-32-5295', '(987)222-0901']\n"
     ]
    }
   ],
   "source": [
    "print(re.findall('\\d+-\\d+-\\d+|\\(\\d+\\)\\d+-\\d+', text_11))"
   ]
  }
 ],
 "metadata": {
  "kernelspec": {
   "display_name": "Python 3 (ipykernel)",
   "language": "python",
   "name": "python3"
  },
  "language_info": {
   "codemirror_mode": {
    "name": "ipython",
    "version": 3
   },
   "file_extension": ".py",
   "mimetype": "text/x-python",
   "name": "python",
   "nbconvert_exporter": "python",
   "pygments_lexer": "ipython3",
   "version": "3.9.12"
  }
 },
 "nbformat": 4,
 "nbformat_minor": 5
}
