{
 "cells": [
  {
   "cell_type": "code",
   "execution_count": 35,
   "id": "0581a7a7",
   "metadata": {},
   "outputs": [],
   "source": [
    "import math"
   ]
  },
  {
   "cell_type": "markdown",
   "id": "7f6dfe59",
   "metadata": {},
   "source": [
    "### Challenge 1 - Handling Errors Using try and except"
   ]
  },
  {
   "cell_type": "markdown",
   "id": "fc5ade57",
   "metadata": {},
   "source": [
    "The try and except clauses create a block for handling exceptions. When we wrap code in this block, we first attempt the code in the try and if an error is thrown, we can handle specific errors or all errors in the except portion."
   ]
  },
  {
   "cell_type": "markdown",
   "id": "b6012bd1",
   "metadata": {},
   "source": [
    "In the 4 cells below, modify the code to catch the error and print a meaningful message that will alert the user what went wrong. You may catch the error using a general except or a specific except for the error caused by the code."
   ]
  },
  {
   "cell_type": "code",
   "execution_count": 36,
   "id": "62d72e16",
   "metadata": {},
   "outputs": [
    {
     "name": "stdout",
     "output_type": "stream",
     "text": [
      "'some_string' is not defined\n",
      "\n",
      "You first have to name a variable, a function or a class called 'some_string'.\n"
     ]
    }
   ],
   "source": [
    "try:\n",
    "    print(some_string)\n",
    "except:\n",
    "    print(\"'some_string' is not defined\")\n",
    "\n",
    "print(\"\\nYou first have to name a variable, a function or a class called 'some_string'.\")"
   ]
  },
  {
   "cell_type": "code",
   "execution_count": 37,
   "id": "8bdd4a46",
   "metadata": {},
   "outputs": [],
   "source": [
    "# Modify the code below:    "
   ]
  },
  {
   "cell_type": "code",
   "execution_count": 38,
   "id": "2b79acc1",
   "metadata": {},
   "outputs": [
    {
     "name": "stdout",
     "output_type": "stream",
     "text": [
      "Analyzing element a in the list\n",
      "You cannot take a string to its second power.\n",
      "Analyzing element b in the list\n",
      "You cannot take a string to its second power.\n",
      "Analyzing element c in the list\n",
      "You cannot take a string to its second power.\n",
      "\n",
      "End of the sequence.\n"
     ]
    }
   ],
   "source": [
    "for i in ['a','b','c']:\n",
    "    \n",
    "    print(\"Analyzing element\", i ,\"in the list\")\n",
    "    \n",
    "    try:\n",
    "        print (i**2)\n",
    "    except:\n",
    "        print(\"You cannot take a string to its second power.\")\n",
    "    else:\n",
    "        print(\"The for loop ran successfully.\")\n",
    "\n",
    "print(\"\\nEnd of the sequence.\") "
   ]
  },
  {
   "cell_type": "code",
   "execution_count": 39,
   "id": "56fdb869",
   "metadata": {},
   "outputs": [],
   "source": [
    "# Modify the code below:"
   ]
  },
  {
   "cell_type": "code",
   "execution_count": 40,
   "id": "ce427221",
   "metadata": {},
   "outputs": [
    {
     "name": "stdout",
     "output_type": "stream",
     "text": [
      "You can't divide by zero.\n",
      "\n",
      "The End.\n"
     ]
    }
   ],
   "source": [
    "x = 5\n",
    "y = 0\n",
    "\n",
    "try:\n",
    "    z = x/y\n",
    "    print(z)\n",
    "except:\n",
    "    print(\"You can't divide by zero.\")\n",
    "else:\n",
    "    print(\"Operation succesfully done.\")\n",
    "finally:\n",
    "    print(\"\\nThe End.\")"
   ]
  },
  {
   "cell_type": "code",
   "execution_count": 41,
   "id": "ba121f5a",
   "metadata": {},
   "outputs": [],
   "source": [
    "# Modify the code below:"
   ]
  },
  {
   "cell_type": "code",
   "execution_count": 42,
   "id": "23ff708b",
   "metadata": {},
   "outputs": [
    {
     "name": "stdout",
     "output_type": "stream",
     "text": [
      "The index number entered is out of the list range.\n",
      "\n",
      "The End.\n"
     ]
    }
   ],
   "source": [
    "abc=[10,20,20]\n",
    "\n",
    "try:\n",
    "    print(abc[3])\n",
    "except:\n",
    "    print(\"The index number entered is out of the list range.\")\n",
    "else:\n",
    "    print(\"Very well done!\")\n",
    "finally:\n",
    "    print(\"\\nThe End.\")"
   ]
  },
  {
   "cell_type": "markdown",
   "id": "65e098c3",
   "metadata": {},
   "source": [
    "### Challenge 2 - Handling Errors Using if Statements\n"
   ]
  },
  {
   "cell_type": "markdown",
   "id": "e0affdb7",
   "metadata": {},
   "source": [
    "In many cases, we are able to identify issues that may come up in our code and handle those handlful of issues with an if statment. Sometimes we would like to handle different types of inputs and are aware that later in the code, we will have to write two different branches of code for the two different cases we allowed in the beginning."
   ]
  },
  {
   "cell_type": "markdown",
   "id": "80ff44e3",
   "metadata": {},
   "source": [
    "In the 3 cells below, add an if statment that will handle both types of input allowed in the functions."
   ]
  },
  {
   "cell_type": "code",
   "execution_count": 43,
   "id": "1e8e0159",
   "metadata": {},
   "outputs": [
    {
     "data": {
      "text/plain": [
       "2.0"
      ]
     },
     "execution_count": 43,
     "metadata": {},
     "output_type": "execute_result"
    }
   ],
   "source": [
    "# Modify the code below to handle positive and negative numbers \n",
    "# by adding an if statement and performing a transformation:\n",
    "\n",
    "def sqrt_for_all(x):\n",
    "    # This function will take any real number and return the square root of its magnitude\n",
    "    # Input: real number\n",
    "    # Output: real number\n",
    "    try:\n",
    "        if x != 0: \n",
    "            positive_num = abs(x)\n",
    "            return math.sqrt(positive_num)\n",
    "        return \"Enter a real number different than zero.\"\n",
    "    except:\n",
    "        return \"Enter a real number different than zero.\"\n",
    "    # Sample Input: -4\n",
    "    # Sample Output: 2.0 \n",
    "\n",
    "sqrt_for_all(-4)"
   ]
  },
  {
   "cell_type": "code",
   "execution_count": 44,
   "id": "dcf679dc",
   "metadata": {},
   "outputs": [
    {
     "data": {
      "text/plain": [
       "5.0"
      ]
     },
     "execution_count": 44,
     "metadata": {},
     "output_type": "execute_result"
    }
   ],
   "source": [
    "# Modify the code below to handle zero as well. In the case of zero, return zero\n",
    "\n",
    "def divide(x, y):\n",
    "    # This function will take any two real numbers and return their quotient. If the denominator is zero, we return zero\n",
    "    # Input: real number\n",
    "    # Output: real number\n",
    "    try:\n",
    "        return x/y\n",
    "    except:\n",
    "        return 0\n",
    "    # Sample Input: 5, 1\n",
    "    # Sample Output: 5.0\n",
    "\n",
    "divide(5, 1)"
   ]
  },
  {
   "cell_type": "code",
   "execution_count": 45,
   "id": "d89ef878",
   "metadata": {},
   "outputs": [
    {
     "name": "stdout",
     "output_type": "stream",
     "text": [
      "[7, 59, 10]\n",
      "The add_elements function ran successfully.\n",
      "Everything worked properly.\n"
     ]
    }
   ],
   "source": [
    "# Modify the function below that it will take either a number and a list or two numbers. \n",
    "# If we take two numbers, add them together and return a list of length 1. \n",
    "# Otherwise, add the number to every element of the list and return the resulting list\n",
    "\n",
    "def add_elements(a, l):\n",
    "    # This function takes either two numbers or a list and a number and adds the number to all elements of the list\n",
    "    # If the function only takes two numbers, it returns a list of length one that is the sum of the numbers\n",
    "    \n",
    "    # Input: number and list or two numbers\n",
    "    # Output: list\n",
    "    try:\n",
    "        if type(a) == int and type(l) == list:\n",
    "            print([a + element for element in l])\n",
    "        elif type(a) == list and type(l) == int:\n",
    "            print([l + element for element in a])\n",
    "        else:\n",
    "            print([a+l])\n",
    "    except:\n",
    "        print(\"The add_elements function errored out.\")\n",
    "    else:\n",
    "        print(\"The add_elements function ran successfully.\")\n",
    "    finally:\n",
    "        print(\"Everything worked properly.\")\n",
    "    # Sample Input: 5, 6\n",
    "    # Sample Output: [11]\n",
    "        \n",
    "add_elements([4, 56, 7], 3)"
   ]
  },
  {
   "cell_type": "markdown",
   "id": "5cbb9708",
   "metadata": {},
   "source": [
    "### Challenge 3 - Fixing Errors to Get Code to Run"
   ]
  },
  {
   "cell_type": "markdown",
   "id": "fc4809be",
   "metadata": {},
   "source": [
    "Sometimes the error is not caused by the input but by the code itself. In the 2 following cells below, examine the error and correct the code to avoid the error."
   ]
  },
  {
   "cell_type": "code",
   "execution_count": 46,
   "id": "b0f16db3",
   "metadata": {},
   "outputs": [
    {
     "name": "stdout",
     "output_type": "stream",
     "text": [
      "Check your syntax\n"
     ]
    }
   ],
   "source": [
    "# Modify the code below:\n",
    "# syntax errors can be caught only after the compiler has run \n",
    "# one first time to set up the try/except blocks you need.\n",
    "\n",
    "l = [1,2,3,4]\n",
    "\n",
    "try: \n",
    "    eval('sum([element + 1 for element in l]')\n",
    "except SyntaxError:\n",
    "    print('Check your syntax')"
   ]
  },
  {
   "cell_type": "code",
   "execution_count": 47,
   "id": "1ba1cc0b",
   "metadata": {},
   "outputs": [
    {
     "name": "stdout",
     "output_type": "stream",
     "text": [
      "Analyzing the element in the loop: [1, 2, 3, 4]\n",
      "You cannot concatenate integers to strings.\n",
      "\n",
      "Analyzing the element in the loop: [1, 2, 3, 4]\n",
      "You cannot concatenate integers to strings.\n",
      "\n",
      "Analyzing the element in the loop: [1, 2, 3, 4]\n",
      "You cannot concatenate integers to strings.\n",
      "\n",
      "Analyzing the element in the loop: [1, 2, 3, 4]\n",
      "You cannot concatenate integers to strings.\n",
      "\n"
     ]
    }
   ],
   "source": [
    "# Modify the code below:\n",
    "\n",
    "l = [1,2,3,4]\n",
    "\n",
    "for element in l:\n",
    "    print(\"Analyzing the element in the loop:\", str(l))\n",
    "    \n",
    "    try:\n",
    "        print(\"The current element in the loop is\" + element)\n",
    "    except:\n",
    "        print(\"You cannot concatenate integers to strings.\\n\")\n",
    "    else:\n",
    "        print(\"The loop ran successfully.\")\n",
    "    \n",
    "    "
   ]
  },
  {
   "cell_type": "markdown",
   "id": "bc55e3fc",
   "metadata": {},
   "source": [
    "### Challenge 4 - Raise Errors on Your Own"
   ]
  },
  {
   "cell_type": "markdown",
   "id": "5bd8ea37",
   "metadata": {},
   "source": [
    "There are cases where you need to alert your users of a problem even if the input will not immediately produce an error. In these cases you may want to throw an error yourself to bring attention to the problem. In the 2 cells below, write the functions as directed and add the appropriate errors using the raise clause. Make sure to add a meaningful error message.\n",
    "\n"
   ]
  },
  {
   "cell_type": "code",
   "execution_count": 48,
   "id": "fe687ab9",
   "metadata": {},
   "outputs": [],
   "source": [
    "def log_square(x):\n",
    "    # This function takes a numeric value and returns the natural log of the square of the number \n",
    "    # The function raises an error if the number is equal to zero\n",
    "    # Use the math.log function in this funtion\n",
    "    \n",
    "    # Input: real number\n",
    "    # Output: real number or error\n",
    "    \n",
    "    # Sample Input: 5\n",
    "    # Sample Output: 3.21887 \n",
    "    if x == 0:\n",
    "        raise ZeroDivisionError(\"Please enter another number different than zero.\")\n",
    "    else:\n",
    "        return math.log(x*x)\n",
    "        \n",
    "        "
   ]
  },
  {
   "cell_type": "code",
   "execution_count": 49,
   "id": "4e2198f3",
   "metadata": {},
   "outputs": [
    {
     "ename": "ZeroDivisionError",
     "evalue": "Please enter another number different than zero.",
     "output_type": "error",
     "traceback": [
      "\u001b[0;31m---------------------------------------------------------------------------\u001b[0m",
      "\u001b[0;31mZeroDivisionError\u001b[0m                         Traceback (most recent call last)",
      "Input \u001b[0;32mIn [49]\u001b[0m, in \u001b[0;36m<cell line: 1>\u001b[0;34m()\u001b[0m\n\u001b[0;32m----> 1\u001b[0m \u001b[43mlog_square\u001b[49m\u001b[43m(\u001b[49m\u001b[38;5;241;43m0\u001b[39;49m\u001b[43m)\u001b[49m\n",
      "Input \u001b[0;32mIn [48]\u001b[0m, in \u001b[0;36mlog_square\u001b[0;34m(x)\u001b[0m\n\u001b[1;32m      1\u001b[0m \u001b[38;5;28;01mdef\u001b[39;00m \u001b[38;5;21mlog_square\u001b[39m(x):\n\u001b[1;32m      2\u001b[0m     \u001b[38;5;66;03m# This function takes a numeric value and returns the natural log of the square of the number \u001b[39;00m\n\u001b[1;32m      3\u001b[0m     \u001b[38;5;66;03m# The function raises an error if the number is equal to zero\u001b[39;00m\n\u001b[0;32m   (...)\u001b[0m\n\u001b[1;32m      9\u001b[0m     \u001b[38;5;66;03m# Sample Input: 5\u001b[39;00m\n\u001b[1;32m     10\u001b[0m     \u001b[38;5;66;03m# Sample Output: 3.21887 \u001b[39;00m\n\u001b[1;32m     11\u001b[0m     \u001b[38;5;28;01mif\u001b[39;00m x \u001b[38;5;241m==\u001b[39m \u001b[38;5;241m0\u001b[39m:\n\u001b[0;32m---> 12\u001b[0m         \u001b[38;5;28;01mraise\u001b[39;00m \u001b[38;5;167;01mZeroDivisionError\u001b[39;00m(\u001b[38;5;124m\"\u001b[39m\u001b[38;5;124mPlease enter another number different than zero.\u001b[39m\u001b[38;5;124m\"\u001b[39m)\n\u001b[1;32m     13\u001b[0m     \u001b[38;5;28;01melse\u001b[39;00m:\n\u001b[1;32m     14\u001b[0m         \u001b[38;5;28;01mreturn\u001b[39;00m math\u001b[38;5;241m.\u001b[39mlog(x\u001b[38;5;241m*\u001b[39mx)\n",
      "\u001b[0;31mZeroDivisionError\u001b[0m: Please enter another number different than zero."
     ]
    }
   ],
   "source": [
    "log_square(0)"
   ]
  },
  {
   "cell_type": "code",
   "execution_count": 51,
   "id": "e8a1495c",
   "metadata": {},
   "outputs": [],
   "source": [
    "def check_capital(x):\n",
    "    # This function returns true if the string contains at least one capital letter and throws an error otherwise\n",
    "    # Input: string\n",
    "    # Output: bool or error message\n",
    "    \n",
    "    # Sample Input: 'John'\n",
    "    # Sample Output: True\n",
    "    if x.islower():\n",
    "        raise ValueError('You have to enter a string with at least one capital letter.')\n",
    "    else:\n",
    "        return True\n",
    "    \n",
    "    # Your code here:"
   ]
  },
  {
   "cell_type": "code",
   "execution_count": 52,
   "id": "7469d425",
   "metadata": {},
   "outputs": [
    {
     "data": {
      "text/plain": [
       "True"
      ]
     },
     "execution_count": 52,
     "metadata": {},
     "output_type": "execute_result"
    }
   ],
   "source": [
    "check_capital('John')"
   ]
  },
  {
   "cell_type": "markdown",
   "id": "3eaa236a",
   "metadata": {},
   "source": [
    "### Bonus Challenge - Optional Types"
   ]
  },
  {
   "cell_type": "markdown",
   "id": "5e687519",
   "metadata": {},
   "source": [
    "The optional type is a data type that allows a variable to be either a defined type (like integer, string, etc.) or None. Optional types are defined in the typing library. They allow us to transition Python to a statically typed language (as far as our syntax goes). To read more about the typing library, click here."
   ]
  },
  {
   "cell_type": "markdown",
   "id": "d7400dc9",
   "metadata": {},
   "source": [
    "In the cell below, use the optional type to write a function that can handle both floats and None type. This function converts Celcius to Fahrenheit. If we pass None to the function, we should return None, otherwise, we will compute the converted temperature"
   ]
  },
  {
   "cell_type": "code",
   "execution_count": 53,
   "id": "89a9a556",
   "metadata": {},
   "outputs": [],
   "source": [
    "from typing import Optional\n",
    "\n",
    "def temp_convert(x: Optional[None]) -> Optional[None]:\n",
    "    # This function takes either float or None and returns either None or a converted temperature\n",
    "    # Input: Optional[float]\n",
    "    # Output: Optional[float]\n",
    "    if type(x) == int or type(x) == float:\n",
    "        converted = x*(1.8) + 32\n",
    "        return converted\n",
    "    else:\n",
    "        return Optional[None]\n",
    "    # Sample Input: 5\n",
    "    # Sample Output: 41.0"
   ]
  },
  {
   "cell_type": "code",
   "execution_count": 54,
   "id": "0ae2a480",
   "metadata": {},
   "outputs": [
    {
     "data": {
      "text/plain": [
       "NoneType"
      ]
     },
     "execution_count": 54,
     "metadata": {},
     "output_type": "execute_result"
    }
   ],
   "source": [
    "temp_convert(None)"
   ]
  }
 ],
 "metadata": {
  "kernelspec": {
   "display_name": "Python 3 (ipykernel)",
   "language": "python",
   "name": "python3"
  },
  "language_info": {
   "codemirror_mode": {
    "name": "ipython",
    "version": 3
   },
   "file_extension": ".py",
   "mimetype": "text/x-python",
   "name": "python",
   "nbconvert_exporter": "python",
   "pygments_lexer": "ipython3",
   "version": "3.9.12"
  }
 },
 "nbformat": 4,
 "nbformat_minor": 5
}
