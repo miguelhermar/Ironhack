{
 "cells": [
  {
   "cell_type": "markdown",
   "id": "d24e3463",
   "metadata": {},
   "source": [
    "Challenge 1: Tuples\n",
    "Do you know you can create tuples with only one element?\n",
    "In the cell below, define a variable tup with a single element \"I\".\n",
    "\n",
    "Hint: you need to add a comma (,) after the single element."
   ]
  },
  {
   "cell_type": "code",
   "execution_count": 3,
   "id": "aa02e7dd",
   "metadata": {},
   "outputs": [
    {
     "data": {
      "text/plain": [
       "('I',)"
      ]
     },
     "execution_count": 3,
     "metadata": {},
     "output_type": "execute_result"
    }
   ],
   "source": [
    "tup = ('I',)\n",
    "tup"
   ]
  },
  {
   "cell_type": "code",
   "execution_count": 4,
   "id": "bc5f4719",
   "metadata": {},
   "outputs": [
    {
     "data": {
      "text/plain": [
       "tuple"
      ]
     },
     "execution_count": 4,
     "metadata": {},
     "output_type": "execute_result"
    }
   ],
   "source": [
    "type(tup)"
   ]
  },
  {
   "cell_type": "markdown",
   "id": "55f546b4",
   "metadata": {},
   "source": [
    "Now try to append the following elements to tup.\n",
    "Are you able to do it? Explain.\n",
    "\n",
    "\"r\", \"o\", \"n\", \"h\", \"a\", \"c\", \"k'"
   ]
  },
  {
   "cell_type": "markdown",
   "id": "dde6d958",
   "metadata": {},
   "source": [
    "No, I wasn't able to do it since one can't add elements to a tuple because of their immutable property."
   ]
  },
  {
   "cell_type": "markdown",
   "id": "68c28a7f",
   "metadata": {},
   "source": [
    "How about re-assign a new value to an existing tuple?\n",
    "Re-assign the following elements to tup. Are you able to do it? Explain.\n",
    "\n",
    "\"I\", \"r\", \"o\", \"n\", \"h\", \"a\", \"c\", \"k\""
   ]
  },
  {
   "cell_type": "code",
   "execution_count": 6,
   "id": "0a830b36",
   "metadata": {},
   "outputs": [
    {
     "data": {
      "text/plain": [
       "('I', 'r', 'o', 'n', 'h', 'a', 'c', 'k')"
      ]
     },
     "execution_count": 6,
     "metadata": {},
     "output_type": "execute_result"
    }
   ],
   "source": [
    "tup = (\"I\", \"r\", \"o\", \"n\", \"h\", \"a\", \"c\", \"k\")\n",
    "tup"
   ]
  },
  {
   "cell_type": "markdown",
   "id": "e6bb0d6d",
   "metadata": {},
   "source": [
    "Split tup into tup1 and tup2 with 4 elements in each.\n",
    "tup1 should be (\"I\", \"r\", \"o\", \"n\") and tup2 should be (\"h\", \"a\", \"c\", \"k\").\n",
    "\n",
    "Hint: use positive index numbers for tup1 assignment and use negative index numbers for tup2 assignment. Positive index numbers count from the beginning whereas negative index numbers count from the end of the sequence.\n",
    "\n",
    "Also print tup1 and tup2."
   ]
  },
  {
   "cell_type": "code",
   "execution_count": 22,
   "id": "69782c14",
   "metadata": {},
   "outputs": [
    {
     "name": "stdout",
     "output_type": "stream",
     "text": [
      "('I', 'r', 'o', 'n')\n",
      "('h', 'a', 'c', 'k')\n"
     ]
    }
   ],
   "source": [
    "tup1 = tup[0:4]\n",
    "tup2 = tup[-4:]\n",
    "print(tup1)\n",
    "print(tup2)"
   ]
  },
  {
   "cell_type": "markdown",
   "id": "1a70e289",
   "metadata": {},
   "source": [
    "Add tup1 and tup2 into tup3 using the + operator.\n",
    "Then print tup3 and check if tup3 equals to tup."
   ]
  },
  {
   "cell_type": "code",
   "execution_count": 27,
   "id": "81ff2adb",
   "metadata": {},
   "outputs": [
    {
     "name": "stdout",
     "output_type": "stream",
     "text": [
      "('I', 'r', 'o', 'n', 'h', 'a', 'c', 'k')\n"
     ]
    }
   ],
   "source": [
    "tup3 = tup1 + tup2\n",
    "print(tup3)"
   ]
  },
  {
   "cell_type": "markdown",
   "id": "e74efca5",
   "metadata": {},
   "source": [
    "Count the number of elements in tup1 and tup2. Then add the two counts together and check if the sum is the same as the number of elements in tup3"
   ]
  },
  {
   "cell_type": "code",
   "execution_count": 29,
   "id": "a825fbb9",
   "metadata": {},
   "outputs": [
    {
     "name": "stdout",
     "output_type": "stream",
     "text": [
      "4\n",
      "4\n",
      "8\n",
      "8\n"
     ]
    }
   ],
   "source": [
    "print(len(tup1))\n",
    "print(len(tup2))\n",
    "print(len(tup1) + len(tup2))\n",
    "print(len(tup3))"
   ]
  },
  {
   "cell_type": "markdown",
   "id": "b40c0d20",
   "metadata": {},
   "source": [
    "What is the index number of \"h\" in tup3?"
   ]
  },
  {
   "cell_type": "code",
   "execution_count": 32,
   "id": "ac721e28",
   "metadata": {},
   "outputs": [
    {
     "data": {
      "text/plain": [
       "4"
      ]
     },
     "execution_count": 32,
     "metadata": {},
     "output_type": "execute_result"
    }
   ],
   "source": [
    "tup3.index('h')"
   ]
  },
  {
   "cell_type": "markdown",
   "id": "c5081e9c",
   "metadata": {},
   "source": [
    "Now, use a FOR loop to check whether each letter in the following list is present in tup3:\n",
    "letters = [\"a\", \"b\", \"c\", \"d\", \"e\"]\n",
    "For each letter you check, print True if it is present in tup3 otherwise print False.\n",
    "\n",
    "Hint: you only need to loop letters. You don't need to loop tup3 because there is a Python operator in you can use. See reference."
   ]
  },
  {
   "cell_type": "code",
   "execution_count": 33,
   "id": "ca88d946",
   "metadata": {},
   "outputs": [
    {
     "name": "stdout",
     "output_type": "stream",
     "text": [
      "True\n",
      "False\n",
      "True\n",
      "False\n",
      "False\n"
     ]
    }
   ],
   "source": [
    "letters = [\"a\", \"b\", \"c\", \"d\", \"e\"]\n",
    "\n",
    "for i in letters:\n",
    "    if i in tup3:\n",
    "        print(True)\n",
    "    else:\n",
    "        print(False)"
   ]
  },
  {
   "cell_type": "markdown",
   "id": "aad191e0",
   "metadata": {},
   "source": [
    "How many times does each letter in letters appear in tup3?\n",
    "Print out the number of occurrence of each letter."
   ]
  },
  {
   "cell_type": "code",
   "execution_count": 60,
   "id": "63d74d70",
   "metadata": {},
   "outputs": [
    {
     "name": "stdout",
     "output_type": "stream",
     "text": [
      "La letra a se repite 1 veces\n",
      "La letra b se repite 0 veces\n",
      "La letra c se repite 1 veces\n",
      "La letra d se repite 0 veces\n",
      "La letra e se repite 0 veces\n"
     ]
    }
   ],
   "source": [
    "def countX(tup3, x):\n",
    "    count = 0\n",
    "    for i in tup3:\n",
    "        #print('esto no es el if',i,x)\n",
    "        if (i == x):\n",
    "            #print(i,x)\n",
    "            count = count + 1\n",
    "    return count\n",
    "for i in letters:\n",
    "    print('La letra',i,'se repite',countX(tup3,i),'veces')"
   ]
  },
  {
   "cell_type": "code",
   "execution_count": 61,
   "id": "bd76dee4",
   "metadata": {},
   "outputs": [
    {
     "name": "stdout",
     "output_type": "stream",
     "text": [
      "{'a': 1, 'b': 0, 'c': 1, 'd': 0, 'e': 0}\n"
     ]
    }
   ],
   "source": [
    "print({i:tup3.count(i) for i in letters})"
   ]
  }
 ],
 "metadata": {
  "kernelspec": {
   "display_name": "Python 3 (ipykernel)",
   "language": "python",
   "name": "python3"
  },
  "language_info": {
   "codemirror_mode": {
    "name": "ipython",
    "version": 3
   },
   "file_extension": ".py",
   "mimetype": "text/x-python",
   "name": "python",
   "nbconvert_exporter": "python",
   "pygments_lexer": "ipython3",
   "version": "3.9.12"
  }
 },
 "nbformat": 4,
 "nbformat_minor": 5
}
