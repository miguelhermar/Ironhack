{
 "cells": [
  {
   "cell_type": "markdown",
   "id": "7e8e11a3",
   "metadata": {},
   "source": [
    "### Challenge 1 - Passing a Lambda Expression to a Function"
   ]
  },
  {
   "cell_type": "markdown",
   "id": "7a9f5eae",
   "metadata": {},
   "source": [
    "In the next excercise you will create a function that returns a lambda expression. Create a function called modify_list. The function takes two arguments, a list and a lambda expression. The function iterates through the list and applies the lambda expression to every element in the list."
   ]
  },
  {
   "cell_type": "code",
   "execution_count": 10,
   "id": "a0cfe45c",
   "metadata": {},
   "outputs": [
    {
     "name": "stdout",
     "output_type": "stream",
     "text": [
      "[6, 7, 8, 9, 10]\n"
     ]
    }
   ],
   "source": [
    "l = [1, 2, 3, 4, 5]\n",
    "fudduLambda = lambda y: y+5\n",
    "b = []\n",
    "def modify_list(lst, fudduLambda):\n",
    "    for x in lst:\n",
    "        b.append(fudduLambda(x))\n",
    "\n",
    "modify_list(l, fudduLambda)\n",
    "print(b)"
   ]
  },
  {
   "cell_type": "markdown",
   "id": "536c6fd1",
   "metadata": {},
   "source": [
    "Now we will define a lambda expression that will transform the elements of the list."
   ]
  },
  {
   "cell_type": "markdown",
   "id": "42b5901c",
   "metadata": {},
   "source": [
    "In the cell below, create a lambda expression that converts Celsius to Kelvin. Recall that 0°C + 273.15 = 273.15K"
   ]
  },
  {
   "cell_type": "code",
   "execution_count": 11,
   "id": "1dadc95d",
   "metadata": {},
   "outputs": [
    {
     "data": {
      "text/plain": [
       "[274.15, 275.15, 276.15, 277.15, 278.15]"
      ]
     },
     "execution_count": 11,
     "metadata": {},
     "output_type": "execute_result"
    }
   ],
   "source": [
    "kelvin = lambda i: i + 273.15\n",
    "celsius = []\n",
    "\n",
    "for i in l:\n",
    "    celsius.append(kelvin(i))\n",
    "    \n",
    "celsius"
   ]
  },
  {
   "cell_type": "markdown",
   "id": "62f842ef",
   "metadata": {},
   "source": [
    "Finally, convert the list of temperatures below from Celsius to Kelvin.\n"
   ]
  },
  {
   "cell_type": "code",
   "execution_count": 12,
   "id": "634fe886",
   "metadata": {},
   "outputs": [
    {
     "data": {
      "text/plain": [
       "[285.15, 296.15, 311.15, 218.14999999999998, 297.15]"
      ]
     },
     "execution_count": 12,
     "metadata": {},
     "output_type": "execute_result"
    }
   ],
   "source": [
    "temps = [12, 23, 38, -55, 24]\n",
    "\n",
    "kelvin_2 = lambda i: i + 273.15\n",
    "kelvin_temp = []\n",
    "\n",
    "for i in temps:\n",
    "    kelvin_temp.append(kelvin_2(i))\n",
    "    \n",
    "kelvin_temp"
   ]
  },
  {
   "cell_type": "markdown",
   "id": "5e6bab00",
   "metadata": {},
   "source": [
    "In this part, we will define a function that returns a lambda expression"
   ]
  },
  {
   "cell_type": "markdown",
   "id": "3a9b01dd",
   "metadata": {},
   "source": [
    "In the cell below, write a lambda expression that takes two numbers and returns 1 if one is divisible by the other and zero otherwise. Call the lambda expression mod."
   ]
  },
  {
   "cell_type": "code",
   "execution_count": 13,
   "id": "4e7771e6",
   "metadata": {},
   "outputs": [
    {
     "data": {
      "text/plain": [
       "0"
      ]
     },
     "execution_count": 13,
     "metadata": {},
     "output_type": "execute_result"
    }
   ],
   "source": [
    "mod = lambda a,b: 1 if (a%b == 0) or (b%a == 0) else 0\n",
    "mod(10, 4)"
   ]
  },
  {
   "cell_type": "markdown",
   "id": "b91d5a05",
   "metadata": {},
   "source": [
    "Now create a function that returns mod. The function only takes one argument - the first number in the mod lambda function."
   ]
  },
  {
   "cell_type": "markdown",
   "id": "5d106d44",
   "metadata": {},
   "source": [
    "Note: the lambda function above took two arguments, the lambda function in the return statement only takes one argument but also uses the argument passed to the function."
   ]
  },
  {
   "cell_type": "code",
   "execution_count": 14,
   "id": "56357d6f",
   "metadata": {},
   "outputs": [],
   "source": [
    "def divisor(b):\n",
    "    c = float(input(\"Insert a number: \"))\n",
    "    return mod(b, c)"
   ]
  },
  {
   "cell_type": "code",
   "execution_count": 15,
   "id": "84199fad",
   "metadata": {},
   "outputs": [
    {
     "name": "stdout",
     "output_type": "stream",
     "text": [
      "Insert a number: 4\n"
     ]
    },
    {
     "data": {
      "text/plain": [
       "0"
      ]
     },
     "execution_count": 15,
     "metadata": {},
     "output_type": "execute_result"
    }
   ],
   "source": [
    "divisor(6)"
   ]
  },
  {
   "cell_type": "markdown",
   "id": "37ea6878",
   "metadata": {},
   "source": [
    "Finally, pass the number 5 to divisor. Now the function will check whether a number is divisble by 5. Assign this function to divisible5."
   ]
  },
  {
   "cell_type": "code",
   "execution_count": 16,
   "id": "e1b78ada",
   "metadata": {},
   "outputs": [
    {
     "name": "stdout",
     "output_type": "stream",
     "text": [
      "Insert a number: 56\n"
     ]
    },
    {
     "data": {
      "text/plain": [
       "0"
      ]
     },
     "execution_count": 16,
     "metadata": {},
     "output_type": "execute_result"
    }
   ],
   "source": [
    "divisor(5)"
   ]
  },
  {
   "cell_type": "code",
   "execution_count": 17,
   "id": "a99522c7",
   "metadata": {},
   "outputs": [],
   "source": [
    "def divisible5():\n",
    "    return divisor(5)"
   ]
  },
  {
   "cell_type": "markdown",
   "id": "01037f5b",
   "metadata": {},
   "source": [
    "Test your function with the following test cases:"
   ]
  },
  {
   "cell_type": "code",
   "execution_count": 18,
   "id": "3f3f56c1",
   "metadata": {},
   "outputs": [
    {
     "name": "stdout",
     "output_type": "stream",
     "text": [
      "Insert a number: 41\n"
     ]
    },
    {
     "data": {
      "text/plain": [
       "0"
      ]
     },
     "execution_count": 18,
     "metadata": {},
     "output_type": "execute_result"
    }
   ],
   "source": [
    "divisible5()"
   ]
  },
  {
   "cell_type": "code",
   "execution_count": 19,
   "id": "5367b520",
   "metadata": {},
   "outputs": [
    {
     "name": "stdout",
     "output_type": "stream",
     "text": [
      "Insert a number: 45\n"
     ]
    },
    {
     "data": {
      "text/plain": [
       "1"
      ]
     },
     "execution_count": 19,
     "metadata": {},
     "output_type": "execute_result"
    }
   ],
   "source": [
    "divisible5()"
   ]
  },
  {
   "cell_type": "markdown",
   "id": "ba25a6a7",
   "metadata": {},
   "source": [
    "### Challenge 2 - Using Lambda Expressions in List Comprehensions"
   ]
  },
  {
   "cell_type": "markdown",
   "id": "08d9c848",
   "metadata": {},
   "source": [
    "In the following challenge, we will combine two lists using a lambda expression in a list comprehension.\n",
    "\n",
    "To do this, we will need to introduce the zip function. The zip function returns an iterator of tuples.\n",
    "\n",
    "The way zip function works with list has been shown below:\n",
    "\n"
   ]
  },
  {
   "cell_type": "code",
   "execution_count": 25,
   "id": "bb72f78f",
   "metadata": {},
   "outputs": [
    {
     "data": {
      "text/plain": [
       "[('Green', 'eggs'),\n",
       " ('cheese', 'cheese'),\n",
       " ('English', 'cucumber'),\n",
       " ('tomato', 'tomato')]"
      ]
     },
     "execution_count": 25,
     "metadata": {},
     "output_type": "execute_result"
    }
   ],
   "source": [
    "list1 = ['Green', 'cheese', 'English', 'tomato']\n",
    "list2 = ['eggs', 'cheese', 'cucumber', 'tomato']\n",
    "zipped = zip(list1,list2)\n",
    "list(zipped)"
   ]
  },
  {
   "cell_type": "markdown",
   "id": "e8cb075f",
   "metadata": {},
   "source": [
    "In this exercise we will try to compare the elements on the same index in the two lists. We want to zip the two lists and then use a lambda expression to compare if: list1 element > list2 element"
   ]
  },
  {
   "cell_type": "code",
   "execution_count": 29,
   "id": "f4c60d1d",
   "metadata": {},
   "outputs": [
    {
     "data": {
      "text/plain": [
       "[(1, 2), (2, 3), (3, 4), (4, 5)]"
      ]
     },
     "execution_count": 29,
     "metadata": {},
     "output_type": "execute_result"
    }
   ],
   "source": [
    "list1 = [1,2,3,4]\n",
    "list2 = [2,3,4,5]\n",
    "zipped_2 = zip(list1, list2)\n",
    "list(zipped_2)"
   ]
  },
  {
   "cell_type": "code",
   "execution_count": 37,
   "id": "d863622f",
   "metadata": {},
   "outputs": [
    {
     "name": "stdout",
     "output_type": "stream",
     "text": [
      "False\n",
      "False\n",
      "False\n",
      "False\n"
     ]
    }
   ],
   "source": [
    "compare = lambda elem1, elem2:  True if elem1 > elem2 else False\n",
    "\n",
    "for i, j in zip(list1, list2):\n",
    "    compared = compare(i, j)\n",
    "    print(compared)\n",
    "   "
   ]
  },
  {
   "cell_type": "markdown",
   "id": "ff9dd920",
   "metadata": {},
   "source": [
    "### Challenge 3 - Using Lambda Expressions as Arguments"
   ]
  },
  {
   "cell_type": "markdown",
   "id": "8f7c128a",
   "metadata": {},
   "source": [
    "In this challenge, we will zip together two lists and sort by the resulting tuple.\n",
    "In the cell below, take the two lists provided, zip them together and sort by the first letter of the second element of each tuple. Do this using a lambda function."
   ]
  },
  {
   "cell_type": "code",
   "execution_count": 41,
   "id": "3b06b9ba",
   "metadata": {},
   "outputs": [
    {
     "data": {
      "text/plain": [
       "[('Engineering', 'Lab'),\n",
       " ('Computer Science', 'Homework'),\n",
       " ('Political Science', 'Essay'),\n",
       " ('Mathematics', 'Module')]"
      ]
     },
     "execution_count": 41,
     "metadata": {},
     "output_type": "execute_result"
    }
   ],
   "source": [
    "list1 = ['Engineering', 'Computer Science', 'Political Science', 'Mathematics']\n",
    "list2 = ['Lab', 'Homework', 'Essay', 'Module']\n",
    "zipped_3 = zip(list1, list2)\n",
    "list(zipped_3)"
   ]
  },
  {
   "cell_type": "code",
   "execution_count": 44,
   "id": "f989011f",
   "metadata": {},
   "outputs": [
    {
     "data": {
      "text/plain": [
       "[('Political Science', 'Essay'),\n",
       " ('Computer Science', 'Homework'),\n",
       " ('Engineering', 'Lab'),\n",
       " ('Mathematics', 'Module')]"
      ]
     },
     "execution_count": 44,
     "metadata": {},
     "output_type": "execute_result"
    }
   ],
   "source": [
    "second_elem = lambda x: x[-1]\n",
    "sorted(zip(list1, list2), key=second_elem)"
   ]
  },
  {
   "cell_type": "markdown",
   "id": "c0d401d7",
   "metadata": {},
   "source": [
    "### Bonus Challenge - Sort a Dictionary by Values"
   ]
  },
  {
   "cell_type": "markdown",
   "id": "d82bcadb",
   "metadata": {},
   "source": [
    "Given the dictionary below, sort it by values rather than by keys. Use a lambda function to specify the values as a sorting key.\n"
   ]
  },
  {
   "cell_type": "code",
   "execution_count": 55,
   "id": "375e40bb",
   "metadata": {},
   "outputs": [],
   "source": [
    "d = {'Honda': 1997, 'Toyota': 1995, 'Audi': 2001, 'BMW': 2005}"
   ]
  },
  {
   "cell_type": "code",
   "execution_count": 57,
   "id": "923a0138",
   "metadata": {},
   "outputs": [
    {
     "data": {
      "text/plain": [
       "dict"
      ]
     },
     "execution_count": 57,
     "metadata": {},
     "output_type": "execute_result"
    }
   ],
   "source": [
    "type(d)"
   ]
  },
  {
   "cell_type": "code",
   "execution_count": 97,
   "id": "04e91141",
   "metadata": {},
   "outputs": [
    {
     "name": "stdout",
     "output_type": "stream",
     "text": [
      "['Audi', 'BMW', 'Honda', 'Toyota']\n",
      "[1995, 1997, 2001, 2005]\n",
      "[('Audi', 2001), ('BMW', 2005), ('Honda', 1997), ('Toyota', 1995)]\n"
     ]
    }
   ],
   "source": [
    "## Sorted by keys by default\n",
    "\n",
    "print(sorted(d.keys()))\n",
    "print((sorted(d.values())))\n",
    "print(sorted(d.items()))"
   ]
  },
  {
   "cell_type": "code",
   "execution_count": 98,
   "id": "c01c2f5e",
   "metadata": {},
   "outputs": [
    {
     "data": {
      "text/plain": [
       "[('Toyota', 1995), ('Honda', 1997), ('Audi', 2001), ('BMW', 2005)]"
      ]
     },
     "execution_count": 98,
     "metadata": {},
     "output_type": "execute_result"
    }
   ],
   "source": [
    "## Sorted by values with lambda function\n",
    "\n",
    "values = lambda x: x[1]\n",
    "sorted(d.items(), key=values)"
   ]
  }
 ],
 "metadata": {
  "kernelspec": {
   "display_name": "Python 3 (ipykernel)",
   "language": "python",
   "name": "python3"
  },
  "language_info": {
   "codemirror_mode": {
    "name": "ipython",
    "version": 3
   },
   "file_extension": ".py",
   "mimetype": "text/x-python",
   "name": "python",
   "nbconvert_exporter": "python",
   "pygments_lexer": "ipython3",
   "version": "3.9.12"
  }
 },
 "nbformat": 4,
 "nbformat_minor": 5
}
