{
 "cells": [
  {
   "cell_type": "markdown",
   "id": "4c323a6b",
   "metadata": {},
   "source": [
    "## Intro to Bayesian Statistics Lab"
   ]
  },
  {
   "cell_type": "markdown",
   "id": "bbf3c249",
   "metadata": {},
   "source": [
    "Complete the following set of exercises to solidify your knowledge of Bayesian statistics and Bayesian data analysis.\n",
    "\n"
   ]
  },
  {
   "cell_type": "code",
   "execution_count": 110,
   "id": "91f1944e",
   "metadata": {},
   "outputs": [],
   "source": [
    "import pandas as pd\n",
    "import numpy as np\n",
    "import matplotlib.pyplot as plt\n",
    "from scipy import stats\n",
    "import seaborn as sns\n",
    "sns.set_theme(context = \"notebook\", style = \"darkgrid\")"
   ]
  },
  {
   "cell_type": "markdown",
   "id": "5d675bbf",
   "metadata": {},
   "source": [
    "### 1. Cookie Problem\n"
   ]
  },
  {
   "cell_type": "markdown",
   "id": "69f0cb20",
   "metadata": {},
   "source": [
    "Suppose we have two bowls of cookies. Bowl 1 contains 30 vanilla cookies and 10 chocolate cookies. Bowl 2 contains 20 of each. You randomly pick one cookie out of one of the bowls, and it is vanilla. Use Bayes Theorem to calculate the probability that the vanilla cookie you picked came from Bowl 1?\n"
   ]
  },
  {
   "cell_type": "code",
   "execution_count": 5,
   "id": "0be737bb",
   "metadata": {},
   "outputs": [],
   "source": [
    "## P(A|B) = P((B|A)*P(A)) / P(B)\n",
    "\n",
    "## P (I, x=1) ---> probability that vanilla cookie belongs to Bowl I"
   ]
  },
  {
   "cell_type": "code",
   "execution_count": 17,
   "id": "8060974f",
   "metadata": {},
   "outputs": [],
   "source": [
    "p_vani_I = 0.75\n",
    "p_vani_II = 0.50\n",
    "\n",
    "\n",
    "dist_I = stats.binom(1, p_vani_I) \n",
    "dist_II = stats.binom(1, p_vani_II)"
   ]
  },
  {
   "cell_type": "code",
   "execution_count": 18,
   "id": "3c1415b4",
   "metadata": {},
   "outputs": [
    {
     "data": {
      "text/plain": [
       "0.75"
      ]
     },
     "execution_count": 18,
     "metadata": {},
     "output_type": "execute_result"
    }
   ],
   "source": [
    "dist_I.pmf(1)"
   ]
  },
  {
   "cell_type": "code",
   "execution_count": 21,
   "id": "6f7840b7",
   "metadata": {},
   "outputs": [
    {
     "data": {
      "text/plain": [
       "0.6"
      ]
     },
     "execution_count": 21,
     "metadata": {},
     "output_type": "execute_result"
    }
   ],
   "source": [
    "p_A = 0.5 # probability of messing with Bowl 1\n",
    "p_B =  0.5 * dist_I.pmf(1) + 0.5 * dist_II.pmf(1) ## prob of picking one vanilla cookie from either bowl\n",
    "p_BA = dist_I.pmf(1) ## prob of getting one vanilla cookie from Bowl I\n",
    "\n",
    "p_AB = (p_BA * p_A)/p_B\n",
    "p_AB"
   ]
  },
  {
   "cell_type": "markdown",
   "id": "b8308823",
   "metadata": {},
   "source": [
    "What is the probability that it came from Bowl 2?"
   ]
  },
  {
   "cell_type": "code",
   "execution_count": 24,
   "id": "76b016b4",
   "metadata": {},
   "outputs": [
    {
     "data": {
      "text/plain": [
       "0.4"
      ]
     },
     "execution_count": 24,
     "metadata": {},
     "output_type": "execute_result"
    }
   ],
   "source": [
    "p_A = 0.5 # probability of messing with Bowl 2\n",
    "p_B =  0.5 * dist_I.pmf(1) + 0.5 * dist_II.pmf(1) ## prob of picking one vanilla cookie from either bowl\n",
    "p_BA = dist_II.pmf(1) ## prob of getting one vanilla cookie from Bowl II\n",
    "\n",
    "p_AB = (p_BA * p_A)/p_B\n",
    "p_AB"
   ]
  },
  {
   "cell_type": "markdown",
   "id": "64dc9c8f",
   "metadata": {},
   "source": [
    "What if the cookie you had picked was chocolate? What are the probabilities that the chocolate cookie came from Bowl 1 and Bowl 2 respectively?\n",
    "\n"
   ]
  },
  {
   "cell_type": "code",
   "execution_count": 26,
   "id": "8debc663",
   "metadata": {},
   "outputs": [],
   "source": [
    "p_choc_I = 0.25\n",
    "p_choc_II = 0.50\n",
    "\n",
    "\n",
    "dist_I_choc = stats.binom(1, p_choc_I) \n",
    "dist_II_choc = stats.binom(1, p_choc_II)"
   ]
  },
  {
   "cell_type": "code",
   "execution_count": 28,
   "id": "f3d9cdba",
   "metadata": {},
   "outputs": [
    {
     "data": {
      "text/plain": [
       "0.25"
      ]
     },
     "execution_count": 28,
     "metadata": {},
     "output_type": "execute_result"
    }
   ],
   "source": [
    "dist_I_choc.pmf(1)"
   ]
  },
  {
   "cell_type": "code",
   "execution_count": 29,
   "id": "d9098992",
   "metadata": {},
   "outputs": [
    {
     "data": {
      "text/plain": [
       "0.3333333333333333"
      ]
     },
     "execution_count": 29,
     "metadata": {},
     "output_type": "execute_result"
    }
   ],
   "source": [
    "## FOR BOWL 1\n",
    "\n",
    "p_A = 0.5 # probability of messing with Bowl 1\n",
    "p_B =  0.5 * dist_I_choc.pmf(1) + 0.5 * dist_II_choc.pmf(1) ## prob of picking one choc cookie from either bowl\n",
    "p_BA = dist_I_choc.pmf(1) ## prob of getting one choc cookie from Bowl I\n",
    "\n",
    "p_AB = (p_BA * p_A)/p_B\n",
    "p_AB"
   ]
  },
  {
   "cell_type": "code",
   "execution_count": 31,
   "id": "c90f0d18",
   "metadata": {},
   "outputs": [
    {
     "data": {
      "text/plain": [
       "0.6666666666666666"
      ]
     },
     "execution_count": 31,
     "metadata": {},
     "output_type": "execute_result"
    }
   ],
   "source": [
    "## FOR BOWL 2\n",
    "\n",
    "p_A = 0.5 # probability of messing with Bowl 2\n",
    "p_B =  0.5 * dist_I_choc.pmf(1) + 0.5 * dist_II_choc.pmf(1) ## prob of picking one choc cookie from either bowl\n",
    "p_BA = dist_II_choc.pmf(1) ## prob of getting one choc cookie from Bowl II\n",
    "\n",
    "p_AB = (p_BA * p_A)/p_B\n",
    "p_AB"
   ]
  },
  {
   "cell_type": "markdown",
   "id": "23b699d5",
   "metadata": {},
   "source": [
    "### 2. Candy Problem\n"
   ]
  },
  {
   "cell_type": "markdown",
   "id": "3ec9cf05",
   "metadata": {},
   "source": [
    "Suppose you have two bags of candies:\n",
    "\n",
    "In Bag 1, the mix of colors is:\n",
    "\n",
    "Brown - 30% <br/>\n",
    "Yellow - 20% <br/>\n",
    "Red - 20% <br/>\n",
    "Green - 10% <br/>\n",
    "Orange - 10% <br/>\n",
    "Tan - 10% <br/>\n",
    "\n",
    "In Bag 2, the mix of colors is:\n",
    "\n",
    "Blue - 24% <br/>\n",
    "Green - 20% <br/>\n",
    "Orange - 16% <br/>\n",
    "Yellow - 14% <br/>\n",
    "Red - 13% <br/>\n",
    "Brown - 13% <br/>\n",
    "Not knowing which bag is which, you randomly draw one candy from each bag. One is yellow and one is green. What is the probability that the yellow one came from the Bag 1?\n",
    "\n",
    "Hint: For the likelihoods, you will need to multiply the probabilities of drawing yellow from one bag and green from the other bag and vice versa.\n",
    "\n"
   ]
  },
  {
   "cell_type": "code",
   "execution_count": 1,
   "id": "8f7bdf65",
   "metadata": {},
   "outputs": [],
   "source": [
    "## P(A|B) = P((B|A)*P(A)) / P(B)\n",
    "\n",
    "## P (A = I, A=yellow B=green) --> probability that yellow candy came from Bag 1 given that we have a green\n",
    "# candy and a yellow candy"
   ]
  },
  {
   "cell_type": "code",
   "execution_count": 2,
   "id": "e6aab698",
   "metadata": {},
   "outputs": [],
   "source": [
    "## P(A) --> candy A coming from Bag 1 (hypothesis)\n",
    "\n",
    "## P(B) --> we have a green candy and a yellow candy independent from Bag (normalizing constant)\n",
    "\n",
    "## P(B|A) -->  probability that we have a green candy given that candy A came from Bag 1 \n",
    "# (likelihood: chance of observing our data given our hypothesis)"
   ]
  },
  {
   "cell_type": "code",
   "execution_count": 106,
   "id": "8217a2c2",
   "metadata": {},
   "outputs": [],
   "source": [
    "p_yellow_I = 0.2\n",
    "p_yellow_II = 0.14\n",
    "\n",
    "p_green_I = 0.1\n",
    "p_green_II = 0.2"
   ]
  },
  {
   "cell_type": "code",
   "execution_count": 4,
   "id": "f6dbc643",
   "metadata": {},
   "outputs": [
    {
     "data": {
      "text/plain": [
       "0.7407407407407408"
      ]
     },
     "execution_count": 4,
     "metadata": {},
     "output_type": "execute_result"
    }
   ],
   "source": [
    "## Yellow coming from Bag 1\n",
    "\n",
    "p_A = 0.5 \n",
    "p_B =  (0.2 * 0.2 * 0.5) + (0.14 * 0.1 * 0.5) \n",
    "\n",
    "p_BA = 0.2 * 0.2 # probability that we have a green candy given that candy A came from Bag 1 \n",
    "p_AB = (p_BA * p_A)/p_B\n",
    "p_AB"
   ]
  },
  {
   "cell_type": "markdown",
   "id": "c24d55ab",
   "metadata": {},
   "source": [
    "What is the probability that the yellow candy came from Bag 2?\n",
    "\n"
   ]
  },
  {
   "cell_type": "code",
   "execution_count": 5,
   "id": "dd84983c",
   "metadata": {},
   "outputs": [
    {
     "data": {
      "text/plain": [
       "0.25925925925925924"
      ]
     },
     "execution_count": 5,
     "metadata": {},
     "output_type": "execute_result"
    }
   ],
   "source": [
    "## Yellow coming from Bag 2\n",
    "\n",
    "p_A = 0.5\n",
    "p_B =  (0.2 * 0.2 * 0.5) + (0.14 * 0.1 * 0.5) \n",
    "p_BA = 0.14 * 0.1  # probability that we have a green candy given that candy A came from Bag 2 \n",
    "\n",
    "p_AB = (p_BA * p_A)/p_B\n",
    "p_AB"
   ]
  },
  {
   "cell_type": "markdown",
   "id": "8a347bcd",
   "metadata": {},
   "source": [
    "What are the probabilities that the green one came from Bag 1 and Bag 2 respectively?\n",
    "\n"
   ]
  },
  {
   "cell_type": "code",
   "execution_count": 7,
   "id": "65a2ea26",
   "metadata": {},
   "outputs": [
    {
     "data": {
      "text/plain": [
       "0.25925925925925924"
      ]
     },
     "execution_count": 7,
     "metadata": {},
     "output_type": "execute_result"
    }
   ],
   "source": [
    "## Green coming from Bag 1 \n",
    "\n",
    "p_A = 0.5\n",
    "p_B =  (0.2 * 0.2 * 0.5) + (0.14 * 0.1 * 0.5) \n",
    "p_BA = 0.14 * 0.1 # probability that we have a yellow candy given that candy B came from Bag 1 \n",
    "\n",
    "p_AB = (p_BA * p_A)/p_B\n",
    "p_AB"
   ]
  },
  {
   "cell_type": "code",
   "execution_count": 6,
   "id": "7497dd39",
   "metadata": {},
   "outputs": [
    {
     "data": {
      "text/plain": [
       "0.7407407407407408"
      ]
     },
     "execution_count": 6,
     "metadata": {},
     "output_type": "execute_result"
    }
   ],
   "source": [
    "## Green coming from Bag 2\n",
    "\n",
    "p_A = 0.5\n",
    "p_B =  (0.2 * 0.2 * 0.5) + (0.14 * 0.1 * 0.5) \n",
    "p_BA = 0.2 * 0.2 # probability that we have a green candy given that candy B came from Bag 2\n",
    "\n",
    "p_AB = (p_BA * p_A)/p_B\n",
    "p_AB"
   ]
  },
  {
   "cell_type": "markdown",
   "id": "330ecbdf",
   "metadata": {},
   "source": [
    "### 3. Monty Hall Problem\n"
   ]
  },
  {
   "cell_type": "markdown",
   "id": "f6d00b8b",
   "metadata": {},
   "source": [
    "Suppose you are a contestant on the popular game show Let's Make a Deal. The host of the show (Monty Hall) presents you with three doors - Door A, Door B, and Door C. He tells you that there is a sports car behind one of them and if you choose the correct one, you win the car!\n",
    "\n",
    "You select Door A, but then Monty makes things a little more interesting. He opens Door B to reveal that there is no sports car behind it and asks you if you would like to stick with your choice of Door A or switch your choice to Door C. Given this new information, what are the probabilities of you winning the car if you stick with Door A versus if you switch to Door C?\n",
    "\n"
   ]
  },
  {
   "cell_type": "code",
   "execution_count": 153,
   "id": "3dc8b364",
   "metadata": {},
   "outputs": [],
   "source": [
    "## When Monty opens a door, we are getting new information about the problem. \n",
    "## Bayes' theorem uses that information and updates our probabilities."
   ]
  },
  {
   "cell_type": "code",
   "execution_count": 154,
   "id": "3e1dcaeb",
   "metadata": {},
   "outputs": [],
   "source": [
    "## P(A|B) = P((B|A)*P(A)) / P(B)\n",
    "\n",
    "## P (car in Door A, Door B opened) ---> probability of finding the car in Door A given that Monty opened Door B"
   ]
  },
  {
   "cell_type": "code",
   "execution_count": null,
   "id": "8c17cfeb",
   "metadata": {},
   "outputs": [],
   "source": [
    "## P(A) --> prob of finding the car in Door A (1/3)\n",
    "\n",
    "## P(B) --> prob of Monty opening Door B (1/2) --> because Monty can not choose the door we picked.\n",
    "\n",
    "## P(B|A) --> prob of Monty opening Door B given that the car is behind Door A (1/2)\n",
    "# If the car is truly behind Door A, then Monty can pick one out of the two remaining doors to open. \n",
    "# This value is also 1/2."
   ]
  },
  {
   "cell_type": "code",
   "execution_count": 155,
   "id": "5bfab9a1",
   "metadata": {},
   "outputs": [
    {
     "data": {
      "text/plain": [
       "0.33"
      ]
     },
     "execution_count": 155,
     "metadata": {},
     "output_type": "execute_result"
    }
   ],
   "source": [
    "p_A = 0.33 \n",
    "p_B = 0.50\n",
    "p_BA = 0.50\n",
    "\n",
    "p_AB = (p_BA * p_A)/p_B\n",
    "p_AB"
   ]
  },
  {
   "cell_type": "code",
   "execution_count": 157,
   "id": "ef5bb55d",
   "metadata": {},
   "outputs": [
    {
     "data": {
      "text/plain": [
       "0.6699999999999999"
      ]
     },
     "execution_count": 157,
     "metadata": {},
     "output_type": "execute_result"
    }
   ],
   "source": [
    "1 - p_AB ## prob of finding the car when we switch to Door C"
   ]
  },
  {
   "cell_type": "code",
   "execution_count": 158,
   "id": "ab4310dd",
   "metadata": {},
   "outputs": [],
   "source": [
    "## P (Door C, Door B) ---> probability of finding the car when we switch to Door C given that Monty opened Door B\n",
    "\n",
    "## P(A) --> prob of finding the car in Door C (1/3)\n",
    "\n",
    "## P(B) --> prob of Monty opening Door B (1/2) --> because Monty can not choose the door we picked.\n",
    "\n",
    "## P(B|A) --> prob of Monty opening Door B given that the car is behind Door C (1)\n",
    "# If the car is truly behind Door C,  and we picked Door A as our first guess, \n",
    "## Monty has to open Door C. The probability is 1."
   ]
  },
  {
   "cell_type": "code",
   "execution_count": 160,
   "id": "83abd3e3",
   "metadata": {},
   "outputs": [
    {
     "data": {
      "text/plain": [
       "0.66"
      ]
     },
     "execution_count": 160,
     "metadata": {},
     "output_type": "execute_result"
    }
   ],
   "source": [
    "p_A = 0.33 \n",
    "p_B = 0.50\n",
    "p_BA = 1\n",
    "\n",
    "p_AB = (p_BA * p_A)/p_B\n",
    "p_AB"
   ]
  },
  {
   "cell_type": "markdown",
   "id": "19ea959f",
   "metadata": {},
   "source": [
    "### 4. Bayesian Analysis\n"
   ]
  },
  {
   "cell_type": "markdown",
   "id": "ccd2dfc9",
   "metadata": {},
   "source": [
    "Suppose you work for a landscaping company, and they want to advertise their service online. They create an ad and sit back waiting for the money to roll in. On the first day, the ad sends 100 visitors to the site and 14 of them sign up for landscaping services. Create a generative model to come up with the posterior distribution and produce a visualization of what the posterior distribution would look like given the observed data.\n",
    "\n"
   ]
  },
  {
   "cell_type": "code",
   "execution_count": 108,
   "id": "024aa1da",
   "metadata": {},
   "outputs": [],
   "source": [
    "# 1. Specifiy our prior: prob distribution that encodes the knowledge about the parameters of our model"
   ]
  },
  {
   "cell_type": "code",
   "execution_count": 111,
   "id": "c4f285ed",
   "metadata": {},
   "outputs": [
    {
     "data": {
      "image/png": "[encoded data removed]",
      "text/plain": [
       "<Figure size 432x288 with 1 Axes>"
      ]
     },
     "metadata": {},
     "output_type": "display_data"
    }
   ],
   "source": [
    "# Defining our prior\n",
    "n_draws = 100000\n",
    "prior = np.random.uniform(0, 1, size=n_draws)\n",
    "sns.histplot(prior); "
   ]
  },
  {
   "cell_type": "code",
   "execution_count": 115,
   "id": "5ec4d424",
   "metadata": {},
   "outputs": [],
   "source": [
    "# Defining our generative model\n",
    "def generative_model(n, p): ## sampling function: creates random samples from prior distribution and generates observable data\n",
    "    result = np.random.binomial(n, p)\n",
    "    return result"
   ]
  },
  {
   "cell_type": "code",
   "execution_count": 114,
   "id": "d136bd98",
   "metadata": {},
   "outputs": [],
   "source": [
    "observed = (100, 14)\n",
    "sim_data = list()\n",
    "\n",
    "for p in prior:\n",
    "    sim_data.append(generative_model(observed[0], p))"
   ]
  },
  {
   "cell_type": "code",
   "execution_count": 127,
   "id": "0e163107",
   "metadata": {},
   "outputs": [
    {
     "data": {
      "image/png": "[encoded data removed]",
      "text/plain": [
       "<Figure size 432x288 with 1 Axes>"
      ]
     },
     "metadata": {},
     "output_type": "display_data"
    }
   ],
   "source": [
    "plt.hist(sim_data);"
   ]
  },
  {
   "cell_type": "markdown",
   "id": "ece163dc",
   "metadata": {},
   "source": [
    "Now we can filter all simulations generated and keep only those that match our observed data points"
   ]
  },
  {
   "cell_type": "code",
   "execution_count": 116,
   "id": "e305c699",
   "metadata": {},
   "outputs": [
    {
     "data": {
      "image/png": "[encoded data removed]",
      "text/plain": [
       "<Figure size 432x288 with 1 Axes>"
      ]
     },
     "metadata": {},
     "output_type": "display_data"
    }
   ],
   "source": [
    "posterior = prior[list(map(lambda x: x == observed[1], sim_data))]\n",
    "plt.hist(posterior);"
   ]
  },
  {
   "cell_type": "markdown",
   "id": "341918e2",
   "metadata": {},
   "source": [
    "Produce a set of descriptive statistics for the posterior distribution.\n",
    "\n"
   ]
  },
  {
   "cell_type": "code",
   "execution_count": 132,
   "id": "8c4e8f0c",
   "metadata": {},
   "outputs": [],
   "source": [
    "q5, med, q95 = np.round(np.quantile(posterior, [0.05, 0.5, 0.95]), 2)\n",
    "vals, counts = np.unique(np.round(posterior, 2), return_counts=True)\n",
    "mode_value = vals[np.argwhere(counts == np.max(counts)).flatten()]"
   ]
  },
  {
   "cell_type": "markdown",
   "id": "6885b68d",
   "metadata": {},
   "source": [
    "What is the 90% credible interval range?\n",
    "\n"
   ]
  },
  {
   "cell_type": "code",
   "execution_count": 134,
   "id": "7de257ca",
   "metadata": {},
   "outputs": [
    {
     "name": "stdout",
     "output_type": "stream",
     "text": [
      "Q5: 0.09 - Med.: 0.14 - Q95: 0.21\n"
     ]
    }
   ],
   "source": [
    "print(f\"Q5: {q5} - Med.: {med} - Q95: {q95}\") # We shrunk the confidence interval, which is good"
   ]
  },
  {
   "cell_type": "markdown",
   "id": "662f296c",
   "metadata": {},
   "source": [
    "What is the Maximum Likelihood Estimate?\n",
    "\n"
   ]
  },
  {
   "cell_type": "code",
   "execution_count": 138,
   "id": "556bdd77",
   "metadata": {},
   "outputs": [
    {
     "name": "stdout",
     "output_type": "stream",
     "text": [
      "MLE: [0.13]\n"
     ]
    }
   ],
   "source": [
    "print(f\"MLE: {mode_value}\")"
   ]
  }
 ],
 "metadata": {
  "kernelspec": {
   "display_name": "Python 3 (ipykernel)",
   "language": "python",
   "name": "python3"
  },
  "language_info": {
   "codemirror_mode": {
    "name": "ipython",
    "version": 3
   },
   "file_extension": ".py",
   "mimetype": "text/x-python",
   "name": "python",
   "nbconvert_exporter": "python",
   "pygments_lexer": "ipython3",
   "version": "3.9.12"
  }
 },
 "nbformat": 4,
 "nbformat_minor": 5
}
